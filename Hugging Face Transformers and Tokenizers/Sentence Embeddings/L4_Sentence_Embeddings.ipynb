{
 "cells": [
  {
   "cell_type": "markdown",
   "id": "93de5736",
   "metadata": {},
   "source": [
    "# Lesson 4: Sentence Embeddings"
   ]
  },
  {
   "cell_type": "markdown",
   "id": "c9363203",
   "metadata": {},
   "source": [
    "A sentence embedding is a numerical vector that represents the meaning of a full sentence in a way that machines can understand. It transforms natural language into a fixed-size set of numbers (like a list of 384 or 768 floats) that captures its semantic content—not just the words, but the overall intent or meaning."
   ]
  },
  {
   "cell_type": "markdown",
   "id": "632f7aac-6786-4ea6-8fa3-25a6cebbd2e5",
   "metadata": {},
   "source": [
    "- our target is finding the sentence similarity which is important for grouping "
   ]
  },
  {
   "cell_type": "code",
   "execution_count": 1,
   "id": "058015a6-19cf-4f80-940d-f4af86cb589c",
   "metadata": {
    "height": 47
   },
   "outputs": [],
   "source": [
    "from transformers.utils import logging\n",
    "logging.set_verbosity_error()"
   ]
  },
  {
   "cell_type": "markdown",
   "id": "c35a8e72",
   "metadata": {},
   "source": [
    "### Build the `sentence embedding` pipeline using 🤗 Transformers Library"
   ]
  },
  {
   "cell_type": "code",
   "execution_count": 2,
   "id": "2ed9cec8-803a-4d7e-99d9-c4c84682901c",
   "metadata": {
    "height": 30
   },
   "outputs": [],
   "source": [
    "from sentence_transformers import SentenceTransformer"
   ]
  },
  {
   "cell_type": "code",
   "execution_count": 3,
   "id": "dd5dbb50-8c36-456c-ac0e-f724429c4b7f",
   "metadata": {
    "height": 30
   },
   "outputs": [
    {
     "data": {
      "application/vnd.jupyter.widget-view+json": {
       "model_id": "a217f4613b974797b0fee13c36b059a3",
       "version_major": 2,
       "version_minor": 0
      },
      "text/plain": [
       "modules.json:   0%|          | 0.00/349 [00:00<?, ?B/s]"
      ]
     },
     "metadata": {},
     "output_type": "display_data"
    },
    {
     "data": {
      "application/vnd.jupyter.widget-view+json": {
       "model_id": "6bd05bf5dcf3494cbeaa1efad694e86a",
       "version_major": 2,
       "version_minor": 0
      },
      "text/plain": [
       "config_sentence_transformers.json:   0%|          | 0.00/116 [00:00<?, ?B/s]"
      ]
     },
     "metadata": {},
     "output_type": "display_data"
    },
    {
     "data": {
      "application/vnd.jupyter.widget-view+json": {
       "model_id": "f54c671738a648beb65c20af53556208",
       "version_major": 2,
       "version_minor": 0
      },
      "text/plain": [
       "README.md:   0%|          | 0.00/10.5k [00:00<?, ?B/s]"
      ]
     },
     "metadata": {},
     "output_type": "display_data"
    },
    {
     "data": {
      "application/vnd.jupyter.widget-view+json": {
       "model_id": "efbc4242f40049bfaf197a2ba44f12ab",
       "version_major": 2,
       "version_minor": 0
      },
      "text/plain": [
       "sentence_bert_config.json:   0%|          | 0.00/53.0 [00:00<?, ?B/s]"
      ]
     },
     "metadata": {},
     "output_type": "display_data"
    },
    {
     "data": {
      "application/vnd.jupyter.widget-view+json": {
       "model_id": "e366ebdf24e2485c978aeda8e8696603",
       "version_major": 2,
       "version_minor": 0
      },
      "text/plain": [
       "config.json:   0%|          | 0.00/612 [00:00<?, ?B/s]"
      ]
     },
     "metadata": {},
     "output_type": "display_data"
    },
    {
     "data": {
      "application/vnd.jupyter.widget-view+json": {
       "model_id": "b1d5401e682c4039a526f4083e127dd3",
       "version_major": 2,
       "version_minor": 0
      },
      "text/plain": [
       "model.safetensors:   0%|          | 0.00/90.9M [00:00<?, ?B/s]"
      ]
     },
     "metadata": {},
     "output_type": "display_data"
    },
    {
     "data": {
      "application/vnd.jupyter.widget-view+json": {
       "model_id": "d9cd212d8f99427a9cfd951ab510ebc7",
       "version_major": 2,
       "version_minor": 0
      },
      "text/plain": [
       "tokenizer_config.json:   0%|          | 0.00/350 [00:00<?, ?B/s]"
      ]
     },
     "metadata": {},
     "output_type": "display_data"
    },
    {
     "data": {
      "application/vnd.jupyter.widget-view+json": {
       "model_id": "c901542ffa69470097d61766bc1de540",
       "version_major": 2,
       "version_minor": 0
      },
      "text/plain": [
       "vocab.txt:   0%|          | 0.00/232k [00:00<?, ?B/s]"
      ]
     },
     "metadata": {},
     "output_type": "display_data"
    },
    {
     "data": {
      "application/vnd.jupyter.widget-view+json": {
       "model_id": "82b132cd923c4e6bb540a00501fe6655",
       "version_major": 2,
       "version_minor": 0
      },
      "text/plain": [
       "tokenizer.json:   0%|          | 0.00/466k [00:00<?, ?B/s]"
      ]
     },
     "metadata": {},
     "output_type": "display_data"
    },
    {
     "data": {
      "application/vnd.jupyter.widget-view+json": {
       "model_id": "266d96c4d9134af588bc147b2d789cb5",
       "version_major": 2,
       "version_minor": 0
      },
      "text/plain": [
       "special_tokens_map.json:   0%|          | 0.00/112 [00:00<?, ?B/s]"
      ]
     },
     "metadata": {},
     "output_type": "display_data"
    },
    {
     "data": {
      "application/vnd.jupyter.widget-view+json": {
       "model_id": "548357ce75c44abd8cc4fca66870279d",
       "version_major": 2,
       "version_minor": 0
      },
      "text/plain": [
       "config.json:   0%|          | 0.00/190 [00:00<?, ?B/s]"
      ]
     },
     "metadata": {},
     "output_type": "display_data"
    }
   ],
   "source": [
    "model = SentenceTransformer(\"all-MiniLM-L6-v2\")"
   ]
  },
  {
   "cell_type": "markdown",
   "id": "cad701ed",
   "metadata": {},
   "source": [
    "More info on [all-MiniLM-L6-v2](https://huggingface.co/sentence-transformers/all-MiniLM-L6-v2)."
   ]
  },
  {
   "cell_type": "code",
   "execution_count": 4,
   "id": "fe7d23e0-5e68-4537-8dd8-eb125e1a6820",
   "metadata": {
    "height": 64
   },
   "outputs": [],
   "source": [
    "sentences1 = ['The cat sits outside',\n",
    "              'A man is playing guitar',\n",
    "              'The movies are awesome']"
   ]
  },
  {
   "cell_type": "code",
   "execution_count": 5,
   "id": "c33db645-edd8-4a28-a06f-e0fd8200f27f",
   "metadata": {
    "height": 30
   },
   "outputs": [],
   "source": [
    "embeddings1 = model.encode(sentences1, convert_to_tensor=True)"
   ]
  },
  {
   "cell_type": "code",
   "execution_count": 6,
   "id": "75de3f4a-bd8e-41d6-847b-9a3a043adeeb",
   "metadata": {
    "height": 30
   },
   "outputs": [
    {
     "data": {
      "text/plain": [
       "tensor([[ 0.1392,  0.0030,  0.0470,  ...,  0.0641, -0.0163,  0.0636],\n",
       "        [ 0.0227, -0.0014, -0.0056,  ..., -0.0225,  0.0846, -0.0283],\n",
       "        [-0.1043, -0.0628,  0.0093,  ...,  0.0020,  0.0653, -0.0150]])"
      ]
     },
     "execution_count": 6,
     "metadata": {},
     "output_type": "execute_result"
    }
   ],
   "source": [
    "embeddings1"
   ]
  },
  {
   "cell_type": "code",
   "execution_count": 7,
   "id": "5136886d-80d4-4a3a-a68e-692c25496b51",
   "metadata": {
    "height": 64
   },
   "outputs": [],
   "source": [
    "sentences2 = ['The dog plays in the garden',\n",
    "              'A woman watches TV',\n",
    "              'The new movie is so great']"
   ]
  },
  {
   "cell_type": "code",
   "execution_count": 8,
   "id": "c7e0c68f",
   "metadata": {
    "height": 47
   },
   "outputs": [],
   "source": [
    "embeddings2 = model.encode(sentences2, \n",
    "                           convert_to_tensor=True)"
   ]
  },
  {
   "cell_type": "code",
   "execution_count": 9,
   "id": "8a213124-ea97-4706-bbf4-737490e94244",
   "metadata": {
    "height": 30
   },
   "outputs": [
    {
     "name": "stdout",
     "output_type": "stream",
     "text": [
      "tensor([[ 0.0163, -0.0700,  0.0384,  ...,  0.0447,  0.0254, -0.0023],\n",
      "        [ 0.0054, -0.0920,  0.0140,  ...,  0.0167, -0.0086, -0.0424],\n",
      "        [-0.0842, -0.0592, -0.0010,  ..., -0.0157,  0.0764,  0.0389]])\n"
     ]
    }
   ],
   "source": [
    "print(embeddings2)"
   ]
  },
  {
   "cell_type": "markdown",
   "id": "41c3d585",
   "metadata": {},
   "source": [
    "* Calculate the cosine similarity between two sentences as a measure of how similar they are to each other."
   ]
  },
  {
   "cell_type": "code",
   "execution_count": 10,
   "id": "9e3b38a5-9b35-49de-9f85-c62583d6287d",
   "metadata": {
    "height": 30
   },
   "outputs": [],
   "source": [
    "from sentence_transformers import util"
   ]
  },
  {
   "cell_type": "code",
   "execution_count": 11,
   "id": "39c1f4f3-94ad-4b5e-a40d-c4ba8277815b",
   "metadata": {
    "height": 30
   },
   "outputs": [],
   "source": [
    "cosine_scores = util.cos_sim(embeddings1,embeddings2)"
   ]
  },
  {
   "cell_type": "code",
   "execution_count": 12,
   "id": "b6859d46-15a7-4f61-8a9f-06a15baeff40",
   "metadata": {
    "height": 30
   },
   "outputs": [
    {
     "name": "stdout",
     "output_type": "stream",
     "text": [
      "tensor([[ 0.2838,  0.1310, -0.0029],\n",
      "        [ 0.2277, -0.0327, -0.0136],\n",
      "        [-0.0124, -0.0465,  0.6571]])\n"
     ]
    }
   ],
   "source": [
    "print(cosine_scores)"
   ]
  },
  {
   "cell_type": "code",
   "execution_count": 13,
   "id": "fae8571e-2dea-4872-b244-342731b949de",
   "metadata": {
    "height": 96
   },
   "outputs": [
    {
     "name": "stdout",
     "output_type": "stream",
     "text": [
      "The cat sits outside \t\t The dog plays in the garden \t\t Score: 0.2838\n",
      "A man is playing guitar \t\t A woman watches TV \t\t Score: -0.0327\n",
      "The movies are awesome \t\t The new movie is so great \t\t Score: 0.6571\n"
     ]
    }
   ],
   "source": [
    "for i in range(len(sentences1)):\n",
    "    print(\"{} \\t\\t {} \\t\\t Score: {:.4f}\".format(sentences1[i],\n",
    "                                                 sentences2[i],\n",
    "                                                 cosine_scores[i][i]))"
   ]
  },
  {
   "cell_type": "code",
   "execution_count": 14,
   "id": "340d654e",
   "metadata": {
    "height": 30
   },
   "outputs": [],
   "source": [
    "sentence3= 'I like programming'"
   ]
  },
  {
   "cell_type": "code",
   "execution_count": 15,
   "id": "e2af6136",
   "metadata": {
    "height": 30
   },
   "outputs": [],
   "source": [
    "sentence4=\"Coding is fun\""
   ]
  },
  {
   "cell_type": "code",
   "execution_count": 17,
   "id": "6f260420",
   "metadata": {
    "height": 47
   },
   "outputs": [],
   "source": [
    "embeddings3 = model.encode(sentence3, \n",
    "                           convert_to_tensor=True)"
   ]
  },
  {
   "cell_type": "code",
   "execution_count": 18,
   "id": "2506e2f9",
   "metadata": {
    "height": 47
   },
   "outputs": [],
   "source": [
    "embeddings4= model.encode(sentence4, \n",
    "                           convert_to_tensor=True)"
   ]
  },
  {
   "cell_type": "code",
   "execution_count": 20,
   "id": "5669672f",
   "metadata": {
    "height": 30
   },
   "outputs": [
    {
     "name": "stdout",
     "output_type": "stream",
     "text": [
      "tensor([-5.1719e-02, -2.0952e-02, -8.2500e-03,  2.4515e-02, -9.9439e-03,\n",
      "        -6.8515e-02,  1.0331e-01,  4.1197e-02,  3.2924e-02,  6.6939e-02,\n",
      "        -4.8645e-02, -2.8012e-02,  1.4286e-02,  1.2630e-02,  3.2221e-02,\n",
      "        -2.6675e-02, -5.2256e-02, -5.6366e-02,  1.3948e-02, -7.5305e-02,\n",
      "        -1.4374e-01,  1.0994e-02, -3.1063e-03, -4.0515e-02,  5.1756e-02,\n",
      "         1.1957e-01, -5.8505e-03, -2.2785e-02,  2.4844e-02, -6.3212e-02,\n",
      "        -1.0977e-01,  1.0584e-01,  5.9859e-02,  4.4884e-02,  1.3550e-02,\n",
      "         4.4947e-02,  8.2325e-02, -5.5439e-02,  2.3372e-02, -2.3878e-03,\n",
      "        -8.2266e-02,  2.7210e-02,  6.4359e-02, -3.9953e-02, -2.0606e-02,\n",
      "        -4.2883e-02, -1.6732e-02, -7.3027e-02,  7.1685e-02,  3.6505e-02,\n",
      "         3.6103e-02, -7.3423e-03, -1.2763e-02, -3.9547e-02, -2.4636e-02,\n",
      "         6.2700e-03,  2.3235e-02,  4.9753e-02,  8.7373e-03, -5.3747e-02,\n",
      "        -3.4452e-02, -8.2123e-04, -2.0995e-02,  4.6273e-02,  5.6043e-02,\n",
      "        -1.8466e-02, -1.3684e-02,  5.2412e-02,  2.5772e-02, -4.0767e-02,\n",
      "        -4.8821e-02,  2.2438e-02, -5.3896e-03,  6.6026e-02,  1.3440e-01,\n",
      "        -6.6239e-02,  5.0145e-02, -1.0224e-02,  4.0757e-02, -2.8360e-02,\n",
      "         5.4903e-02, -4.9805e-02, -7.2455e-02,  4.6051e-02, -1.0455e-02,\n",
      "        -7.3636e-02,  2.9545e-02,  1.3208e-01,  2.7788e-02, -2.1298e-02,\n",
      "         2.8451e-02, -2.8551e-02,  1.6110e-03,  4.0801e-02, -7.7006e-02,\n",
      "         3.7024e-02,  8.2146e-02, -1.8105e-02, -4.2364e-02,  1.1687e-01,\n",
      "        -2.6632e-02, -2.7757e-02,  4.7145e-03,  3.0477e-02, -1.5016e-02,\n",
      "         1.4393e-02,  1.3516e-02,  7.0816e-02,  4.0889e-02, -6.1264e-02,\n",
      "        -3.5871e-02,  9.1220e-03, -1.7135e-02, -3.8032e-02,  4.6826e-02,\n",
      "         9.0954e-02,  2.8585e-02,  6.9277e-02,  8.2168e-02,  2.4046e-02,\n",
      "         2.6406e-02,  6.7585e-02, -1.0260e-01, -3.5417e-03, -6.6541e-02,\n",
      "        -3.3307e-02, -2.3568e-02, -5.2844e-33, -2.5399e-02, -5.6638e-02,\n",
      "        -1.1743e-02, -3.3766e-03,  3.3287e-02,  5.0396e-02,  7.4478e-02,\n",
      "         9.3552e-02, -5.7117e-02,  6.5357e-03,  2.1556e-02,  4.5659e-02,\n",
      "        -5.8054e-02,  9.6465e-02,  6.5161e-02, -6.3563e-02, -7.6290e-04,\n",
      "         4.2365e-02, -9.7428e-02, -4.3117e-02, -8.7001e-03, -1.0620e-02,\n",
      "         3.2742e-02,  1.0908e-01,  4.0090e-02, -4.1906e-02,  2.8884e-02,\n",
      "        -8.2426e-02,  7.1774e-02,  1.8501e-02, -2.3254e-02,  2.9281e-02,\n",
      "        -8.0744e-02, -1.4349e-02, -2.3498e-03, -5.7027e-02,  2.8437e-02,\n",
      "        -4.4697e-02,  4.7528e-02,  2.4619e-02, -2.0726e-02,  2.2297e-02,\n",
      "         3.7115e-02, -1.5240e-02,  1.0445e-01,  3.3608e-02,  3.9436e-02,\n",
      "         2.1592e-02, -4.7211e-02,  6.4435e-03, -5.6480e-02,  7.0496e-03,\n",
      "         9.1044e-02,  4.9539e-02, -2.3635e-03,  8.5678e-04,  3.3280e-02,\n",
      "        -2.0775e-02, -2.7217e-02,  3.4872e-02, -3.3041e-02,  1.2412e-01,\n",
      "         3.5887e-02, -8.4151e-02, -6.1158e-02,  8.8114e-02,  7.5970e-03,\n",
      "         3.5588e-02,  7.3189e-02,  8.5334e-03, -7.4740e-02,  1.3705e-02,\n",
      "        -5.9028e-03,  1.5499e-02, -5.9941e-02,  2.2008e-02,  2.1183e-02,\n",
      "        -5.8829e-02, -4.2638e-02, -6.7712e-03,  2.7376e-02, -3.0603e-02,\n",
      "         4.1007e-03, -6.1043e-02,  7.8928e-02,  4.6080e-02, -3.0555e-03,\n",
      "        -1.2303e-01,  4.2776e-04, -1.8001e-02, -1.7320e-02, -6.3742e-02,\n",
      "         1.4549e-02,  4.6617e-02,  7.7193e-03,  4.2291e-33, -2.2699e-02,\n",
      "        -4.0027e-02, -6.1903e-02,  2.0282e-02, -6.1365e-02, -3.3142e-02,\n",
      "         2.5993e-02, -2.6434e-02, -3.4991e-02,  8.7884e-02,  3.8028e-02,\n",
      "        -3.2713e-02, -5.8345e-02,  8.1590e-02,  1.7806e-02, -1.7490e-02,\n",
      "        -5.9579e-02,  3.0569e-02, -7.9219e-02, -2.3134e-02, -4.6636e-02,\n",
      "         2.8403e-02, -8.1598e-02,  7.0705e-03,  7.9109e-02, -3.1277e-02,\n",
      "        -6.5082e-02,  1.5469e-02,  1.1146e-02,  8.1805e-02,  1.2626e-02,\n",
      "        -8.5230e-03, -2.1483e-02, -6.1316e-02,  6.7195e-02, -4.9526e-02,\n",
      "        -5.0555e-03, -1.1336e-02, -1.8778e-02,  1.1192e-02,  4.8948e-02,\n",
      "        -7.1957e-02,  3.5526e-02,  8.6536e-02, -2.7702e-02,  4.2244e-02,\n",
      "         6.7840e-03,  3.0372e-02,  2.8981e-02, -5.1209e-02,  5.4012e-03,\n",
      "        -1.5091e-02,  6.4685e-02, -9.3045e-02,  2.6307e-02, -3.3514e-02,\n",
      "         1.2204e-02, -2.4669e-02, -4.5044e-02, -5.0450e-02, -6.7531e-02,\n",
      "         4.3928e-02,  6.5833e-02,  4.1212e-02, -1.2474e-02, -5.4689e-02,\n",
      "        -1.8460e-02, -3.4664e-02, -9.5399e-02, -8.7973e-02,  4.9028e-02,\n",
      "         1.5364e-02, -4.1953e-02,  4.0557e-02, -1.0228e-01, -5.1251e-03,\n",
      "         2.2147e-02,  4.1165e-02, -8.2319e-02,  5.4298e-02,  3.6453e-02,\n",
      "        -4.4175e-02,  8.8279e-03,  4.1841e-02, -6.5078e-02,  5.4582e-02,\n",
      "         1.6226e-02,  5.9525e-02, -3.1806e-02, -7.3973e-02,  4.9003e-03,\n",
      "         8.1181e-02,  1.1396e-02, -2.0464e-02, -2.5880e-02, -1.2104e-08,\n",
      "         2.4258e-03, -7.1292e-02,  5.5171e-02, -6.3356e-02, -9.1093e-04,\n",
      "         7.7736e-02, -4.3351e-02, -4.1505e-02, -4.1129e-02, -1.5763e-02,\n",
      "         8.7632e-02,  6.0393e-03, -2.6153e-02,  2.3967e-02,  1.1483e-01,\n",
      "        -1.6743e-02,  7.0819e-02, -5.6724e-02,  5.5343e-03,  4.1669e-02,\n",
      "         1.7658e-02, -1.5025e-02, -5.4090e-02,  1.1094e-01, -7.6549e-02,\n",
      "        -3.8403e-02,  7.2944e-02,  6.9019e-02,  7.9990e-02,  1.2304e-02,\n",
      "        -1.0231e-02,  1.3841e-02, -3.7424e-02,  1.4272e-02, -1.1215e-02,\n",
      "        -1.0764e-01,  7.0605e-02, -9.6433e-02, -4.8361e-04, -7.5028e-02,\n",
      "        -8.1119e-03,  6.3159e-02,  3.9024e-02, -5.9084e-02, -4.0263e-02,\n",
      "         5.7227e-03,  4.1736e-02, -9.6982e-02, -2.4300e-02, -4.6337e-03,\n",
      "         7.5022e-04,  2.7350e-02,  1.5090e-02, -1.1472e-03,  1.0139e-01,\n",
      "         3.9671e-03, -9.8317e-02, -2.8633e-03, -2.8638e-02,  6.7538e-02,\n",
      "         7.9722e-02,  6.1003e-02,  4.0116e-02, -6.3040e-03])\n"
     ]
    }
   ],
   "source": [
    "print(embeddings3)"
   ]
  },
  {
   "cell_type": "code",
   "execution_count": 21,
   "id": "0447b57b",
   "metadata": {
    "height": 30
   },
   "outputs": [
    {
     "name": "stdout",
     "output_type": "stream",
     "text": [
      "tensor([-3.4755e-02, -1.7553e-02, -3.2809e-02, -1.0212e-02, -1.7489e-02,\n",
      "        -2.5481e-02,  6.6068e-02, -6.8483e-03,  1.9094e-02,  7.1942e-02,\n",
      "         1.4288e-02, -2.4821e-02,  1.2111e-03,  4.4834e-03,  6.2238e-03,\n",
      "        -5.6727e-02, -7.4205e-02,  1.5211e-03, -4.7156e-03, -5.6913e-02,\n",
      "        -2.7228e-02, -7.0040e-02, -1.2898e-03, -2.9783e-02,  6.5100e-02,\n",
      "         7.0677e-02, -4.6424e-02, -3.0245e-02,  6.7596e-02, -2.8450e-02,\n",
      "        -6.0638e-02,  9.4772e-02,  7.2307e-02,  4.5318e-02, -7.6876e-03,\n",
      "         4.4793e-02,  7.6149e-02, -2.9679e-02, -2.2681e-02,  2.4527e-02,\n",
      "        -1.3476e-01,  1.4117e-02,  5.9468e-02,  1.5393e-02,  4.3307e-02,\n",
      "         2.2789e-02,  4.3088e-03, -5.6026e-02,  4.6085e-03,  2.0330e-03,\n",
      "         1.3967e-02, -1.7977e-02, -1.8176e-02, -4.2996e-02,  3.9040e-02,\n",
      "        -4.8974e-02,  5.6025e-02, -2.8895e-02, -8.4968e-03,  1.8888e-02,\n",
      "        -6.3683e-03,  1.8053e-02, -1.6402e-02,  4.2971e-02,  5.5569e-02,\n",
      "        -4.5516e-02, -1.6897e-02,  1.6301e-02, -1.6808e-02, -7.6803e-02,\n",
      "        -1.0642e-01,  1.2804e-03,  1.4021e-02,  1.4927e-01,  1.5655e-01,\n",
      "         3.1949e-02, -9.8934e-03,  1.6711e-02,  1.8219e-02,  3.5361e-02,\n",
      "         4.5189e-02, -5.0068e-02, -7.4565e-03,  9.8968e-02,  3.8286e-02,\n",
      "        -5.4207e-02,  5.1686e-02,  7.4004e-02, -9.8425e-03, -2.1973e-02,\n",
      "        -3.4617e-03, -1.4223e-02,  9.0591e-02,  2.6181e-02, -4.5675e-02,\n",
      "        -4.4892e-02,  3.8318e-02,  1.5359e-02, -4.6829e-02,  8.7715e-02,\n",
      "        -8.0737e-02, -1.0780e-02,  1.4493e-02, -5.1336e-02, -2.8936e-02,\n",
      "         4.2111e-02,  8.1860e-02,  9.1943e-02,  6.2660e-02, -5.0770e-02,\n",
      "        -5.5243e-02,  6.6722e-02,  6.9985e-03, -4.9392e-02,  5.9765e-02,\n",
      "         5.2078e-02, -3.8907e-03,  3.7689e-02, -1.1665e-03,  3.9368e-02,\n",
      "         4.4139e-02,  2.9371e-02, -7.3379e-02,  2.0717e-03, -3.6296e-02,\n",
      "        -6.3561e-02,  1.8824e-02, -4.0960e-33,  3.2517e-02, -1.7326e-02,\n",
      "        -2.8512e-02,  4.1319e-02,  3.7187e-03, -2.7768e-02,  1.2467e-02,\n",
      "        -3.1705e-03, -8.3562e-02,  2.6890e-02, -9.7322e-03,  2.1085e-04,\n",
      "        -1.3876e-02,  5.4716e-02,  6.6171e-02, -3.9665e-02, -9.0374e-02,\n",
      "         1.9313e-02, -1.9257e-02, -4.4604e-02, -1.9637e-02, -5.4533e-02,\n",
      "         6.6729e-02,  6.3960e-02,  1.4085e-02,  1.0797e-01, -2.9480e-03,\n",
      "        -1.1584e-01,  1.2490e-01,  1.4487e-02, -9.8800e-02, -3.5716e-02,\n",
      "        -6.2214e-02, -1.4959e-02,  1.2002e-02, -1.9268e-02,  8.1452e-03,\n",
      "        -8.2459e-02, -1.2914e-03,  2.8142e-02,  3.9310e-02,  2.9176e-02,\n",
      "        -2.7757e-02, -1.0362e-02,  1.1289e-01,  1.3822e-02, -1.7749e-04,\n",
      "        -3.6083e-02, -8.7744e-02,  1.3001e-02, -8.2461e-03,  5.3566e-02,\n",
      "         6.2899e-02,  2.8905e-02, -9.2431e-03,  4.3180e-03,  3.2706e-02,\n",
      "        -6.7757e-02,  4.0322e-02,  7.9907e-02, -1.0412e-02,  5.6471e-02,\n",
      "         1.1788e-02, -4.1877e-02, -2.0352e-03,  3.3211e-02,  2.4942e-02,\n",
      "        -2.3523e-02,  6.8421e-02, -3.9855e-02, -2.6522e-02,  3.6766e-02,\n",
      "         1.6502e-03, -2.5294e-02, -8.1788e-02,  4.3556e-02,  2.8218e-02,\n",
      "        -1.0295e-01, -7.4916e-02, -1.8825e-03, -1.1387e-02, -5.0785e-02,\n",
      "        -3.9017e-02,  5.2261e-03,  2.5097e-02, -3.0997e-02,  3.2491e-02,\n",
      "        -1.7592e-01, -7.8962e-02,  7.3605e-02, -5.5003e-02, -7.5008e-02,\n",
      "         7.3050e-02, -3.5125e-02,  5.6122e-02,  4.4947e-33, -6.9947e-02,\n",
      "         8.8106e-03, -1.1464e-01, -2.1857e-03, -7.0224e-02, -8.7394e-02,\n",
      "         3.5731e-02, -3.8282e-02,  1.0087e-02,  8.4018e-02, -6.5142e-03,\n",
      "        -2.9087e-02, -5.8466e-02,  3.6481e-02,  8.9020e-02, -4.5024e-02,\n",
      "        -3.0738e-02,  1.1043e-02, -1.1423e-02,  3.5232e-02,  1.6676e-02,\n",
      "         1.0466e-01, -4.9105e-02, -5.6564e-02,  3.1139e-05,  6.0086e-02,\n",
      "        -9.2703e-02, -1.6333e-02,  1.6356e-02,  3.6804e-02,  8.4029e-03,\n",
      "         7.5167e-03, -4.0928e-02, -4.3294e-02,  1.9911e-02, -1.8840e-02,\n",
      "         6.6608e-02,  4.9341e-02, -1.8370e-02, -2.6523e-02, -1.2807e-02,\n",
      "         1.9949e-03,  5.2918e-02,  1.5413e-02,  1.3459e-03,  3.2512e-02,\n",
      "         2.9955e-03, -6.2635e-02,  1.1057e-02,  4.9482e-02, -2.2620e-02,\n",
      "         1.4083e-02, -1.2312e-02, -8.9714e-02,  1.0749e-02, -3.1725e-02,\n",
      "        -4.5829e-02,  5.8457e-04,  1.2793e-02,  3.4858e-02, -2.4702e-02,\n",
      "         2.6579e-03,  5.5830e-02,  8.4243e-03,  7.9805e-03, -8.6692e-02,\n",
      "        -7.0925e-02,  7.2336e-03, -6.0805e-02, -5.5286e-02,  2.5095e-02,\n",
      "         5.5494e-02, -7.8469e-02,  2.1335e-02, -6.0687e-02, -1.9135e-03,\n",
      "        -1.4302e-02,  2.5343e-02, -5.9207e-03,  3.3886e-02,  6.6448e-03,\n",
      "        -4.6194e-02, -1.1204e-02,  3.0258e-02, -6.9477e-02,  4.9640e-02,\n",
      "         5.3456e-02,  4.6783e-02, -5.0922e-02, -1.7240e-02, -1.5741e-02,\n",
      "         7.0324e-02,  7.0369e-02,  3.9425e-02, -1.8328e-02, -1.2220e-08,\n",
      "        -1.5164e-02, -2.3156e-02,  2.7842e-02, -5.7327e-02,  1.4960e-02,\n",
      "         6.2506e-02,  1.2968e-02,  1.0423e-02, -2.7586e-02,  7.6786e-03,\n",
      "         1.7530e-01, -2.3604e-02,  5.1798e-03,  7.2593e-02,  1.1664e-01,\n",
      "         3.9819e-03,  2.3944e-02, -2.1936e-02, -3.5000e-02,  6.6163e-02,\n",
      "        -2.2860e-03,  3.8116e-02, -7.6962e-02,  2.1253e-02, -1.0676e-01,\n",
      "        -9.5954e-03,  9.7750e-02,  7.0617e-02,  7.3724e-02,  1.2551e-02,\n",
      "        -1.0998e-03,  7.3896e-02,  6.4052e-02,  4.6263e-02, -2.4601e-02,\n",
      "        -1.2935e-01,  2.8058e-02, -4.8687e-02,  6.3720e-03, -4.7163e-02,\n",
      "         2.2634e-02,  2.1060e-02, -7.3431e-03, -1.8763e-02, -5.8770e-02,\n",
      "         2.0108e-02,  9.3737e-02, -7.4748e-02, -5.9727e-02,  2.5141e-02,\n",
      "        -2.1502e-02,  2.7057e-02, -4.7166e-02,  3.9371e-02,  1.6689e-01,\n",
      "        -1.0858e-02, -5.1616e-02,  3.5627e-03, -1.0770e-02,  1.2228e-01,\n",
      "         2.5800e-03,  9.3680e-02,  7.6924e-03,  3.8746e-03])\n"
     ]
    }
   ],
   "source": [
    "print(embeddings4)"
   ]
  },
  {
   "cell_type": "code",
   "execution_count": 22,
   "id": "8f4687ec",
   "metadata": {
    "height": 30
   },
   "outputs": [],
   "source": [
    "cosine_scores = util.cos_sim(embeddings3,embeddings4)"
   ]
  },
  {
   "cell_type": "code",
   "execution_count": 23,
   "id": "be370af3",
   "metadata": {
    "height": 30
   },
   "outputs": [
    {
     "name": "stdout",
     "output_type": "stream",
     "text": [
      "tensor([[0.6548]])\n"
     ]
    }
   ],
   "source": [
    "print(cosine_scores)"
   ]
  },
  {
   "cell_type": "markdown",
   "id": "59f46e84",
   "metadata": {
    "height": 45
   },
   "source": [
    "## A random question hit my mind if these different sentences are similar let's try out the same sentence"
   ]
  },
  {
   "cell_type": "code",
   "execution_count": 25,
   "id": "6e5ef061",
   "metadata": {
    "height": 30
   },
   "outputs": [],
   "source": [
    "sentence5=\"Prensu is a good guy\""
   ]
  },
  {
   "cell_type": "code",
   "execution_count": 26,
   "id": "f730acb6",
   "metadata": {
    "height": 30
   },
   "outputs": [],
   "source": [
    "sentence6=\"Prensu is decent guy\""
   ]
  },
  {
   "cell_type": "code",
   "execution_count": 28,
   "id": "ee9b0847",
   "metadata": {
    "height": 47
   },
   "outputs": [],
   "source": [
    "embeddings5= model.encode(sentence5, \n",
    "                           convert_to_tensor=True)"
   ]
  },
  {
   "cell_type": "code",
   "execution_count": 27,
   "id": "cd7a09e0",
   "metadata": {
    "height": 47
   },
   "outputs": [],
   "source": [
    "embeddings6= model.encode(sentence6, \n",
    "                           convert_to_tensor=True)"
   ]
  },
  {
   "cell_type": "code",
   "execution_count": 31,
   "id": "b261dd01",
   "metadata": {
    "height": 30
   },
   "outputs": [],
   "source": [
    "cosine_scores = util.cos_sim(embeddings5,embeddings6)"
   ]
  },
  {
   "cell_type": "code",
   "execution_count": 32,
   "id": "e1d0cabf",
   "metadata": {
    "height": 30
   },
   "outputs": [
    {
     "name": "stdout",
     "output_type": "stream",
     "text": [
      "tensor([[0.9632]])\n"
     ]
    }
   ],
   "source": [
    "print(cosine_scores)"
   ]
  },
  {
   "cell_type": "markdown",
   "id": "27658b88",
   "metadata": {
    "height": 30
   },
   "source": [
    "Yeah 96% Similar"
   ]
  }
 ],
 "metadata": {
  "kernelspec": {
   "display_name": "Python 3 (ipykernel)",
   "language": "python",
   "name": "python3"
  },
  "language_info": {
   "codemirror_mode": {
    "name": "ipython",
    "version": 3
   },
   "file_extension": ".py",
   "mimetype": "text/x-python",
   "name": "python",
   "nbconvert_exporter": "python",
   "pygments_lexer": "ipython3",
   "version": "3.9.19"
  }
 },
 "nbformat": 4,
 "nbformat_minor": 5
}
