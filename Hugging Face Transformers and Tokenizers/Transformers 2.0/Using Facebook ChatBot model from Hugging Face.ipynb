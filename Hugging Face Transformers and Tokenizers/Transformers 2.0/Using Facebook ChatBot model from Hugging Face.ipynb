{
 "cells": [
  {
   "cell_type": "code",
   "execution_count": 2,
   "metadata": {
    "height": 47
   },
   "outputs": [],
   "source": [
    "from transformers import pipeline\n"
   ]
  },
  {
   "cell_type": "code",
   "execution_count": 3,
   "metadata": {
    "height": 45
   },
   "outputs": [
    {
     "data": {
      "application/vnd.jupyter.widget-view+json": {
       "model_id": "a56e5cf200974753a5ac68eb0fd40a22",
       "version_major": 2,
       "version_minor": 0
      },
      "text/plain": [
       "config.json:   0%|          | 0.00/1.57k [00:00<?, ?B/s]"
      ]
     },
     "metadata": {},
     "output_type": "display_data"
    },
    {
     "data": {
      "application/vnd.jupyter.widget-view+json": {
       "model_id": "ae9c059ef6424b619d70a56e0bc7051f",
       "version_major": 2,
       "version_minor": 0
      },
      "text/plain": [
       "pytorch_model.bin:   0%|          | 0.00/730M [00:00<?, ?B/s]"
      ]
     },
     "metadata": {},
     "output_type": "display_data"
    },
    {
     "data": {
      "application/vnd.jupyter.widget-view+json": {
       "model_id": "8ce40ddf4b5e41cd910c8eab1804ccc1",
       "version_major": 2,
       "version_minor": 0
      },
      "text/plain": [
       "generation_config.json:   0%|          | 0.00/347 [00:00<?, ?B/s]"
      ]
     },
     "metadata": {},
     "output_type": "display_data"
    },
    {
     "data": {
      "application/vnd.jupyter.widget-view+json": {
       "model_id": "f1131bb3b5a749459bbe2698b8e8eaf0",
       "version_major": 2,
       "version_minor": 0
      },
      "text/plain": [
       "tokenizer_config.json:   0%|          | 0.00/1.15k [00:00<?, ?B/s]"
      ]
     },
     "metadata": {},
     "output_type": "display_data"
    },
    {
     "data": {
      "application/vnd.jupyter.widget-view+json": {
       "model_id": "0f0ce9c3fa004a81bb5ab13da2a464ea",
       "version_major": 2,
       "version_minor": 0
      },
      "text/plain": [
       "vocab.json:   0%|          | 0.00/127k [00:00<?, ?B/s]"
      ]
     },
     "metadata": {},
     "output_type": "display_data"
    },
    {
     "data": {
      "application/vnd.jupyter.widget-view+json": {
       "model_id": "5da0edd689774c399716d75067104625",
       "version_major": 2,
       "version_minor": 0
      },
      "text/plain": [
       "merges.txt:   0%|          | 0.00/62.9k [00:00<?, ?B/s]"
      ]
     },
     "metadata": {},
     "output_type": "display_data"
    },
    {
     "data": {
      "application/vnd.jupyter.widget-view+json": {
       "model_id": "67dfb38a6146468098781d75078598d4",
       "version_major": 2,
       "version_minor": 0
      },
      "text/plain": [
       "added_tokens.json:   0%|          | 0.00/16.0 [00:00<?, ?B/s]"
      ]
     },
     "metadata": {},
     "output_type": "display_data"
    },
    {
     "data": {
      "application/vnd.jupyter.widget-view+json": {
       "model_id": "8b06ca4888114e9191b2cbaf13930d08",
       "version_major": 2,
       "version_minor": 0
      },
      "text/plain": [
       "special_tokens_map.json:   0%|          | 0.00/772 [00:00<?, ?B/s]"
      ]
     },
     "metadata": {},
     "output_type": "display_data"
    },
    {
     "data": {
      "application/vnd.jupyter.widget-view+json": {
       "model_id": "d98488f79a654f85b2b9d545dfc3f082",
       "version_major": 2,
       "version_minor": 0
      },
      "text/plain": [
       "tokenizer.json:   0%|          | 0.00/310k [00:00<?, ?B/s]"
      ]
     },
     "metadata": {},
     "output_type": "display_data"
    }
   ],
   "source": [
    "chatbot=pipeline(task=\"conversational\",model=\"facebook/blenderbot-400M-distill\")"
   ]
  },
  {
   "cell_type": "code",
   "execution_count": 4,
   "metadata": {
    "height": 64
   },
   "outputs": [],
   "source": [
    "user_message=\"\"\"\n",
    "what are some fun activities I can do in the winter ?\n",
    "\"\"\""
   ]
  },
  {
   "cell_type": "code",
   "execution_count": 7,
   "metadata": {
    "height": 47
   },
   "outputs": [],
   "source": [
    "from transformers import Conversation\n",
    "conversation=Conversation(user_message)"
   ]
  },
  {
   "cell_type": "code",
   "execution_count": 8,
   "metadata": {
    "height": 30
   },
   "outputs": [],
   "source": [
    "conversation=Conversation(user_message)"
   ]
  },
  {
   "cell_type": "code",
   "execution_count": 9,
   "metadata": {
    "height": 30
   },
   "outputs": [
    {
     "name": "stdout",
     "output_type": "stream",
     "text": [
      "Conversation id: af73cf38-b04a-43ef-b5a8-146f0d4aa03b\n",
      "user: \n",
      "what are some fun activities I can do in the winter ?\n",
      "\n",
      "\n"
     ]
    }
   ],
   "source": [
    "print(conversation)"
   ]
  },
  {
   "cell_type": "code",
   "execution_count": 10,
   "metadata": {
    "height": 30
   },
   "outputs": [
    {
     "name": "stderr",
     "output_type": "stream",
     "text": [
      "\n",
      "No chat template is defined for this tokenizer - using the default template for the BlenderbotTokenizerFast class. If the default is not appropriate for your model, please set `tokenizer.chat_template` to an appropriate template. See https://huggingface.co/docs/transformers/main/chat_templating for more information.\n",
      "\n"
     ]
    }
   ],
   "source": [
    "conversation=chatbot(conversation)"
   ]
  },
  {
   "cell_type": "code",
   "execution_count": 11,
   "metadata": {
    "height": 30
   },
   "outputs": [
    {
     "name": "stdout",
     "output_type": "stream",
     "text": [
      "Conversation id: af73cf38-b04a-43ef-b5a8-146f0d4aa03b\n",
      "user: \n",
      "what are some fun activities I can do in the winter ?\n",
      "\n",
      "assistant:  I like snowboarding and skiing.  What do you like to do in winter?\n",
      "\n"
     ]
    }
   ],
   "source": [
    "print(conversation)"
   ]
  },
  {
   "cell_type": "markdown",
   "metadata": {
    "height": 30
   },
   "source": [
    "# NLP tasks\n",
    "\n",
    "1)Text generation\n",
    "\n",
    "2)Sentence similarity\n",
    "\n",
    "3)Summarization\n",
    "\n",
    "4)Machine Translation"
   ]
  },
  {
   "cell_type": "code",
   "execution_count": null,
   "metadata": {
    "height": 30
   },
   "outputs": [],
   "source": []
  }
 ],
 "metadata": {
  "colab": {
   "provenance": []
  },
  "kernelspec": {
   "display_name": "Python 3 (ipykernel)",
   "language": "python",
   "name": "python3"
  },
  "language_info": {
   "codemirror_mode": {
    "name": "ipython",
    "version": 3
   },
   "file_extension": ".py",
   "mimetype": "text/x-python",
   "name": "python",
   "nbconvert_exporter": "python",
   "pygments_lexer": "ipython3",
   "version": "3.9.19"
  },
  "widgets": {
   "application/vnd.jupyter.widget-state+json": {
    "state": {
     "0578444f23ae456eb0433dc544b45670": {
      "model_module": "@jupyter-widgets/controls",
      "model_module_version": "2.0.0",
      "model_name": "HTMLModel",
      "state": {
       "layout": "IPY_MODEL_ca63888dec3941a28d1ba5d7422e2e56",
       "style": "IPY_MODEL_21cdbb68a75745b39f239d5696abe7cf",
       "value": "vocab.json: 100%"
      }
     },
     "058704d17e54487c951416ac16f2c933": {
      "model_module": "@jupyter-widgets/base",
      "model_module_version": "2.0.0",
      "model_name": "LayoutModel",
      "state": {}
     },
     "089dc0bc526b4d2db41a2b7e80fa0267": {
      "model_module": "@jupyter-widgets/controls",
      "model_module_version": "2.0.0",
      "model_name": "HTMLStyleModel",
      "state": {
       "description_width": "",
       "font_size": null,
       "text_color": null
      }
     },
     "0c26c637e2a541148e2b00641306da34": {
      "model_module": "@jupyter-widgets/base",
      "model_module_version": "2.0.0",
      "model_name": "LayoutModel",
      "state": {}
     },
     "0f0ce9c3fa004a81bb5ab13da2a464ea": {
      "model_module": "@jupyter-widgets/controls",
      "model_module_version": "2.0.0",
      "model_name": "HBoxModel",
      "state": {
       "children": [
        "IPY_MODEL_0578444f23ae456eb0433dc544b45670",
        "IPY_MODEL_f5a8f41f199d47c880898426c691c773",
        "IPY_MODEL_4c2797c63fd54c86a3330004cce2b43f"
       ],
       "layout": "IPY_MODEL_1cb34250907847ce82ddd35775b43307"
      }
     },
     "0fdcc327ccd04fd7add8380b4a4fd375": {
      "model_module": "@jupyter-widgets/controls",
      "model_module_version": "2.0.0",
      "model_name": "HTMLStyleModel",
      "state": {
       "description_width": "",
       "font_size": null,
       "text_color": null
      }
     },
     "1094ffcc90244b7fbd8e6b8e69491f73": {
      "model_module": "@jupyter-widgets/base",
      "model_module_version": "2.0.0",
      "model_name": "LayoutModel",
      "state": {}
     },
     "10ec9acdd7fa4149af0db952ecaaefa5": {
      "model_module": "@jupyter-widgets/base",
      "model_module_version": "2.0.0",
      "model_name": "LayoutModel",
      "state": {}
     },
     "14f782d3ab7048d683cfdfcb5947a62d": {
      "model_module": "@jupyter-widgets/controls",
      "model_module_version": "2.0.0",
      "model_name": "FloatProgressModel",
      "state": {
       "bar_style": "success",
       "layout": "IPY_MODEL_cb80d23ddde542e4b5df3ae3b5ec3d36",
       "max": 1572,
       "style": "IPY_MODEL_8f665dcc48224a69b9bb149bbbe7ad3a",
       "value": 1572
      }
     },
     "19f66b71c1c74a73864935872184ce85": {
      "model_module": "@jupyter-widgets/base",
      "model_module_version": "2.0.0",
      "model_name": "LayoutModel",
      "state": {}
     },
     "1cb34250907847ce82ddd35775b43307": {
      "model_module": "@jupyter-widgets/base",
      "model_module_version": "2.0.0",
      "model_name": "LayoutModel",
      "state": {}
     },
     "1e33ecb86ac145519ada45dce445e298": {
      "model_module": "@jupyter-widgets/controls",
      "model_module_version": "2.0.0",
      "model_name": "HTMLStyleModel",
      "state": {
       "description_width": "",
       "font_size": null,
       "text_color": null
      }
     },
     "21cdbb68a75745b39f239d5696abe7cf": {
      "model_module": "@jupyter-widgets/controls",
      "model_module_version": "2.0.0",
      "model_name": "HTMLStyleModel",
      "state": {
       "description_width": "",
       "font_size": null,
       "text_color": null
      }
     },
     "2464eb09cf4b4cd4a7f9b2a33bbbaadb": {
      "model_module": "@jupyter-widgets/base",
      "model_module_version": "2.0.0",
      "model_name": "LayoutModel",
      "state": {}
     },
     "2525d40af1844834bd4c36a90dca3745": {
      "model_module": "@jupyter-widgets/base",
      "model_module_version": "2.0.0",
      "model_name": "LayoutModel",
      "state": {}
     },
     "25f0219d7b8f4b74b4be58c3cf7ffbfb": {
      "model_module": "@jupyter-widgets/controls",
      "model_module_version": "2.0.0",
      "model_name": "HTMLModel",
      "state": {
       "layout": "IPY_MODEL_5fb1a868d8e74fb5bac2ddbf2f83762b",
       "style": "IPY_MODEL_4ded7fbacdbe480f9e91d04fde9e38c7",
       "value": " 1.15k/1.15k [00:00&lt;00:00, 195kB/s]"
      }
     },
     "27eb456da3124964931e0e2bf5a2e724": {
      "model_module": "@jupyter-widgets/controls",
      "model_module_version": "2.0.0",
      "model_name": "HTMLStyleModel",
      "state": {
       "description_width": "",
       "font_size": null,
       "text_color": null
      }
     },
     "29af16ff195349c988e5abfdc2ad2683": {
      "model_module": "@jupyter-widgets/controls",
      "model_module_version": "2.0.0",
      "model_name": "HTMLStyleModel",
      "state": {
       "description_width": "",
       "font_size": null,
       "text_color": null
      }
     },
     "2aab361f94a74479aafe8bde141d6f30": {
      "model_module": "@jupyter-widgets/controls",
      "model_module_version": "2.0.0",
      "model_name": "FloatProgressModel",
      "state": {
       "bar_style": "success",
       "layout": "IPY_MODEL_2464eb09cf4b4cd4a7f9b2a33bbbaadb",
       "max": 347,
       "style": "IPY_MODEL_5037555a261f44f488ac9e9b74b24cd2",
       "value": 347
      }
     },
     "2b91988870b547bf9debcf8f28da0a82": {
      "model_module": "@jupyter-widgets/base",
      "model_module_version": "2.0.0",
      "model_name": "LayoutModel",
      "state": {}
     },
     "310e7206ba8a44b7aa6edeb72b9ae4f4": {
      "model_module": "@jupyter-widgets/controls",
      "model_module_version": "2.0.0",
      "model_name": "HTMLModel",
      "state": {
       "layout": "IPY_MODEL_98fa17c4a835423b9c585aa4b478333d",
       "style": "IPY_MODEL_a6066a0a676748979566387a9baea391",
       "value": "merges.txt: 100%"
      }
     },
     "32aee8f137a34bde9b8491251915b1f0": {
      "model_module": "@jupyter-widgets/controls",
      "model_module_version": "2.0.0",
      "model_name": "HTMLModel",
      "state": {
       "layout": "IPY_MODEL_525b2f022e124643bde5322c8fd02e57",
       "style": "IPY_MODEL_9b02e77f32d94793a09b80bcc3339f09",
       "value": " 1.57k/1.57k [00:00&lt;00:00, 193kB/s]"
      }
     },
     "3875cad070d94e3a8e68314a7f6b7f80": {
      "model_module": "@jupyter-widgets/base",
      "model_module_version": "2.0.0",
      "model_name": "LayoutModel",
      "state": {}
     },
     "40ed04bcfacd4e24aae59f1e2911a3f1": {
      "model_module": "@jupyter-widgets/base",
      "model_module_version": "2.0.0",
      "model_name": "LayoutModel",
      "state": {}
     },
     "43dc3b9ab10e4a4dbf0895d287467b67": {
      "model_module": "@jupyter-widgets/base",
      "model_module_version": "2.0.0",
      "model_name": "LayoutModel",
      "state": {}
     },
     "487a8772516447b2a37936855ae37548": {
      "model_module": "@jupyter-widgets/base",
      "model_module_version": "2.0.0",
      "model_name": "LayoutModel",
      "state": {}
     },
     "4b3f364bd57e488088be920923c4e386": {
      "model_module": "@jupyter-widgets/controls",
      "model_module_version": "2.0.0",
      "model_name": "HTMLStyleModel",
      "state": {
       "description_width": "",
       "font_size": null,
       "text_color": null
      }
     },
     "4c2797c63fd54c86a3330004cce2b43f": {
      "model_module": "@jupyter-widgets/controls",
      "model_module_version": "2.0.0",
      "model_name": "HTMLModel",
      "state": {
       "layout": "IPY_MODEL_c7b4f7585c4a48a487ab0bec23485c4b",
       "style": "IPY_MODEL_e0b132a27d684042a096f9b6bfc9a2ff",
       "value": " 127k/127k [00:00&lt;00:00, 11.6MB/s]"
      }
     },
     "4ded7fbacdbe480f9e91d04fde9e38c7": {
      "model_module": "@jupyter-widgets/controls",
      "model_module_version": "2.0.0",
      "model_name": "HTMLStyleModel",
      "state": {
       "description_width": "",
       "font_size": null,
       "text_color": null
      }
     },
     "50112e6e9673484b9f4922fc75c98706": {
      "model_module": "@jupyter-widgets/controls",
      "model_module_version": "2.0.0",
      "model_name": "HTMLModel",
      "state": {
       "layout": "IPY_MODEL_6db73d5ed7564f58a1bd5c6dcf8620be",
       "style": "IPY_MODEL_a172546a6bb7495c9c9b0c4f338a321c",
       "value": " 16.0/16.0 [00:00&lt;00:00, 2.68kB/s]"
      }
     },
     "5037555a261f44f488ac9e9b74b24cd2": {
      "model_module": "@jupyter-widgets/controls",
      "model_module_version": "2.0.0",
      "model_name": "ProgressStyleModel",
      "state": {
       "description_width": ""
      }
     },
     "5253293bb6324b4c8334a5f427902bfd": {
      "model_module": "@jupyter-widgets/base",
      "model_module_version": "2.0.0",
      "model_name": "LayoutModel",
      "state": {}
     },
     "525b2f022e124643bde5322c8fd02e57": {
      "model_module": "@jupyter-widgets/base",
      "model_module_version": "2.0.0",
      "model_name": "LayoutModel",
      "state": {}
     },
     "534ed265b0914b66939c7334b7ea9f06": {
      "model_module": "@jupyter-widgets/controls",
      "model_module_version": "2.0.0",
      "model_name": "HTMLStyleModel",
      "state": {
       "description_width": "",
       "font_size": null,
       "text_color": null
      }
     },
     "5534d2b992f84cf58a48e277f26b19f3": {
      "model_module": "@jupyter-widgets/base",
      "model_module_version": "2.0.0",
      "model_name": "LayoutModel",
      "state": {}
     },
     "560f1611d00c4a23ae13e36bd127fb7c": {
      "model_module": "@jupyter-widgets/controls",
      "model_module_version": "2.0.0",
      "model_name": "HTMLStyleModel",
      "state": {
       "description_width": "",
       "font_size": null,
       "text_color": null
      }
     },
     "582c7a0e982f4ffdbafdba4a5c414c88": {
      "model_module": "@jupyter-widgets/base",
      "model_module_version": "2.0.0",
      "model_name": "LayoutModel",
      "state": {}
     },
     "59c9aee9fb1a4a7caafc8641441652f5": {
      "model_module": "@jupyter-widgets/base",
      "model_module_version": "2.0.0",
      "model_name": "LayoutModel",
      "state": {}
     },
     "5da0edd689774c399716d75067104625": {
      "model_module": "@jupyter-widgets/controls",
      "model_module_version": "2.0.0",
      "model_name": "HBoxModel",
      "state": {
       "children": [
        "IPY_MODEL_310e7206ba8a44b7aa6edeb72b9ae4f4",
        "IPY_MODEL_8bed1f82a8764cac8ae29b3acc4e3184",
        "IPY_MODEL_a5df66419bbb4813887e80d84fade6eb"
       ],
       "layout": "IPY_MODEL_8376194706144a1f818bb382efeb50d8"
      }
     },
     "5fb1a868d8e74fb5bac2ddbf2f83762b": {
      "model_module": "@jupyter-widgets/base",
      "model_module_version": "2.0.0",
      "model_name": "LayoutModel",
      "state": {}
     },
     "66b25744acfa4274899998bd4498fa36": {
      "model_module": "@jupyter-widgets/base",
      "model_module_version": "2.0.0",
      "model_name": "LayoutModel",
      "state": {}
     },
     "67dfb38a6146468098781d75078598d4": {
      "model_module": "@jupyter-widgets/controls",
      "model_module_version": "2.0.0",
      "model_name": "HBoxModel",
      "state": {
       "children": [
        "IPY_MODEL_95a9e5af58da4c27933df76b494490d4",
        "IPY_MODEL_8a65a68f0332438abacda9011b514734",
        "IPY_MODEL_50112e6e9673484b9f4922fc75c98706"
       ],
       "layout": "IPY_MODEL_5253293bb6324b4c8334a5f427902bfd"
      }
     },
     "6a1bb1b5bb57490b8bea90288cd2da81": {
      "model_module": "@jupyter-widgets/controls",
      "model_module_version": "2.0.0",
      "model_name": "HTMLStyleModel",
      "state": {
       "description_width": "",
       "font_size": null,
       "text_color": null
      }
     },
     "6db73d5ed7564f58a1bd5c6dcf8620be": {
      "model_module": "@jupyter-widgets/base",
      "model_module_version": "2.0.0",
      "model_name": "LayoutModel",
      "state": {}
     },
     "7116c8fcd4904948b5637149527d0cbb": {
      "model_module": "@jupyter-widgets/controls",
      "model_module_version": "2.0.0",
      "model_name": "ProgressStyleModel",
      "state": {
       "description_width": ""
      }
     },
     "73c43f4f75434597a89a34b942a3a8ce": {
      "model_module": "@jupyter-widgets/controls",
      "model_module_version": "2.0.0",
      "model_name": "FloatProgressModel",
      "state": {
       "bar_style": "success",
       "layout": "IPY_MODEL_2525d40af1844834bd4c36a90dca3745",
       "max": 1153,
       "style": "IPY_MODEL_994e8bf4d0d7423f91f7a716fb683f61",
       "value": 1153
      }
     },
     "7cda4fb825bd4ce5acaf81281470f3f6": {
      "model_module": "@jupyter-widgets/base",
      "model_module_version": "2.0.0",
      "model_name": "LayoutModel",
      "state": {}
     },
     "82430b85104340139d933edc6116245b": {
      "model_module": "@jupyter-widgets/controls",
      "model_module_version": "2.0.0",
      "model_name": "HTMLModel",
      "state": {
       "layout": "IPY_MODEL_91be39576c434bfe9023e64b43ef14a1",
       "style": "IPY_MODEL_560f1611d00c4a23ae13e36bd127fb7c",
       "value": " 310k/310k [00:00&lt;00:00, 3.09MB/s]"
      }
     },
     "8376194706144a1f818bb382efeb50d8": {
      "model_module": "@jupyter-widgets/base",
      "model_module_version": "2.0.0",
      "model_name": "LayoutModel",
      "state": {}
     },
     "87fe889c0b454651b548e089432dc650": {
      "model_module": "@jupyter-widgets/base",
      "model_module_version": "2.0.0",
      "model_name": "LayoutModel",
      "state": {}
     },
     "8a65a68f0332438abacda9011b514734": {
      "model_module": "@jupyter-widgets/controls",
      "model_module_version": "2.0.0",
      "model_name": "FloatProgressModel",
      "state": {
       "bar_style": "success",
       "layout": "IPY_MODEL_0c26c637e2a541148e2b00641306da34",
       "max": 16,
       "style": "IPY_MODEL_f73138b0dbe24d0ea51e0ae1c5d9136c",
       "value": 16
      }
     },
     "8b06ca4888114e9191b2cbaf13930d08": {
      "model_module": "@jupyter-widgets/controls",
      "model_module_version": "2.0.0",
      "model_name": "HBoxModel",
      "state": {
       "children": [
        "IPY_MODEL_92997c8bd8ce4e99ac5bbccf56bf9c3a",
        "IPY_MODEL_d9fb1bcb961c43efac651a6aabebfb5a",
        "IPY_MODEL_90243610c39346e794e27ecb99a1d382"
       ],
       "layout": "IPY_MODEL_c6591fe11c00465e82fd2c8a8d1ad1ca"
      }
     },
     "8babe4fddddf4bebbb2ac8a36779e813": {
      "model_module": "@jupyter-widgets/base",
      "model_module_version": "2.0.0",
      "model_name": "LayoutModel",
      "state": {}
     },
     "8bed1f82a8764cac8ae29b3acc4e3184": {
      "model_module": "@jupyter-widgets/controls",
      "model_module_version": "2.0.0",
      "model_name": "FloatProgressModel",
      "state": {
       "bar_style": "success",
       "layout": "IPY_MODEL_db6c9248a12342b9958c0d22a4e1849f",
       "max": 62871,
       "style": "IPY_MODEL_c248f8abb277443eb20df01ed9d870c5",
       "value": 62871
      }
     },
     "8ce40ddf4b5e41cd910c8eab1804ccc1": {
      "model_module": "@jupyter-widgets/controls",
      "model_module_version": "2.0.0",
      "model_name": "HBoxModel",
      "state": {
       "children": [
        "IPY_MODEL_94058e9a595f4fae9019834e79d29739",
        "IPY_MODEL_2aab361f94a74479aafe8bde141d6f30",
        "IPY_MODEL_ed5692e9c965410889eef762a40ae908"
       ],
       "layout": "IPY_MODEL_a937ef13a0c34219843b2f71ae1e7155"
      }
     },
     "8f665dcc48224a69b9bb149bbbe7ad3a": {
      "model_module": "@jupyter-widgets/controls",
      "model_module_version": "2.0.0",
      "model_name": "ProgressStyleModel",
      "state": {
       "description_width": ""
      }
     },
     "90243610c39346e794e27ecb99a1d382": {
      "model_module": "@jupyter-widgets/controls",
      "model_module_version": "2.0.0",
      "model_name": "HTMLModel",
      "state": {
       "layout": "IPY_MODEL_5534d2b992f84cf58a48e277f26b19f3",
       "style": "IPY_MODEL_f9659b6daf71474bb6ad95bda971888e",
       "value": " 772/772 [00:00&lt;00:00, 121kB/s]"
      }
     },
     "91be39576c434bfe9023e64b43ef14a1": {
      "model_module": "@jupyter-widgets/base",
      "model_module_version": "2.0.0",
      "model_name": "LayoutModel",
      "state": {}
     },
     "92997c8bd8ce4e99ac5bbccf56bf9c3a": {
      "model_module": "@jupyter-widgets/controls",
      "model_module_version": "2.0.0",
      "model_name": "HTMLModel",
      "state": {
       "layout": "IPY_MODEL_e8152bb8d98e4783a9a899bedb820a49",
       "style": "IPY_MODEL_4b3f364bd57e488088be920923c4e386",
       "value": "special_tokens_map.json: 100%"
      }
     },
     "94058e9a595f4fae9019834e79d29739": {
      "model_module": "@jupyter-widgets/controls",
      "model_module_version": "2.0.0",
      "model_name": "HTMLModel",
      "state": {
       "layout": "IPY_MODEL_487a8772516447b2a37936855ae37548",
       "style": "IPY_MODEL_29af16ff195349c988e5abfdc2ad2683",
       "value": "generation_config.json: 100%"
      }
     },
     "94bdeee4a5514cbbba3cc81acdff8ca0": {
      "model_module": "@jupyter-widgets/controls",
      "model_module_version": "2.0.0",
      "model_name": "HTMLStyleModel",
      "state": {
       "description_width": "",
       "font_size": null,
       "text_color": null
      }
     },
     "95a9e5af58da4c27933df76b494490d4": {
      "model_module": "@jupyter-widgets/controls",
      "model_module_version": "2.0.0",
      "model_name": "HTMLModel",
      "state": {
       "layout": "IPY_MODEL_1094ffcc90244b7fbd8e6b8e69491f73",
       "style": "IPY_MODEL_1e33ecb86ac145519ada45dce445e298",
       "value": "added_tokens.json: 100%"
      }
     },
     "98de8512ca604cfe97fe90e32ac0b0a4": {
      "model_module": "@jupyter-widgets/controls",
      "model_module_version": "2.0.0",
      "model_name": "FloatProgressModel",
      "state": {
       "bar_style": "success",
       "layout": "IPY_MODEL_582c7a0e982f4ffdbafdba4a5c414c88",
       "max": 729755983,
       "style": "IPY_MODEL_7116c8fcd4904948b5637149527d0cbb",
       "value": 729755983
      }
     },
     "98fa17c4a835423b9c585aa4b478333d": {
      "model_module": "@jupyter-widgets/base",
      "model_module_version": "2.0.0",
      "model_name": "LayoutModel",
      "state": {}
     },
     "994e8bf4d0d7423f91f7a716fb683f61": {
      "model_module": "@jupyter-widgets/controls",
      "model_module_version": "2.0.0",
      "model_name": "ProgressStyleModel",
      "state": {
       "description_width": ""
      }
     },
     "9b02e77f32d94793a09b80bcc3339f09": {
      "model_module": "@jupyter-widgets/controls",
      "model_module_version": "2.0.0",
      "model_name": "HTMLStyleModel",
      "state": {
       "description_width": "",
       "font_size": null,
       "text_color": null
      }
     },
     "9bea0fc96ad8426c8e40c2fde8bdb257": {
      "model_module": "@jupyter-widgets/controls",
      "model_module_version": "2.0.0",
      "model_name": "ProgressStyleModel",
      "state": {
       "description_width": ""
      }
     },
     "9e966d1f9abb4295aa8d7c2e87681f7b": {
      "model_module": "@jupyter-widgets/controls",
      "model_module_version": "2.0.0",
      "model_name": "HTMLModel",
      "state": {
       "layout": "IPY_MODEL_40ed04bcfacd4e24aae59f1e2911a3f1",
       "style": "IPY_MODEL_94bdeee4a5514cbbba3cc81acdff8ca0",
       "value": " 1.27k/1.27k [00:00&lt;00:00, 101kB/s]"
      }
     },
     "a172546a6bb7495c9c9b0c4f338a321c": {
      "model_module": "@jupyter-widgets/controls",
      "model_module_version": "2.0.0",
      "model_name": "HTMLStyleModel",
      "state": {
       "description_width": "",
       "font_size": null,
       "text_color": null
      }
     },
     "a56e5cf200974753a5ac68eb0fd40a22": {
      "model_module": "@jupyter-widgets/controls",
      "model_module_version": "2.0.0",
      "model_name": "HBoxModel",
      "state": {
       "children": [
        "IPY_MODEL_d149f599dad444cfb6c4bd44a514f974",
        "IPY_MODEL_14f782d3ab7048d683cfdfcb5947a62d",
        "IPY_MODEL_32aee8f137a34bde9b8491251915b1f0"
       ],
       "layout": "IPY_MODEL_cb0149f64f11496f9569dbb9a59a5472"
      }
     },
     "a5df66419bbb4813887e80d84fade6eb": {
      "model_module": "@jupyter-widgets/controls",
      "model_module_version": "2.0.0",
      "model_name": "HTMLModel",
      "state": {
       "layout": "IPY_MODEL_ceee838ad260457581fa621b740d7b30",
       "style": "IPY_MODEL_acfc17fed7af41b5a5143f969f1f825c",
       "value": " 62.9k/62.9k [00:00&lt;00:00, 9.52MB/s]"
      }
     },
     "a6066a0a676748979566387a9baea391": {
      "model_module": "@jupyter-widgets/controls",
      "model_module_version": "2.0.0",
      "model_name": "HTMLStyleModel",
      "state": {
       "description_width": "",
       "font_size": null,
       "text_color": null
      }
     },
     "a937ef13a0c34219843b2f71ae1e7155": {
      "model_module": "@jupyter-widgets/base",
      "model_module_version": "2.0.0",
      "model_name": "LayoutModel",
      "state": {}
     },
     "ac950fda48354a8385b98c32318f1604": {
      "model_module": "@jupyter-widgets/controls",
      "model_module_version": "2.0.0",
      "model_name": "HTMLStyleModel",
      "state": {
       "description_width": "",
       "font_size": null,
       "text_color": null
      }
     },
     "acfc17fed7af41b5a5143f969f1f825c": {
      "model_module": "@jupyter-widgets/controls",
      "model_module_version": "2.0.0",
      "model_name": "HTMLStyleModel",
      "state": {
       "description_width": "",
       "font_size": null,
       "text_color": null
      }
     },
     "ae9c059ef6424b619d70a56e0bc7051f": {
      "model_module": "@jupyter-widgets/controls",
      "model_module_version": "2.0.0",
      "model_name": "HBoxModel",
      "state": {
       "children": [
        "IPY_MODEL_f24b5225839544c7843b5e69a06f2634",
        "IPY_MODEL_98de8512ca604cfe97fe90e32ac0b0a4",
        "IPY_MODEL_ee0089defc6b44dca2cefca375ca6166"
       ],
       "layout": "IPY_MODEL_8babe4fddddf4bebbb2ac8a36779e813"
      }
     },
     "afe965fd7cb54086ade253638553f9b6": {
      "model_module": "@jupyter-widgets/base",
      "model_module_version": "2.0.0",
      "model_name": "LayoutModel",
      "state": {}
     },
     "b1bebf978eb843dea9a2024737d3cb50": {
      "model_module": "@jupyter-widgets/controls",
      "model_module_version": "2.0.0",
      "model_name": "FloatProgressModel",
      "state": {
       "bar_style": "success",
       "layout": "IPY_MODEL_058704d17e54487c951416ac16f2c933",
       "max": 309565,
       "style": "IPY_MODEL_babbf954a112401aae67c441f7c1499d",
       "value": 309565
      }
     },
     "babbf954a112401aae67c441f7c1499d": {
      "model_module": "@jupyter-widgets/controls",
      "model_module_version": "2.0.0",
      "model_name": "ProgressStyleModel",
      "state": {
       "description_width": ""
      }
     },
     "c0538369c9c64734a403786cee92d1a1": {
      "model_module": "@jupyter-widgets/base",
      "model_module_version": "2.0.0",
      "model_name": "LayoutModel",
      "state": {}
     },
     "c248f8abb277443eb20df01ed9d870c5": {
      "model_module": "@jupyter-widgets/controls",
      "model_module_version": "2.0.0",
      "model_name": "ProgressStyleModel",
      "state": {
       "description_width": ""
      }
     },
     "c2c6c680af5743d5a88a4ea3a49f4faa": {
      "model_module": "@jupyter-widgets/controls",
      "model_module_version": "2.0.0",
      "model_name": "ProgressStyleModel",
      "state": {
       "description_width": ""
      }
     },
     "c2ed5622131c4392ac09ea36bab07ae0": {
      "model_module": "@jupyter-widgets/controls",
      "model_module_version": "2.0.0",
      "model_name": "HTMLModel",
      "state": {
       "layout": "IPY_MODEL_10ec9acdd7fa4149af0db952ecaaefa5",
       "style": "IPY_MODEL_089dc0bc526b4d2db41a2b7e80fa0267",
       "value": "tokenizer.json: 100%"
      }
     },
     "c6591fe11c00465e82fd2c8a8d1ad1ca": {
      "model_module": "@jupyter-widgets/base",
      "model_module_version": "2.0.0",
      "model_name": "LayoutModel",
      "state": {}
     },
     "c7b4f7585c4a48a487ab0bec23485c4b": {
      "model_module": "@jupyter-widgets/base",
      "model_module_version": "2.0.0",
      "model_name": "LayoutModel",
      "state": {}
     },
     "ca63888dec3941a28d1ba5d7422e2e56": {
      "model_module": "@jupyter-widgets/base",
      "model_module_version": "2.0.0",
      "model_name": "LayoutModel",
      "state": {}
     },
     "caec12ccd3eb45ecacc65625c2dcf3dd": {
      "model_module": "@jupyter-widgets/base",
      "model_module_version": "2.0.0",
      "model_name": "LayoutModel",
      "state": {}
     },
     "cb0149f64f11496f9569dbb9a59a5472": {
      "model_module": "@jupyter-widgets/base",
      "model_module_version": "2.0.0",
      "model_name": "LayoutModel",
      "state": {}
     },
     "cb80d23ddde542e4b5df3ae3b5ec3d36": {
      "model_module": "@jupyter-widgets/base",
      "model_module_version": "2.0.0",
      "model_name": "LayoutModel",
      "state": {}
     },
     "cd77bc13fe4340eabb76e19c8a2e3945": {
      "model_module": "@jupyter-widgets/base",
      "model_module_version": "2.0.0",
      "model_name": "LayoutModel",
      "state": {}
     },
     "cda42346917c4462b90244d6e594f6e3": {
      "model_module": "@jupyter-widgets/controls",
      "model_module_version": "2.0.0",
      "model_name": "HTMLStyleModel",
      "state": {
       "description_width": "",
       "font_size": null,
       "text_color": null
      }
     },
     "ceee838ad260457581fa621b740d7b30": {
      "model_module": "@jupyter-widgets/base",
      "model_module_version": "2.0.0",
      "model_name": "LayoutModel",
      "state": {}
     },
     "d149f599dad444cfb6c4bd44a514f974": {
      "model_module": "@jupyter-widgets/controls",
      "model_module_version": "2.0.0",
      "model_name": "HTMLModel",
      "state": {
       "layout": "IPY_MODEL_afe965fd7cb54086ade253638553f9b6",
       "style": "IPY_MODEL_ac950fda48354a8385b98c32318f1604",
       "value": "config.json: 100%"
      }
     },
     "d98488f79a654f85b2b9d545dfc3f082": {
      "model_module": "@jupyter-widgets/controls",
      "model_module_version": "2.0.0",
      "model_name": "HBoxModel",
      "state": {
       "children": [
        "IPY_MODEL_c2ed5622131c4392ac09ea36bab07ae0",
        "IPY_MODEL_b1bebf978eb843dea9a2024737d3cb50",
        "IPY_MODEL_82430b85104340139d933edc6116245b"
       ],
       "layout": "IPY_MODEL_66b25744acfa4274899998bd4498fa36"
      }
     },
     "d9fb1bcb961c43efac651a6aabebfb5a": {
      "model_module": "@jupyter-widgets/controls",
      "model_module_version": "2.0.0",
      "model_name": "FloatProgressModel",
      "state": {
       "bar_style": "success",
       "layout": "IPY_MODEL_59c9aee9fb1a4a7caafc8641441652f5",
       "max": 772,
       "style": "IPY_MODEL_ed09d916d143449581a2ba06cf14e351",
       "value": 772
      }
     },
     "db6c9248a12342b9958c0d22a4e1849f": {
      "model_module": "@jupyter-widgets/base",
      "model_module_version": "2.0.0",
      "model_name": "LayoutModel",
      "state": {}
     },
     "e0b132a27d684042a096f9b6bfc9a2ff": {
      "model_module": "@jupyter-widgets/controls",
      "model_module_version": "2.0.0",
      "model_name": "HTMLStyleModel",
      "state": {
       "description_width": "",
       "font_size": null,
       "text_color": null
      }
     },
     "e3b07d69144f406bb25b800f8c4f6989": {
      "model_module": "@jupyter-widgets/controls",
      "model_module_version": "2.0.0",
      "model_name": "FloatProgressModel",
      "state": {
       "bar_style": "success",
       "layout": "IPY_MODEL_cd77bc13fe4340eabb76e19c8a2e3945",
       "max": 1272,
       "style": "IPY_MODEL_9bea0fc96ad8426c8e40c2fde8bdb257",
       "value": 1272
      }
     },
     "e5b506307f534541a8128e0ebf25a108": {
      "model_module": "@jupyter-widgets/controls",
      "model_module_version": "2.0.0",
      "model_name": "HTMLModel",
      "state": {
       "layout": "IPY_MODEL_c0538369c9c64734a403786cee92d1a1",
       "style": "IPY_MODEL_27eb456da3124964931e0e2bf5a2e724",
       "value": "config.json: 100%"
      }
     },
     "e8152bb8d98e4783a9a899bedb820a49": {
      "model_module": "@jupyter-widgets/base",
      "model_module_version": "2.0.0",
      "model_name": "LayoutModel",
      "state": {}
     },
     "e85e0bfc8f17481a85378aad44e50aaa": {
      "model_module": "@jupyter-widgets/controls",
      "model_module_version": "2.0.0",
      "model_name": "HTMLModel",
      "state": {
       "layout": "IPY_MODEL_2b91988870b547bf9debcf8f28da0a82",
       "style": "IPY_MODEL_534ed265b0914b66939c7334b7ea9f06",
       "value": "tokenizer_config.json: 100%"
      }
     },
     "ed09d916d143449581a2ba06cf14e351": {
      "model_module": "@jupyter-widgets/controls",
      "model_module_version": "2.0.0",
      "model_name": "ProgressStyleModel",
      "state": {
       "description_width": ""
      }
     },
     "ed5692e9c965410889eef762a40ae908": {
      "model_module": "@jupyter-widgets/controls",
      "model_module_version": "2.0.0",
      "model_name": "HTMLModel",
      "state": {
       "layout": "IPY_MODEL_87fe889c0b454651b548e089432dc650",
       "style": "IPY_MODEL_cda42346917c4462b90244d6e594f6e3",
       "value": " 347/347 [00:00&lt;00:00, 38.3kB/s]"
      }
     },
     "ee0089defc6b44dca2cefca375ca6166": {
      "model_module": "@jupyter-widgets/controls",
      "model_module_version": "2.0.0",
      "model_name": "HTMLModel",
      "state": {
       "layout": "IPY_MODEL_3875cad070d94e3a8e68314a7f6b7f80",
       "style": "IPY_MODEL_6a1bb1b5bb57490b8bea90288cd2da81",
       "value": " 730M/730M [00:04&lt;00:00, 60.0MB/s]"
      }
     },
     "f1131bb3b5a749459bbe2698b8e8eaf0": {
      "model_module": "@jupyter-widgets/controls",
      "model_module_version": "2.0.0",
      "model_name": "HBoxModel",
      "state": {
       "children": [
        "IPY_MODEL_e85e0bfc8f17481a85378aad44e50aaa",
        "IPY_MODEL_73c43f4f75434597a89a34b942a3a8ce",
        "IPY_MODEL_25f0219d7b8f4b74b4be58c3cf7ffbfb"
       ],
       "layout": "IPY_MODEL_7cda4fb825bd4ce5acaf81281470f3f6"
      }
     },
     "f24b5225839544c7843b5e69a06f2634": {
      "model_module": "@jupyter-widgets/controls",
      "model_module_version": "2.0.0",
      "model_name": "HTMLModel",
      "state": {
       "layout": "IPY_MODEL_19f66b71c1c74a73864935872184ce85",
       "style": "IPY_MODEL_0fdcc327ccd04fd7add8380b4a4fd375",
       "value": "pytorch_model.bin: 100%"
      }
     },
     "f39682772ff943f6b91f96f6c454164f": {
      "model_module": "@jupyter-widgets/controls",
      "model_module_version": "2.0.0",
      "model_name": "HBoxModel",
      "state": {
       "children": [
        "IPY_MODEL_e5b506307f534541a8128e0ebf25a108",
        "IPY_MODEL_e3b07d69144f406bb25b800f8c4f6989",
        "IPY_MODEL_9e966d1f9abb4295aa8d7c2e87681f7b"
       ],
       "layout": "IPY_MODEL_43dc3b9ab10e4a4dbf0895d287467b67"
      }
     },
     "f5a8f41f199d47c880898426c691c773": {
      "model_module": "@jupyter-widgets/controls",
      "model_module_version": "2.0.0",
      "model_name": "FloatProgressModel",
      "state": {
       "bar_style": "success",
       "layout": "IPY_MODEL_caec12ccd3eb45ecacc65625c2dcf3dd",
       "max": 126891,
       "style": "IPY_MODEL_c2c6c680af5743d5a88a4ea3a49f4faa",
       "value": 126891
      }
     },
     "f73138b0dbe24d0ea51e0ae1c5d9136c": {
      "model_module": "@jupyter-widgets/controls",
      "model_module_version": "2.0.0",
      "model_name": "ProgressStyleModel",
      "state": {
       "description_width": ""
      }
     },
     "f9659b6daf71474bb6ad95bda971888e": {
      "model_module": "@jupyter-widgets/controls",
      "model_module_version": "2.0.0",
      "model_name": "HTMLStyleModel",
      "state": {
       "description_width": "",
       "font_size": null,
       "text_color": null
      }
     }
    },
    "version_major": 2,
    "version_minor": 0
   }
  }
 },
 "nbformat": 4,
 "nbformat_minor": 4
}
