{
 "cells": [
  {
   "cell_type": "markdown",
   "metadata": {
    "height": 79
   },
   "source": [
    "#### Tokenization is the process of breaking down text into smaller units called tokens, which are typically words, subwords, or characters. Tokenization libraries provide tools to perform this essential preprocessing step for natural language processing (NLP) tasks.\n",
    "\n"
   ]
  },
  {
   "cell_type": "markdown",
   "metadata": {
    "height": 29
   },
   "source": [
    "# AutoTokenizer"
   ]
  },
  {
   "cell_type": "code",
   "execution_count": 2,
   "metadata": {
    "height": 29
   },
   "outputs": [],
   "source": [
    "from transformers import AutoTokenizer"
   ]
  },
  {
   "cell_type": "code",
   "execution_count": 4,
   "metadata": {
    "height": 46
   },
   "outputs": [
    {
     "data": {
      "application/vnd.jupyter.widget-view+json": {
       "model_id": "6caf9f51eadf4939958903a04e55a51e",
       "version_major": 2,
       "version_minor": 0
      },
      "text/plain": [
       "tokenizer_config.json:   0%|          | 0.00/48.0 [00:00<?, ?B/s]"
      ]
     },
     "metadata": {},
     "output_type": "display_data"
    },
    {
     "data": {
      "application/vnd.jupyter.widget-view+json": {
       "model_id": "d9c6113e26354dd5a30a59e581f12df6",
       "version_major": 2,
       "version_minor": 0
      },
      "text/plain": [
       "config.json:   0%|          | 0.00/570 [00:00<?, ?B/s]"
      ]
     },
     "metadata": {},
     "output_type": "display_data"
    },
    {
     "data": {
      "application/vnd.jupyter.widget-view+json": {
       "model_id": "3e43813a35234d45b0a1ab9bc495e005",
       "version_major": 2,
       "version_minor": 0
      },
      "text/plain": [
       "vocab.txt:   0%|          | 0.00/232k [00:00<?, ?B/s]"
      ]
     },
     "metadata": {},
     "output_type": "display_data"
    },
    {
     "data": {
      "application/vnd.jupyter.widget-view+json": {
       "model_id": "aa7d8a57f6254aabba524ceeb204c29d",
       "version_major": 2,
       "version_minor": 0
      },
      "text/plain": [
       "tokenizer.json:   0%|          | 0.00/466k [00:00<?, ?B/s]"
      ]
     },
     "metadata": {},
     "output_type": "display_data"
    }
   ],
   "source": [
    "tokenizer=AutoTokenizer.from_pretrained(\"bert-base-uncased\")\n",
    "text=\"Khokana is a village located in lalitpur\""
   ]
  },
  {
   "cell_type": "code",
   "execution_count": 5,
   "metadata": {
    "height": 46
   },
   "outputs": [
    {
     "name": "stdout",
     "output_type": "stream",
     "text": [
      "Tokens ['k', '##ho', '##kan', '##a', 'is', 'a', 'village', 'located', 'in', 'lal', '##it', '##pur']\n"
     ]
    }
   ],
   "source": [
    "tokens=tokenizer.tokenize(text)\n",
    "print(\"Tokens\",tokens)"
   ]
  },
  {
   "cell_type": "markdown",
   "metadata": {
    "height": 30
   },
   "source": [
    "# Text Tokenizer"
   ]
  },
  {
   "cell_type": "code",
   "execution_count": 6,
   "metadata": {
    "height": 64
   },
   "outputs": [
    {
     "name": "stdout",
     "output_type": "stream",
     "text": [
      "['hugging', 'face', 'is', 'awesome']\n"
     ]
    }
   ],
   "source": [
    "text=\"Hugging Face is awesome\"\n",
    "tokens=tokenizer.tokenize(text)\n",
    "print(tokens)"
   ]
  },
  {
   "cell_type": "code",
   "execution_count": 7,
   "metadata": {
    "height": 64
   },
   "outputs": [
    {
     "data": {
      "application/vnd.jupyter.widget-view+json": {
       "model_id": "b59c5501a3b041c1a3026cd3c5876460",
       "version_major": 2,
       "version_minor": 0
      },
      "text/plain": [
       "tokenizer_config.json:   0%|          | 0.00/26.0 [00:00<?, ?B/s]"
      ]
     },
     "metadata": {},
     "output_type": "display_data"
    },
    {
     "data": {
      "application/vnd.jupyter.widget-view+json": {
       "model_id": "645ec993f9f74477ae69aed0667e6618",
       "version_major": 2,
       "version_minor": 0
      },
      "text/plain": [
       "config.json:   0%|          | 0.00/665 [00:00<?, ?B/s]"
      ]
     },
     "metadata": {},
     "output_type": "display_data"
    },
    {
     "data": {
      "application/vnd.jupyter.widget-view+json": {
       "model_id": "2e2bf76e723d4cd4ade5096a841d6da3",
       "version_major": 2,
       "version_minor": 0
      },
      "text/plain": [
       "vocab.json:   0%|          | 0.00/1.04M [00:00<?, ?B/s]"
      ]
     },
     "metadata": {},
     "output_type": "display_data"
    },
    {
     "data": {
      "application/vnd.jupyter.widget-view+json": {
       "model_id": "0aeb27278c704cf6b6095aebbf7672ca",
       "version_major": 2,
       "version_minor": 0
      },
      "text/plain": [
       "merges.txt:   0%|          | 0.00/456k [00:00<?, ?B/s]"
      ]
     },
     "metadata": {},
     "output_type": "display_data"
    },
    {
     "data": {
      "application/vnd.jupyter.widget-view+json": {
       "model_id": "8240ae88295847fb81a2e6c66d5c0d5f",
       "version_major": 2,
       "version_minor": 0
      },
      "text/plain": [
       "tokenizer.json:   0%|          | 0.00/1.36M [00:00<?, ?B/s]"
      ]
     },
     "metadata": {},
     "output_type": "display_data"
    },
    {
     "name": "stdout",
     "output_type": "stream",
     "text": [
      "['Hug', 'ging', 'Ġface', 'Ġis', 'Ġawesome']\n"
     ]
    }
   ],
   "source": [
    "tokenizer=AutoTokenizer.from_pretrained(\"gpt2\")\n",
    "tokens=tokenizer.tokenize(\"Hugging face is awesome\")\n",
    "print(tokens)"
   ]
  },
  {
   "cell_type": "code",
   "execution_count": 8,
   "metadata": {
    "height": 30
   },
   "outputs": [],
   "source": [
    "# Advaced Tokenization Techniques"
   ]
  },
  {
   "cell_type": "markdown",
   "metadata": {
    "height": 30
   },
   "source": [
    "### pAdding and Truncation"
   ]
  },
  {
   "cell_type": "code",
   "execution_count": 11,
   "metadata": {
    "height": 30
   },
   "outputs": [],
   "source": [
    "text=[\"Hello Nepal!\",\"Namaste from kathmandu!\"]"
   ]
  },
  {
   "cell_type": "code",
   "execution_count": 12,
   "metadata": {
    "height": 30
   },
   "outputs": [
    {
     "data": {
      "text/plain": [
       "['Hello Nepal!', 'Namaste from kathmandu!']"
      ]
     },
     "execution_count": 12,
     "metadata": {},
     "output_type": "execute_result"
    }
   ],
   "source": [
    "text"
   ]
  },
  {
   "cell_type": "markdown",
   "metadata": {
    "height": 30
   },
   "source": [
    "-Truncaition : Cutting off tokens that exceed a certain max_length"
   ]
  },
  {
   "cell_type": "markdown",
   "metadata": {
    "height": 30
   },
   "source": [
    "Padding : Adding special(pad) tokens to shorter sequences to make them equal in length to the longest token in a batch"
   ]
  },
  {
   "cell_type": "code",
   "execution_count": 13,
   "metadata": {
    "height": 47
   },
   "outputs": [],
   "source": [
    "tokenizer=AutoTokenizer.from_pretrained(\"gpt2\")\n",
    "text=\"Nepal is a beautiful country with beautiful himalayas\""
   ]
  },
  {
   "cell_type": "code",
   "execution_count": 14,
   "metadata": {
    "height": 30
   },
   "outputs": [],
   "source": [
    "tokens=tokenizer.tokenize(text)"
   ]
  },
  {
   "cell_type": "code",
   "execution_count": 15,
   "metadata": {
    "height": 30
   },
   "outputs": [
    {
     "name": "stdout",
     "output_type": "stream",
     "text": [
      "['N', 'ep', 'al', 'Ġis', 'Ġa', 'Ġbeautiful', 'Ġcountry', 'Ġwith', 'Ġbeautiful', 'Ġhim', 'al', 'ay', 'as']\n"
     ]
    }
   ],
   "source": [
    "print(tokens)"
   ]
  },
  {
   "cell_type": "code",
   "execution_count": 16,
   "metadata": {
    "height": 183
   },
   "outputs": [
    {
     "name": "stdout",
     "output_type": "stream",
     "text": [
      "Tokens: ['[CLS]', 'kathmandu', 'is', 'peaceful', '.', '[SEP]']\n",
      "IDs: [101, 28045, 2003, 9379, 1012, 102]\n"
     ]
    }
   ],
   "source": [
    "from tokenizers import Tokenizer\n",
    "from tokenizers.models import BPE\n",
    "\n",
    "# Load pretrained tokenizer\n",
    "tokenizer = Tokenizer.from_pretrained(\"bert-base-uncased\")\n",
    "\n",
    "output = tokenizer.encode(\"Kathmandu is peaceful.\")\n",
    "print(\"Tokens:\", output.tokens)\n",
    "print(\"IDs:\", output.ids)\n"
   ]
  },
  {
   "cell_type": "code",
   "execution_count": null,
   "metadata": {
    "height": 30
   },
   "outputs": [],
   "source": []
  }
 ],
 "metadata": {
  "colab": {
   "provenance": []
  },
  "kernelspec": {
   "display_name": "Python 3 (ipykernel)",
   "language": "python",
   "name": "python3"
  },
  "language_info": {
   "codemirror_mode": {
    "name": "ipython",
    "version": 3
   },
   "file_extension": ".py",
   "mimetype": "text/x-python",
   "name": "python",
   "nbconvert_exporter": "python",
   "pygments_lexer": "ipython3",
   "version": "3.9.19"
  },
  "widgets": {
   "application/vnd.jupyter.widget-state+json": {
    "state": {
     "00ae0bc2b5d94f0d85b4b8836b2cdd19": {
      "model_module": "@jupyter-widgets/controls",
      "model_module_version": "2.0.0",
      "model_name": "HTMLModel",
      "state": {
       "layout": "IPY_MODEL_30d9fad5960043adaf50a058765a8e4f",
       "style": "IPY_MODEL_8fdf5ca260cf42d992b3e7a9dfd35832",
       "value": "config.json: 100%"
      }
     },
     "00f5b2f4ac274bc7b3f2713b5a37b428": {
      "model_module": "@jupyter-widgets/controls",
      "model_module_version": "2.0.0",
      "model_name": "HTMLStyleModel",
      "state": {
       "description_width": "",
       "font_size": null,
       "text_color": null
      }
     },
     "02f6f005962344f1a16d33ff601f89aa": {
      "model_module": "@jupyter-widgets/base",
      "model_module_version": "2.0.0",
      "model_name": "LayoutModel",
      "state": {}
     },
     "045c4d5baef244f999ed5119dbced78f": {
      "model_module": "@jupyter-widgets/controls",
      "model_module_version": "2.0.0",
      "model_name": "FloatProgressModel",
      "state": {
       "bar_style": "success",
       "layout": "IPY_MODEL_e625bf01d97f4630b3e24a2fdaa6d9cb",
       "max": 26,
       "style": "IPY_MODEL_3734a4cfe2644d4a90187f21a7d95dfe",
       "value": 26
      }
     },
     "0577115ba4124c3391555a487fa6ff54": {
      "model_module": "@jupyter-widgets/base",
      "model_module_version": "2.0.0",
      "model_name": "LayoutModel",
      "state": {}
     },
     "066bb03c9ccc47d8822e8820743c179e": {
      "model_module": "@jupyter-widgets/controls",
      "model_module_version": "2.0.0",
      "model_name": "HTMLModel",
      "state": {
       "layout": "IPY_MODEL_f49f66c612a44874ade0e3625314135a",
       "style": "IPY_MODEL_9abfa540b33342a8a924fb5ad40f59e6",
       "value": " 1.36M/1.36M [00:00&lt;00:00, 22.5MB/s]"
      }
     },
     "0671c76c2e9a4a8a9ca3920f62dfbbe5": {
      "model_module": "@jupyter-widgets/controls",
      "model_module_version": "2.0.0",
      "model_name": "ProgressStyleModel",
      "state": {
       "description_width": ""
      }
     },
     "087b23123d22417b965a09c943e69fac": {
      "model_module": "@jupyter-widgets/controls",
      "model_module_version": "2.0.0",
      "model_name": "ProgressStyleModel",
      "state": {
       "description_width": ""
      }
     },
     "0888da61e5254bca94c0eb498b78062b": {
      "model_module": "@jupyter-widgets/base",
      "model_module_version": "2.0.0",
      "model_name": "LayoutModel",
      "state": {}
     },
     "0a214971d84946b08a3fa32874b5fe8f": {
      "model_module": "@jupyter-widgets/controls",
      "model_module_version": "2.0.0",
      "model_name": "HBoxModel",
      "state": {
       "children": [
        "IPY_MODEL_85a22a9f8cd3438aa80a42ab68b64d25",
        "IPY_MODEL_9fd7bd8ac7154fcb9136088400ab174e",
        "IPY_MODEL_55d0851640ba45cb9e11a470de6ea622"
       ],
       "layout": "IPY_MODEL_981db6c0c75f494fb08ab6caff6677cb"
      }
     },
     "0aeb27278c704cf6b6095aebbf7672ca": {
      "model_module": "@jupyter-widgets/controls",
      "model_module_version": "2.0.0",
      "model_name": "HBoxModel",
      "state": {
       "children": [
        "IPY_MODEL_b68ea962f405431fbc86a0d9c2790871",
        "IPY_MODEL_1b2b548c3ef4497781a6960b795c3edc",
        "IPY_MODEL_cb2b4f1c1bcb407481dad50ce66301ca"
       ],
       "layout": "IPY_MODEL_264f3b34e55b4bd08e3097813d9b6520"
      }
     },
     "0cba20c24fe048ee8070d5d89b3a8423": {
      "model_module": "@jupyter-widgets/controls",
      "model_module_version": "2.0.0",
      "model_name": "FloatProgressModel",
      "state": {
       "bar_style": "success",
       "layout": "IPY_MODEL_fd8df8a193d0427aaf0b0f008812b6b1",
       "max": 48,
       "style": "IPY_MODEL_ab0f5f5dc2a64522a3622c287fc94520",
       "value": 48
      }
     },
     "0d46a03aab5e4f5d96e209fc86ed69d2": {
      "model_module": "@jupyter-widgets/base",
      "model_module_version": "2.0.0",
      "model_name": "LayoutModel",
      "state": {}
     },
     "0d6f5ec613e6458bb0e9385173bd188b": {
      "model_module": "@jupyter-widgets/controls",
      "model_module_version": "2.0.0",
      "model_name": "HTMLModel",
      "state": {
       "layout": "IPY_MODEL_a79f54ce44ae44e4a7b09b06ecc2c041",
       "style": "IPY_MODEL_378e42fba6fe422a8d3d270f1566a138",
       "value": "vocab.txt: 100%"
      }
     },
     "11033d84ccbd4bc499732647089d4812": {
      "model_module": "@jupyter-widgets/controls",
      "model_module_version": "2.0.0",
      "model_name": "HBoxModel",
      "state": {
       "children": [
        "IPY_MODEL_50dbd9973c6643efbd2998cc6e1fe5bc",
        "IPY_MODEL_493994dfa1ee463bad7c3714a2bc10e0",
        "IPY_MODEL_4da1bc07275e4b87a59e6e4ba9e7b271"
       ],
       "layout": "IPY_MODEL_8854291739bf4f96a4a9d6b036106404"
      }
     },
     "157d4a6b0628405682c995234cb55ac5": {
      "model_module": "@jupyter-widgets/controls",
      "model_module_version": "2.0.0",
      "model_name": "FloatProgressModel",
      "state": {
       "bar_style": "success",
       "layout": "IPY_MODEL_38ac490eda8945a9a4dd0ac612001918",
       "max": 466062,
       "style": "IPY_MODEL_2d8e6acf103444bf97fafab4afdc3a76",
       "value": 466062
      }
     },
     "1797638c39fc48e0a44400cddcd86099": {
      "model_module": "@jupyter-widgets/controls",
      "model_module_version": "2.0.0",
      "model_name": "ProgressStyleModel",
      "state": {
       "description_width": ""
      }
     },
     "182d22c524df4aa6b2378a596ebb15c9": {
      "model_module": "@jupyter-widgets/controls",
      "model_module_version": "2.0.0",
      "model_name": "HBoxModel",
      "state": {
       "children": [
        "IPY_MODEL_995b9e21d355404da3d377ba4810daf7",
        "IPY_MODEL_e82295c962b244c4acad75a00824e708",
        "IPY_MODEL_405ab171d0254327b2cfc0f365477e06"
       ],
       "layout": "IPY_MODEL_bd79b211358c40b4a0a7e5c6556b6920"
      }
     },
     "18626bf33da24ef383a38b5a7fa62a9f": {
      "model_module": "@jupyter-widgets/controls",
      "model_module_version": "2.0.0",
      "model_name": "HTMLModel",
      "state": {
       "layout": "IPY_MODEL_0d46a03aab5e4f5d96e209fc86ed69d2",
       "style": "IPY_MODEL_61be801363254189baabc7852254a334",
       "value": " 456k/456k [00:00&lt;00:00, 3.76MB/s]"
      }
     },
     "19c63dd974624642a9716c967dc59bb9": {
      "model_module": "@jupyter-widgets/base",
      "model_module_version": "2.0.0",
      "model_name": "LayoutModel",
      "state": {}
     },
     "1aff775f289a4e4a8f3d7817082ad9ec": {
      "model_module": "@jupyter-widgets/controls",
      "model_module_version": "2.0.0",
      "model_name": "HTMLStyleModel",
      "state": {
       "description_width": "",
       "font_size": null,
       "text_color": null
      }
     },
     "1b2b548c3ef4497781a6960b795c3edc": {
      "model_module": "@jupyter-widgets/controls",
      "model_module_version": "2.0.0",
      "model_name": "FloatProgressModel",
      "state": {
       "bar_style": "success",
       "layout": "IPY_MODEL_b76380700ff1421687101b05596ab1f8",
       "max": 456318,
       "style": "IPY_MODEL_3960746631ca433caaa424888623696a",
       "value": 456318
      }
     },
     "1b7cf2002f464083953d8dbadba69449": {
      "model_module": "@jupyter-widgets/controls",
      "model_module_version": "2.0.0",
      "model_name": "ProgressStyleModel",
      "state": {
       "description_width": ""
      }
     },
     "1bad6f595b2b423ab808bc8cfd08e81f": {
      "model_module": "@jupyter-widgets/controls",
      "model_module_version": "2.0.0",
      "model_name": "HBoxModel",
      "state": {
       "children": [
        "IPY_MODEL_e5c2fd255c8f4b399abd6eb9aa981007",
        "IPY_MODEL_f5d38c18420b4bf382dfd21439acb5b6",
        "IPY_MODEL_2170b64e6b7f47e6a7d0881397f2aafe"
       ],
       "layout": "IPY_MODEL_a954cfdff72b49c6a47713843e933c7f"
      }
     },
     "1c5fc68ec35746838bc3bf0ba524c827": {
      "model_module": "@jupyter-widgets/controls",
      "model_module_version": "2.0.0",
      "model_name": "HTMLModel",
      "state": {
       "layout": "IPY_MODEL_fd6ffa6edcdd4462bec884a1a3457283",
       "style": "IPY_MODEL_bdada229d8ba44f7b73da6fc8e5931a2",
       "value": "tokenizer_config.json: 100%"
      }
     },
     "1d4d50107abe419ebdcc33f06ff50335": {
      "model_module": "@jupyter-widgets/controls",
      "model_module_version": "2.0.0",
      "model_name": "HTMLModel",
      "state": {
       "layout": "IPY_MODEL_59f0ee82f2774a929db1e9c5c6d5a5ab",
       "style": "IPY_MODEL_75cf5527407041aebe832b35e78656a8",
       "value": "config.json: 100%"
      }
     },
     "1f09b7ba6a6241079f41d305e97ccc47": {
      "model_module": "@jupyter-widgets/controls",
      "model_module_version": "2.0.0",
      "model_name": "HTMLModel",
      "state": {
       "layout": "IPY_MODEL_6ae21785fa58466198dfe7e78a5e8819",
       "style": "IPY_MODEL_4624ce54f8dd4d2199e3796546e62a3e",
       "value": "tokenizer_config.json: 100%"
      }
     },
     "1f0f0b5172e349829bcf44c04ddef518": {
      "model_module": "@jupyter-widgets/base",
      "model_module_version": "2.0.0",
      "model_name": "LayoutModel",
      "state": {}
     },
     "2170b64e6b7f47e6a7d0881397f2aafe": {
      "model_module": "@jupyter-widgets/controls",
      "model_module_version": "2.0.0",
      "model_name": "HTMLModel",
      "state": {
       "layout": "IPY_MODEL_99f44171247646578fb1878a7196a49d",
       "style": "IPY_MODEL_b54451804785445ba8f2fd546606cabd",
       "value": " 1.36M/1.36M [00:00&lt;00:00, 7.60MB/s]"
      }
     },
     "2215196eedff4107a9239e176726ef50": {
      "model_module": "@jupyter-widgets/base",
      "model_module_version": "2.0.0",
      "model_name": "LayoutModel",
      "state": {}
     },
     "2216bc75166f418c9374c3123e005b0e": {
      "model_module": "@jupyter-widgets/controls",
      "model_module_version": "2.0.0",
      "model_name": "HBoxModel",
      "state": {
       "children": [
        "IPY_MODEL_af694d7815074e708258d2451910a9a2",
        "IPY_MODEL_b44020d678524c768be056098adda652",
        "IPY_MODEL_b9dd0b8e72b2486fbc35a196bb946a90"
       ],
       "layout": "IPY_MODEL_3835f622b7054fdaa7312eeed3a7b32e"
      }
     },
     "223447d0f53141f4a78e55a223ac2fb9": {
      "model_module": "@jupyter-widgets/base",
      "model_module_version": "2.0.0",
      "model_name": "LayoutModel",
      "state": {}
     },
     "249c38bbe24047dea481e76786f63caa": {
      "model_module": "@jupyter-widgets/controls",
      "model_module_version": "2.0.0",
      "model_name": "FloatProgressModel",
      "state": {
       "bar_style": "success",
       "layout": "IPY_MODEL_834923832b1d4493bed12cfa43cccbdf",
       "max": 665,
       "style": "IPY_MODEL_1797638c39fc48e0a44400cddcd86099",
       "value": 665
      }
     },
     "259fa7d3763741ff939ad9ad063b0ecc": {
      "model_module": "@jupyter-widgets/base",
      "model_module_version": "2.0.0",
      "model_name": "LayoutModel",
      "state": {}
     },
     "264f3b34e55b4bd08e3097813d9b6520": {
      "model_module": "@jupyter-widgets/base",
      "model_module_version": "2.0.0",
      "model_name": "LayoutModel",
      "state": {}
     },
     "269847d19dfc4a09b6a330951ffb378d": {
      "model_module": "@jupyter-widgets/controls",
      "model_module_version": "2.0.0",
      "model_name": "HTMLStyleModel",
      "state": {
       "description_width": "",
       "font_size": null,
       "text_color": null
      }
     },
     "276bc8a70fe541d98d7a3a35c9c8a0d3": {
      "model_module": "@jupyter-widgets/controls",
      "model_module_version": "2.0.0",
      "model_name": "HTMLModel",
      "state": {
       "layout": "IPY_MODEL_5e8b3255546842d7adb3941bc1ba4e23",
       "style": "IPY_MODEL_d5a33bd34ba445af8efba38ac9870f3d",
       "value": "tokenizer.json: 100%"
      }
     },
     "29a83aec0610429ab232b25281c5bde7": {
      "model_module": "@jupyter-widgets/controls",
      "model_module_version": "2.0.0",
      "model_name": "FloatProgressModel",
      "state": {
       "bar_style": "success",
       "layout": "IPY_MODEL_ea0aaa459b854f5db7e6cad55f307751",
       "max": 570,
       "style": "IPY_MODEL_737018c5c5934dfe8f6e09955a9add6d",
       "value": 570
      }
     },
     "2a8879acda0248578a7f1d48bc13c488": {
      "model_module": "@jupyter-widgets/base",
      "model_module_version": "2.0.0",
      "model_name": "LayoutModel",
      "state": {}
     },
     "2b722d5eb5a24b8fa03ddcd2efb80730": {
      "model_module": "@jupyter-widgets/base",
      "model_module_version": "2.0.0",
      "model_name": "LayoutModel",
      "state": {}
     },
     "2baf76bc4aeb48ebadb983c38f71e95d": {
      "model_module": "@jupyter-widgets/base",
      "model_module_version": "2.0.0",
      "model_name": "LayoutModel",
      "state": {}
     },
     "2caf4a14c9744f3887c4668b92ae1841": {
      "model_module": "@jupyter-widgets/base",
      "model_module_version": "2.0.0",
      "model_name": "LayoutModel",
      "state": {}
     },
     "2d8e6acf103444bf97fafab4afdc3a76": {
      "model_module": "@jupyter-widgets/controls",
      "model_module_version": "2.0.0",
      "model_name": "ProgressStyleModel",
      "state": {
       "description_width": ""
      }
     },
     "2e2bf76e723d4cd4ade5096a841d6da3": {
      "model_module": "@jupyter-widgets/controls",
      "model_module_version": "2.0.0",
      "model_name": "HBoxModel",
      "state": {
       "children": [
        "IPY_MODEL_b76a7cf5ff9144bba6f9ee7b225cbd70",
        "IPY_MODEL_cfbcbdc8794e4d6f843c1d05812b9f57",
        "IPY_MODEL_b7883d9ab71d410c92f9097f3ed2847d"
       ],
       "layout": "IPY_MODEL_0888da61e5254bca94c0eb498b78062b"
      }
     },
     "2e7e8adb2b0b47a09018718ccd814776": {
      "model_module": "@jupyter-widgets/base",
      "model_module_version": "2.0.0",
      "model_name": "LayoutModel",
      "state": {}
     },
     "30d9fad5960043adaf50a058765a8e4f": {
      "model_module": "@jupyter-widgets/base",
      "model_module_version": "2.0.0",
      "model_name": "LayoutModel",
      "state": {}
     },
     "315081e65ffa41e390f9c16653f4cd7d": {
      "model_module": "@jupyter-widgets/controls",
      "model_module_version": "2.0.0",
      "model_name": "HTMLStyleModel",
      "state": {
       "description_width": "",
       "font_size": null,
       "text_color": null
      }
     },
     "355f01646fad4f2399b05a8995a71875": {
      "model_module": "@jupyter-widgets/controls",
      "model_module_version": "2.0.0",
      "model_name": "HTMLStyleModel",
      "state": {
       "description_width": "",
       "font_size": null,
       "text_color": null
      }
     },
     "3642610cc0814d648b1021e51ebe412a": {
      "model_module": "@jupyter-widgets/base",
      "model_module_version": "2.0.0",
      "model_name": "LayoutModel",
      "state": {}
     },
     "370fef45723f43fea18cb78f14a94926": {
      "model_module": "@jupyter-widgets/controls",
      "model_module_version": "2.0.0",
      "model_name": "HTMLModel",
      "state": {
       "layout": "IPY_MODEL_3dfd1e1e820544639cbf7ae3d09e7c99",
       "style": "IPY_MODEL_4f0875d1c5684c4ab0491b5092044a2a",
       "value": "vocab.json: 100%"
      }
     },
     "3734a4cfe2644d4a90187f21a7d95dfe": {
      "model_module": "@jupyter-widgets/controls",
      "model_module_version": "2.0.0",
      "model_name": "ProgressStyleModel",
      "state": {
       "description_width": ""
      }
     },
     "378e42fba6fe422a8d3d270f1566a138": {
      "model_module": "@jupyter-widgets/controls",
      "model_module_version": "2.0.0",
      "model_name": "HTMLStyleModel",
      "state": {
       "description_width": "",
       "font_size": null,
       "text_color": null
      }
     },
     "3818d15144244e5eb7a59e0d9dcff806": {
      "model_module": "@jupyter-widgets/controls",
      "model_module_version": "2.0.0",
      "model_name": "HTMLStyleModel",
      "state": {
       "description_width": "",
       "font_size": null,
       "text_color": null
      }
     },
     "3835f622b7054fdaa7312eeed3a7b32e": {
      "model_module": "@jupyter-widgets/base",
      "model_module_version": "2.0.0",
      "model_name": "LayoutModel",
      "state": {}
     },
     "38ac490eda8945a9a4dd0ac612001918": {
      "model_module": "@jupyter-widgets/base",
      "model_module_version": "2.0.0",
      "model_name": "LayoutModel",
      "state": {}
     },
     "39168478ca3e4908ae38cb15ef9f67e9": {
      "model_module": "@jupyter-widgets/controls",
      "model_module_version": "2.0.0",
      "model_name": "ProgressStyleModel",
      "state": {
       "description_width": ""
      }
     },
     "3960746631ca433caaa424888623696a": {
      "model_module": "@jupyter-widgets/controls",
      "model_module_version": "2.0.0",
      "model_name": "ProgressStyleModel",
      "state": {
       "description_width": ""
      }
     },
     "3ce1ff32407541d0ad6363da00ea3e19": {
      "model_module": "@jupyter-widgets/controls",
      "model_module_version": "2.0.0",
      "model_name": "HTMLModel",
      "state": {
       "layout": "IPY_MODEL_5e8854cc42214dc6bbdd3baaf9d9b3d7",
       "style": "IPY_MODEL_4ad50472a46a41a8b50820f385525563",
       "value": " 26.0/26.0 [00:00&lt;00:00, 2.04kB/s]"
      }
     },
     "3dfd1e1e820544639cbf7ae3d09e7c99": {
      "model_module": "@jupyter-widgets/base",
      "model_module_version": "2.0.0",
      "model_name": "LayoutModel",
      "state": {}
     },
     "3e20cbff14734fd8980a9bd73bea98ce": {
      "model_module": "@jupyter-widgets/base",
      "model_module_version": "2.0.0",
      "model_name": "LayoutModel",
      "state": {}
     },
     "3e43813a35234d45b0a1ab9bc495e005": {
      "model_module": "@jupyter-widgets/controls",
      "model_module_version": "2.0.0",
      "model_name": "HBoxModel",
      "state": {
       "children": [
        "IPY_MODEL_0d6f5ec613e6458bb0e9385173bd188b",
        "IPY_MODEL_e07f83236a2343e2a438ae61f9d8827a",
        "IPY_MODEL_81f61fd797bd452b886eb484274b66c4"
       ],
       "layout": "IPY_MODEL_a6fd92fca0314065934882928738e4e1"
      }
     },
     "3f1f2095608e4263ae8c157fc8935d55": {
      "model_module": "@jupyter-widgets/controls",
      "model_module_version": "2.0.0",
      "model_name": "HBoxModel",
      "state": {
       "children": [
        "IPY_MODEL_370fef45723f43fea18cb78f14a94926",
        "IPY_MODEL_a1a24c594be444058133566928c85786",
        "IPY_MODEL_4e9f5237fb59492b952f55618e775266"
       ],
       "layout": "IPY_MODEL_db8cdf69d4d54092ad9c9d110b9438b2"
      }
     },
     "405ab171d0254327b2cfc0f365477e06": {
      "model_module": "@jupyter-widgets/controls",
      "model_module_version": "2.0.0",
      "model_name": "HTMLModel",
      "state": {
       "layout": "IPY_MODEL_223447d0f53141f4a78e55a223ac2fb9",
       "style": "IPY_MODEL_df9ff7a9fdbd4a18b0eec60135c69413",
       "value": " 629/629 [00:00&lt;00:00, 50.3kB/s]"
      }
     },
     "40e042e0a9e44058adb4247ad9fd9361": {
      "model_module": "@jupyter-widgets/controls",
      "model_module_version": "2.0.0",
      "model_name": "HTMLStyleModel",
      "state": {
       "description_width": "",
       "font_size": null,
       "text_color": null
      }
     },
     "42b18390301c44d2ab13d08a4340d78e": {
      "model_module": "@jupyter-widgets/controls",
      "model_module_version": "2.0.0",
      "model_name": "HBoxModel",
      "state": {
       "children": [
        "IPY_MODEL_1f09b7ba6a6241079f41d305e97ccc47",
        "IPY_MODEL_0cba20c24fe048ee8070d5d89b3a8423",
        "IPY_MODEL_7223021468134c05a2e7ba243678dade"
       ],
       "layout": "IPY_MODEL_8d28b47d076b44c9885059294b1c778b"
      }
     },
     "43e8f817cf8c4c2883c9815a5201749b": {
      "model_module": "@jupyter-widgets/controls",
      "model_module_version": "2.0.0",
      "model_name": "HTMLModel",
      "state": {
       "layout": "IPY_MODEL_19c63dd974624642a9716c967dc59bb9",
       "style": "IPY_MODEL_e19628d2c7e24310bb328fe1719c67b1",
       "value": "model.safetensors: 100%"
      }
     },
     "45404032fec34f01a852372f6fa5830b": {
      "model_module": "@jupyter-widgets/controls",
      "model_module_version": "2.0.0",
      "model_name": "FloatProgressModel",
      "state": {
       "bar_style": "success",
       "layout": "IPY_MODEL_259fa7d3763741ff939ad9ad063b0ecc",
       "max": 48,
       "style": "IPY_MODEL_88bb23d8c6374ac489e96aedb0dd349b",
       "value": 48
      }
     },
     "4624ce54f8dd4d2199e3796546e62a3e": {
      "model_module": "@jupyter-widgets/controls",
      "model_module_version": "2.0.0",
      "model_name": "HTMLStyleModel",
      "state": {
       "description_width": "",
       "font_size": null,
       "text_color": null
      }
     },
     "482c768405bb4c7796cde23249209d61": {
      "model_module": "@jupyter-widgets/base",
      "model_module_version": "2.0.0",
      "model_name": "LayoutModel",
      "state": {}
     },
     "48ed56f7694d47949532910f1a70cb6e": {
      "model_module": "@jupyter-widgets/controls",
      "model_module_version": "2.0.0",
      "model_name": "HTMLStyleModel",
      "state": {
       "description_width": "",
       "font_size": null,
       "text_color": null
      }
     },
     "493994dfa1ee463bad7c3714a2bc10e0": {
      "model_module": "@jupyter-widgets/controls",
      "model_module_version": "2.0.0",
      "model_name": "FloatProgressModel",
      "state": {
       "bar_style": "success",
       "layout": "IPY_MODEL_601b03a98cfa47faa6a463edf2470ff0",
       "max": 1154,
       "style": "IPY_MODEL_560d6e3c9825411e89c094d6931f58e7",
       "value": 1154
      }
     },
     "4ad50472a46a41a8b50820f385525563": {
      "model_module": "@jupyter-widgets/controls",
      "model_module_version": "2.0.0",
      "model_name": "HTMLStyleModel",
      "state": {
       "description_width": "",
       "font_size": null,
       "text_color": null
      }
     },
     "4b5b8a56edc94b0fb053b16a73ad381e": {
      "model_module": "@jupyter-widgets/controls",
      "model_module_version": "2.0.0",
      "model_name": "ProgressStyleModel",
      "state": {
       "description_width": ""
      }
     },
     "4baa26a08a8c4edc9b7e39fc13ca3d97": {
      "model_module": "@jupyter-widgets/controls",
      "model_module_version": "2.0.0",
      "model_name": "HBoxModel",
      "state": {
       "children": [
        "IPY_MODEL_51108ec8996e4e97a0e520a34d9d8b77",
        "IPY_MODEL_add95387502343ba8113739541fd9559",
        "IPY_MODEL_18626bf33da24ef383a38b5a7fa62a9f"
       ],
       "layout": "IPY_MODEL_522d796e2c1f412f85bacaae25e00684"
      }
     },
     "4c9edb08ec774ceabfa5b2ddd81347fb": {
      "model_module": "@jupyter-widgets/base",
      "model_module_version": "2.0.0",
      "model_name": "LayoutModel",
      "state": {}
     },
     "4d7359b81e724eb8ac3b6c3f8c86123f": {
      "model_module": "@jupyter-widgets/base",
      "model_module_version": "2.0.0",
      "model_name": "LayoutModel",
      "state": {}
     },
     "4da1bc07275e4b87a59e6e4ba9e7b271": {
      "model_module": "@jupyter-widgets/controls",
      "model_module_version": "2.0.0",
      "model_name": "HTMLModel",
      "state": {
       "layout": "IPY_MODEL_847eb29a7e284243ad505c50f11aa142",
       "style": "IPY_MODEL_b66e3f3708cc4a2098cd4f1ae16a32ab",
       "value": " 1.15k/1.15k [00:00&lt;00:00, 147kB/s]"
      }
     },
     "4e9f5237fb59492b952f55618e775266": {
      "model_module": "@jupyter-widgets/controls",
      "model_module_version": "2.0.0",
      "model_name": "HTMLModel",
      "state": {
       "layout": "IPY_MODEL_b8d612e4e758498eae06fd1f9be6a401",
       "style": "IPY_MODEL_cea2b82e68f34fb28126e4b0c25f4486",
       "value": " 899k/899k [00:00&lt;00:00, 5.01MB/s]"
      }
     },
     "4eb0ea6f6227497d800d583b3701a9b8": {
      "model_module": "@jupyter-widgets/controls",
      "model_module_version": "2.0.0",
      "model_name": "HTMLStyleModel",
      "state": {
       "description_width": "",
       "font_size": null,
       "text_color": null
      }
     },
     "4f0875d1c5684c4ab0491b5092044a2a": {
      "model_module": "@jupyter-widgets/controls",
      "model_module_version": "2.0.0",
      "model_name": "HTMLStyleModel",
      "state": {
       "description_width": "",
       "font_size": null,
       "text_color": null
      }
     },
     "50dbd9973c6643efbd2998cc6e1fe5bc": {
      "model_module": "@jupyter-widgets/controls",
      "model_module_version": "2.0.0",
      "model_name": "HTMLModel",
      "state": {
       "layout": "IPY_MODEL_dbe20747b2514ed3b083a1c00e248bf5",
       "style": "IPY_MODEL_48ed56f7694d47949532910f1a70cb6e",
       "value": "config.json: 100%"
      }
     },
     "50e7109660b8461889ebd63527bbe1f7": {
      "model_module": "@jupyter-widgets/base",
      "model_module_version": "2.0.0",
      "model_name": "LayoutModel",
      "state": {}
     },
     "51108ec8996e4e97a0e520a34d9d8b77": {
      "model_module": "@jupyter-widgets/controls",
      "model_module_version": "2.0.0",
      "model_name": "HTMLModel",
      "state": {
       "layout": "IPY_MODEL_482c768405bb4c7796cde23249209d61",
       "style": "IPY_MODEL_3818d15144244e5eb7a59e0d9dcff806",
       "value": "merges.txt: 100%"
      }
     },
     "519246b49d654b2c8fe247ddbdd59c3f": {
      "model_module": "@jupyter-widgets/base",
      "model_module_version": "2.0.0",
      "model_name": "LayoutModel",
      "state": {}
     },
     "51e9fa24faac4bfbace1787b7c2d87b2": {
      "model_module": "@jupyter-widgets/controls",
      "model_module_version": "2.0.0",
      "model_name": "HTMLModel",
      "state": {
       "layout": "IPY_MODEL_3642610cc0814d648b1021e51ebe412a",
       "style": "IPY_MODEL_73e473cfee7d4d45b98ed340b39c57b4",
       "value": "tokenizer_config.json: 100%"
      }
     },
     "522d796e2c1f412f85bacaae25e00684": {
      "model_module": "@jupyter-widgets/base",
      "model_module_version": "2.0.0",
      "model_name": "LayoutModel",
      "state": {}
     },
     "52be9739a3b6403db619d4b0a5e49c9b": {
      "model_module": "@jupyter-widgets/controls",
      "model_module_version": "2.0.0",
      "model_name": "FloatProgressModel",
      "state": {
       "bar_style": "success",
       "layout": "IPY_MODEL_7e05d459a8b84bc1bf17b6fe1eb325ec",
       "max": 267832558,
       "style": "IPY_MODEL_97b32158b51d4541ba01ab3a48da049e",
       "value": 267832558
      }
     },
     "530743613c9d438c8fea5dad86b2fc88": {
      "model_module": "@jupyter-widgets/base",
      "model_module_version": "2.0.0",
      "model_name": "LayoutModel",
      "state": {}
     },
     "55d0851640ba45cb9e11a470de6ea622": {
      "model_module": "@jupyter-widgets/controls",
      "model_module_version": "2.0.0",
      "model_name": "HTMLModel",
      "state": {
       "layout": "IPY_MODEL_f9f552dccd224451a340eb6101271035",
       "style": "IPY_MODEL_b0f274f0ebb64fadae8ce03a7efd665c",
       "value": " 1.63G/1.63G [00:21&lt;00:00, 195MB/s]"
      }
     },
     "560d6e3c9825411e89c094d6931f58e7": {
      "model_module": "@jupyter-widgets/controls",
      "model_module_version": "2.0.0",
      "model_name": "ProgressStyleModel",
      "state": {
       "description_width": ""
      }
     },
     "599844094db940daa9511f8c3be67acc": {
      "model_module": "@jupyter-widgets/controls",
      "model_module_version": "2.0.0",
      "model_name": "HTMLModel",
      "state": {
       "layout": "IPY_MODEL_c42952b397a044ee9be73d919482ff27",
       "style": "IPY_MODEL_8a49e0084c814163ae02436f68fea503",
       "value": "tokenizer.json: 100%"
      }
     },
     "59f0ee82f2774a929db1e9c5c6d5a5ab": {
      "model_module": "@jupyter-widgets/base",
      "model_module_version": "2.0.0",
      "model_name": "LayoutModel",
      "state": {}
     },
     "5b53e46d78d8427d8b290737b98b0a5c": {
      "model_module": "@jupyter-widgets/controls",
      "model_module_version": "2.0.0",
      "model_name": "ProgressStyleModel",
      "state": {
       "description_width": ""
      }
     },
     "5e25360de00c40738c3b0ef3ec0f8e2c": {
      "model_module": "@jupyter-widgets/base",
      "model_module_version": "2.0.0",
      "model_name": "LayoutModel",
      "state": {}
     },
     "5e8854cc42214dc6bbdd3baaf9d9b3d7": {
      "model_module": "@jupyter-widgets/base",
      "model_module_version": "2.0.0",
      "model_name": "LayoutModel",
      "state": {}
     },
     "5e8b3255546842d7adb3941bc1ba4e23": {
      "model_module": "@jupyter-widgets/base",
      "model_module_version": "2.0.0",
      "model_name": "LayoutModel",
      "state": {}
     },
     "6007bef099b3401499975f1a5e2e7098": {
      "model_module": "@jupyter-widgets/base",
      "model_module_version": "2.0.0",
      "model_name": "LayoutModel",
      "state": {}
     },
     "601b03a98cfa47faa6a463edf2470ff0": {
      "model_module": "@jupyter-widgets/base",
      "model_module_version": "2.0.0",
      "model_name": "LayoutModel",
      "state": {}
     },
     "60f6061f595d43d785a04e2e1c951bf2": {
      "model_module": "@jupyter-widgets/base",
      "model_module_version": "2.0.0",
      "model_name": "LayoutModel",
      "state": {}
     },
     "61be801363254189baabc7852254a334": {
      "model_module": "@jupyter-widgets/controls",
      "model_module_version": "2.0.0",
      "model_name": "HTMLStyleModel",
      "state": {
       "description_width": "",
       "font_size": null,
       "text_color": null
      }
     },
     "6340e8bbd7a14e4d8188c95992194792": {
      "model_module": "@jupyter-widgets/controls",
      "model_module_version": "2.0.0",
      "model_name": "HTMLStyleModel",
      "state": {
       "description_width": "",
       "font_size": null,
       "text_color": null
      }
     },
     "63dc0f5b53de4d88a52330ac4de8cedd": {
      "model_module": "@jupyter-widgets/controls",
      "model_module_version": "2.0.0",
      "model_name": "HTMLModel",
      "state": {
       "layout": "IPY_MODEL_2a8879acda0248578a7f1d48bc13c488",
       "style": "IPY_MODEL_e07c83d7d9094eb5861a7dcfc6722546",
       "value": " 665/665 [00:00&lt;00:00, 112kB/s]"
      }
     },
     "645ec993f9f74477ae69aed0667e6618": {
      "model_module": "@jupyter-widgets/controls",
      "model_module_version": "2.0.0",
      "model_name": "HBoxModel",
      "state": {
       "children": [
        "IPY_MODEL_00ae0bc2b5d94f0d85b4b8836b2cdd19",
        "IPY_MODEL_249c38bbe24047dea481e76786f63caa",
        "IPY_MODEL_63dc0f5b53de4d88a52330ac4de8cedd"
       ],
       "layout": "IPY_MODEL_4c9edb08ec774ceabfa5b2ddd81347fb"
      }
     },
     "66b2be7c547e4316b1cf5b844e07ceaa": {
      "model_module": "@jupyter-widgets/controls",
      "model_module_version": "2.0.0",
      "model_name": "HTMLStyleModel",
      "state": {
       "description_width": "",
       "font_size": null,
       "text_color": null
      }
     },
     "69b9011344f7493da9be0dd5589a28fc": {
      "model_module": "@jupyter-widgets/base",
      "model_module_version": "2.0.0",
      "model_name": "LayoutModel",
      "state": {}
     },
     "6ae21785fa58466198dfe7e78a5e8819": {
      "model_module": "@jupyter-widgets/base",
      "model_module_version": "2.0.0",
      "model_name": "LayoutModel",
      "state": {}
     },
     "6caf9f51eadf4939958903a04e55a51e": {
      "model_module": "@jupyter-widgets/controls",
      "model_module_version": "2.0.0",
      "model_name": "HBoxModel",
      "state": {
       "children": [
        "IPY_MODEL_b2c64fef5aa54a138e835a8cdb4b79d6",
        "IPY_MODEL_45404032fec34f01a852372f6fa5830b",
        "IPY_MODEL_ae5ca2436c78495dad38867b8e3a5703"
       ],
       "layout": "IPY_MODEL_bd6306b0dc6240fa9839fbc0963fd076"
      }
     },
     "7223021468134c05a2e7ba243678dade": {
      "model_module": "@jupyter-widgets/controls",
      "model_module_version": "2.0.0",
      "model_name": "HTMLModel",
      "state": {
       "layout": "IPY_MODEL_6007bef099b3401499975f1a5e2e7098",
       "style": "IPY_MODEL_6340e8bbd7a14e4d8188c95992194792",
       "value": " 48.0/48.0 [00:00&lt;00:00, 5.31kB/s]"
      }
     },
     "72e7aeadb92641d3b44d9467c12a5c6b": {
      "model_module": "@jupyter-widgets/controls",
      "model_module_version": "2.0.0",
      "model_name": "HTMLModel",
      "state": {
       "layout": "IPY_MODEL_1f0f0b5172e349829bcf44c04ddef518",
       "style": "IPY_MODEL_dc0179711e564caca2287f379a29b0ab",
       "value": " 268M/268M [00:01&lt;00:00, 223MB/s]"
      }
     },
     "737018c5c5934dfe8f6e09955a9add6d": {
      "model_module": "@jupyter-widgets/controls",
      "model_module_version": "2.0.0",
      "model_name": "ProgressStyleModel",
      "state": {
       "description_width": ""
      }
     },
     "73e473cfee7d4d45b98ed340b39c57b4": {
      "model_module": "@jupyter-widgets/controls",
      "model_module_version": "2.0.0",
      "model_name": "HTMLStyleModel",
      "state": {
       "description_width": "",
       "font_size": null,
       "text_color": null
      }
     },
     "75cf5527407041aebe832b35e78656a8": {
      "model_module": "@jupyter-widgets/controls",
      "model_module_version": "2.0.0",
      "model_name": "HTMLStyleModel",
      "state": {
       "description_width": "",
       "font_size": null,
       "text_color": null
      }
     },
     "79372939c90e4f6a87eac61cfcb60985": {
      "model_module": "@jupyter-widgets/base",
      "model_module_version": "2.0.0",
      "model_name": "LayoutModel",
      "state": {}
     },
     "7a479a5c3edd44e588ee342beefa82d2": {
      "model_module": "@jupyter-widgets/base",
      "model_module_version": "2.0.0",
      "model_name": "LayoutModel",
      "state": {}
     },
     "7d1542bc2e094a3b8c62813ea99f01c2": {
      "model_module": "@jupyter-widgets/base",
      "model_module_version": "2.0.0",
      "model_name": "LayoutModel",
      "state": {}
     },
     "7e05d459a8b84bc1bf17b6fe1eb325ec": {
      "model_module": "@jupyter-widgets/base",
      "model_module_version": "2.0.0",
      "model_name": "LayoutModel",
      "state": {}
     },
     "7e6ff00a223b4a10b56f436f3db68aa7": {
      "model_module": "@jupyter-widgets/base",
      "model_module_version": "2.0.0",
      "model_name": "LayoutModel",
      "state": {}
     },
     "80301312db4d4597826ba96b3489afc1": {
      "model_module": "@jupyter-widgets/controls",
      "model_module_version": "2.0.0",
      "model_name": "HTMLStyleModel",
      "state": {
       "description_width": "",
       "font_size": null,
       "text_color": null
      }
     },
     "81f61fd797bd452b886eb484274b66c4": {
      "model_module": "@jupyter-widgets/controls",
      "model_module_version": "2.0.0",
      "model_name": "HTMLModel",
      "state": {
       "layout": "IPY_MODEL_79372939c90e4f6a87eac61cfcb60985",
       "style": "IPY_MODEL_66b2be7c547e4316b1cf5b844e07ceaa",
       "value": " 232k/232k [00:00&lt;00:00, 3.95MB/s]"
      }
     },
     "8240ae88295847fb81a2e6c66d5c0d5f": {
      "model_module": "@jupyter-widgets/controls",
      "model_module_version": "2.0.0",
      "model_name": "HBoxModel",
      "state": {
       "children": [
        "IPY_MODEL_599844094db940daa9511f8c3be67acc",
        "IPY_MODEL_cd2f92d1905d44a99bf7909ce6ea6a99",
        "IPY_MODEL_066bb03c9ccc47d8822e8820743c179e"
       ],
       "layout": "IPY_MODEL_4d7359b81e724eb8ac3b6c3f8c86123f"
      }
     },
     "834923832b1d4493bed12cfa43cccbdf": {
      "model_module": "@jupyter-widgets/base",
      "model_module_version": "2.0.0",
      "model_name": "LayoutModel",
      "state": {}
     },
     "83ac240e817942d394b5e3910de34dd5": {
      "model_module": "@jupyter-widgets/base",
      "model_module_version": "2.0.0",
      "model_name": "LayoutModel",
      "state": {}
     },
     "847eb29a7e284243ad505c50f11aa142": {
      "model_module": "@jupyter-widgets/base",
      "model_module_version": "2.0.0",
      "model_name": "LayoutModel",
      "state": {}
     },
     "859ff5bf63c14c00987be713aabc240c": {
      "model_module": "@jupyter-widgets/controls",
      "model_module_version": "2.0.0",
      "model_name": "HTMLStyleModel",
      "state": {
       "description_width": "",
       "font_size": null,
       "text_color": null
      }
     },
     "85a22a9f8cd3438aa80a42ab68b64d25": {
      "model_module": "@jupyter-widgets/controls",
      "model_module_version": "2.0.0",
      "model_name": "HTMLModel",
      "state": {
       "layout": "IPY_MODEL_d3303b81cc4c480e895a807ec28d6070",
       "style": "IPY_MODEL_355f01646fad4f2399b05a8995a71875",
       "value": "model.safetensors: 100%"
      }
     },
     "860986ed36904665b75c94b81725d3ba": {
      "model_module": "@jupyter-widgets/controls",
      "model_module_version": "2.0.0",
      "model_name": "HTMLStyleModel",
      "state": {
       "description_width": "",
       "font_size": null,
       "text_color": null
      }
     },
     "8660cb85a3ff4465aab4072151e3829c": {
      "model_module": "@jupyter-widgets/controls",
      "model_module_version": "2.0.0",
      "model_name": "ProgressStyleModel",
      "state": {
       "description_width": ""
      }
     },
     "8854291739bf4f96a4a9d6b036106404": {
      "model_module": "@jupyter-widgets/base",
      "model_module_version": "2.0.0",
      "model_name": "LayoutModel",
      "state": {}
     },
     "88bb23d8c6374ac489e96aedb0dd349b": {
      "model_module": "@jupyter-widgets/controls",
      "model_module_version": "2.0.0",
      "model_name": "ProgressStyleModel",
      "state": {
       "description_width": ""
      }
     },
     "8a49e0084c814163ae02436f68fea503": {
      "model_module": "@jupyter-widgets/controls",
      "model_module_version": "2.0.0",
      "model_name": "HTMLStyleModel",
      "state": {
       "description_width": "",
       "font_size": null,
       "text_color": null
      }
     },
     "8d28b47d076b44c9885059294b1c778b": {
      "model_module": "@jupyter-widgets/base",
      "model_module_version": "2.0.0",
      "model_name": "LayoutModel",
      "state": {}
     },
     "8ee38eba3f104685801f8ea3e83de5ea": {
      "model_module": "@jupyter-widgets/controls",
      "model_module_version": "2.0.0",
      "model_name": "ProgressStyleModel",
      "state": {
       "description_width": ""
      }
     },
     "8fdf5ca260cf42d992b3e7a9dfd35832": {
      "model_module": "@jupyter-widgets/controls",
      "model_module_version": "2.0.0",
      "model_name": "HTMLStyleModel",
      "state": {
       "description_width": "",
       "font_size": null,
       "text_color": null
      }
     },
     "93235dca12ec485c8334d6f6dfb91ec8": {
      "model_module": "@jupyter-widgets/base",
      "model_module_version": "2.0.0",
      "model_name": "LayoutModel",
      "state": {}
     },
     "97b32158b51d4541ba01ab3a48da049e": {
      "model_module": "@jupyter-widgets/controls",
      "model_module_version": "2.0.0",
      "model_name": "ProgressStyleModel",
      "state": {
       "description_width": ""
      }
     },
     "981db6c0c75f494fb08ab6caff6677cb": {
      "model_module": "@jupyter-widgets/base",
      "model_module_version": "2.0.0",
      "model_name": "LayoutModel",
      "state": {}
     },
     "995b9e21d355404da3d377ba4810daf7": {
      "model_module": "@jupyter-widgets/controls",
      "model_module_version": "2.0.0",
      "model_name": "HTMLModel",
      "state": {
       "layout": "IPY_MODEL_2baf76bc4aeb48ebadb983c38f71e95d",
       "style": "IPY_MODEL_4eb0ea6f6227497d800d583b3701a9b8",
       "value": "config.json: 100%"
      }
     },
     "99f44171247646578fb1878a7196a49d": {
      "model_module": "@jupyter-widgets/base",
      "model_module_version": "2.0.0",
      "model_name": "LayoutModel",
      "state": {}
     },
     "9abfa540b33342a8a924fb5ad40f59e6": {
      "model_module": "@jupyter-widgets/controls",
      "model_module_version": "2.0.0",
      "model_name": "HTMLStyleModel",
      "state": {
       "description_width": "",
       "font_size": null,
       "text_color": null
      }
     },
     "9fd7bd8ac7154fcb9136088400ab174e": {
      "model_module": "@jupyter-widgets/controls",
      "model_module_version": "2.0.0",
      "model_name": "FloatProgressModel",
      "state": {
       "bar_style": "success",
       "layout": "IPY_MODEL_cd076645638b4bbdb4872896138593ba",
       "max": 1629437147,
       "style": "IPY_MODEL_087b23123d22417b965a09c943e69fac",
       "value": 1629437147
      }
     },
     "a1885d36489f432b9dcefbb86b112197": {
      "model_module": "@jupyter-widgets/base",
      "model_module_version": "2.0.0",
      "model_name": "LayoutModel",
      "state": {}
     },
     "a1a24c594be444058133566928c85786": {
      "model_module": "@jupyter-widgets/controls",
      "model_module_version": "2.0.0",
      "model_name": "FloatProgressModel",
      "state": {
       "bar_style": "success",
       "layout": "IPY_MODEL_ed2cecaed11040e9a5120fc69f0ccf77",
       "max": 898822,
       "style": "IPY_MODEL_8ee38eba3f104685801f8ea3e83de5ea",
       "value": 898822
      }
     },
     "a2f895e71d014e4aa82e858747b61290": {
      "model_module": "@jupyter-widgets/base",
      "model_module_version": "2.0.0",
      "model_name": "LayoutModel",
      "state": {}
     },
     "a6478f7a0fb94524bc107c87bd9fcf8c": {
      "model_module": "@jupyter-widgets/controls",
      "model_module_version": "2.0.0",
      "model_name": "HTMLModel",
      "state": {
       "layout": "IPY_MODEL_60f6061f595d43d785a04e2e1c951bf2",
       "style": "IPY_MODEL_40e042e0a9e44058adb4247ad9fd9361",
       "value": " 570/570 [00:00&lt;00:00, 71.7kB/s]"
      }
     },
     "a6fd92fca0314065934882928738e4e1": {
      "model_module": "@jupyter-widgets/base",
      "model_module_version": "2.0.0",
      "model_name": "LayoutModel",
      "state": {}
     },
     "a7398db340394f2ca892f63526fdba4c": {
      "model_module": "@jupyter-widgets/controls",
      "model_module_version": "2.0.0",
      "model_name": "ProgressStyleModel",
      "state": {
       "description_width": ""
      }
     },
     "a79f54ce44ae44e4a7b09b06ecc2c041": {
      "model_module": "@jupyter-widgets/base",
      "model_module_version": "2.0.0",
      "model_name": "LayoutModel",
      "state": {}
     },
     "a7d1d3a7ce4849e5b3a2d7750868a262": {
      "model_module": "@jupyter-widgets/base",
      "model_module_version": "2.0.0",
      "model_name": "LayoutModel",
      "state": {}
     },
     "a834535d303c467a9414356c9e82dce0": {
      "model_module": "@jupyter-widgets/base",
      "model_module_version": "2.0.0",
      "model_name": "LayoutModel",
      "state": {}
     },
     "a954cfdff72b49c6a47713843e933c7f": {
      "model_module": "@jupyter-widgets/base",
      "model_module_version": "2.0.0",
      "model_name": "LayoutModel",
      "state": {}
     },
     "aa7d8a57f6254aabba524ceeb204c29d": {
      "model_module": "@jupyter-widgets/controls",
      "model_module_version": "2.0.0",
      "model_name": "HBoxModel",
      "state": {
       "children": [
        "IPY_MODEL_276bc8a70fe541d98d7a3a35c9c8a0d3",
        "IPY_MODEL_157d4a6b0628405682c995234cb55ac5",
        "IPY_MODEL_c9b7c81237574b20b9548f7919bcdba2"
       ],
       "layout": "IPY_MODEL_a7d1d3a7ce4849e5b3a2d7750868a262"
      }
     },
     "ab0f5f5dc2a64522a3622c287fc94520": {
      "model_module": "@jupyter-widgets/controls",
      "model_module_version": "2.0.0",
      "model_name": "ProgressStyleModel",
      "state": {
       "description_width": ""
      }
     },
     "ac666f71eb8c45cc9b3b4d2a12929dbc": {
      "model_module": "@jupyter-widgets/base",
      "model_module_version": "2.0.0",
      "model_name": "LayoutModel",
      "state": {}
     },
     "acbb9a738c8248ecb484b96534db6251": {
      "model_module": "@jupyter-widgets/controls",
      "model_module_version": "2.0.0",
      "model_name": "HBoxModel",
      "state": {
       "children": [
        "IPY_MODEL_1c5fc68ec35746838bc3bf0ba524c827",
        "IPY_MODEL_045c4d5baef244f999ed5119dbced78f",
        "IPY_MODEL_3ce1ff32407541d0ad6363da00ea3e19"
       ],
       "layout": "IPY_MODEL_2215196eedff4107a9239e176726ef50"
      }
     },
     "add95387502343ba8113739541fd9559": {
      "model_module": "@jupyter-widgets/controls",
      "model_module_version": "2.0.0",
      "model_name": "FloatProgressModel",
      "state": {
       "bar_style": "success",
       "layout": "IPY_MODEL_f2bd26dd2fcf48eb809180058303c761",
       "max": 456318,
       "style": "IPY_MODEL_0671c76c2e9a4a8a9ca3920f62dfbbe5",
       "value": 456318
      }
     },
     "ae5ca2436c78495dad38867b8e3a5703": {
      "model_module": "@jupyter-widgets/controls",
      "model_module_version": "2.0.0",
      "model_name": "HTMLModel",
      "state": {
       "layout": "IPY_MODEL_2b722d5eb5a24b8fa03ddcd2efb80730",
       "style": "IPY_MODEL_cc40dfb984b44913acf0b6889c110184",
       "value": " 48.0/48.0 [00:00&lt;00:00, 4.66kB/s]"
      }
     },
     "af694d7815074e708258d2451910a9a2": {
      "model_module": "@jupyter-widgets/controls",
      "model_module_version": "2.0.0",
      "model_name": "HTMLModel",
      "state": {
       "layout": "IPY_MODEL_02f6f005962344f1a16d33ff601f89aa",
       "style": "IPY_MODEL_315081e65ffa41e390f9c16653f4cd7d",
       "value": "vocab.txt: 100%"
      }
     },
     "b0f274f0ebb64fadae8ce03a7efd665c": {
      "model_module": "@jupyter-widgets/controls",
      "model_module_version": "2.0.0",
      "model_name": "HTMLStyleModel",
      "state": {
       "description_width": "",
       "font_size": null,
       "text_color": null
      }
     },
     "b2c64fef5aa54a138e835a8cdb4b79d6": {
      "model_module": "@jupyter-widgets/controls",
      "model_module_version": "2.0.0",
      "model_name": "HTMLModel",
      "state": {
       "layout": "IPY_MODEL_50e7109660b8461889ebd63527bbe1f7",
       "style": "IPY_MODEL_eda368a2ff5b46d3a14f83f90074c9cf",
       "value": "tokenizer_config.json: 100%"
      }
     },
     "b44020d678524c768be056098adda652": {
      "model_module": "@jupyter-widgets/controls",
      "model_module_version": "2.0.0",
      "model_name": "FloatProgressModel",
      "state": {
       "bar_style": "success",
       "layout": "IPY_MODEL_7d1542bc2e094a3b8c62813ea99f01c2",
       "max": 231508,
       "style": "IPY_MODEL_8660cb85a3ff4465aab4072151e3829c",
       "value": 231508
      }
     },
     "b54451804785445ba8f2fd546606cabd": {
      "model_module": "@jupyter-widgets/controls",
      "model_module_version": "2.0.0",
      "model_name": "HTMLStyleModel",
      "state": {
       "description_width": "",
       "font_size": null,
       "text_color": null
      }
     },
     "b59c5501a3b041c1a3026cd3c5876460": {
      "model_module": "@jupyter-widgets/controls",
      "model_module_version": "2.0.0",
      "model_name": "HBoxModel",
      "state": {
       "children": [
        "IPY_MODEL_51e9fa24faac4bfbace1787b7c2d87b2",
        "IPY_MODEL_e657c022444043379970bacab07e6fdd",
        "IPY_MODEL_d1839057692e4325983c548495f1ea6a"
       ],
       "layout": "IPY_MODEL_a834535d303c467a9414356c9e82dce0"
      }
     },
     "b66e3f3708cc4a2098cd4f1ae16a32ab": {
      "model_module": "@jupyter-widgets/controls",
      "model_module_version": "2.0.0",
      "model_name": "HTMLStyleModel",
      "state": {
       "description_width": "",
       "font_size": null,
       "text_color": null
      }
     },
     "b68ea962f405431fbc86a0d9c2790871": {
      "model_module": "@jupyter-widgets/controls",
      "model_module_version": "2.0.0",
      "model_name": "HTMLModel",
      "state": {
       "layout": "IPY_MODEL_a2f895e71d014e4aa82e858747b61290",
       "style": "IPY_MODEL_1aff775f289a4e4a8f3d7817082ad9ec",
       "value": "merges.txt: 100%"
      }
     },
     "b76380700ff1421687101b05596ab1f8": {
      "model_module": "@jupyter-widgets/base",
      "model_module_version": "2.0.0",
      "model_name": "LayoutModel",
      "state": {}
     },
     "b76a7cf5ff9144bba6f9ee7b225cbd70": {
      "model_module": "@jupyter-widgets/controls",
      "model_module_version": "2.0.0",
      "model_name": "HTMLModel",
      "state": {
       "layout": "IPY_MODEL_2caf4a14c9744f3887c4668b92ae1841",
       "style": "IPY_MODEL_859ff5bf63c14c00987be713aabc240c",
       "value": "vocab.json: 100%"
      }
     },
     "b7883d9ab71d410c92f9097f3ed2847d": {
      "model_module": "@jupyter-widgets/controls",
      "model_module_version": "2.0.0",
      "model_name": "HTMLModel",
      "state": {
       "layout": "IPY_MODEL_7e6ff00a223b4a10b56f436f3db68aa7",
       "style": "IPY_MODEL_80301312db4d4597826ba96b3489afc1",
       "value": " 1.04M/1.04M [00:00&lt;00:00, 5.99MB/s]"
      }
     },
     "b8d612e4e758498eae06fd1f9be6a401": {
      "model_module": "@jupyter-widgets/base",
      "model_module_version": "2.0.0",
      "model_name": "LayoutModel",
      "state": {}
     },
     "b9dd0b8e72b2486fbc35a196bb946a90": {
      "model_module": "@jupyter-widgets/controls",
      "model_module_version": "2.0.0",
      "model_name": "HTMLModel",
      "state": {
       "layout": "IPY_MODEL_5e25360de00c40738c3b0ef3ec0f8e2c",
       "style": "IPY_MODEL_860986ed36904665b75c94b81725d3ba",
       "value": " 232k/232k [00:00&lt;00:00, 15.4MB/s]"
      }
     },
     "bd6306b0dc6240fa9839fbc0963fd076": {
      "model_module": "@jupyter-widgets/base",
      "model_module_version": "2.0.0",
      "model_name": "LayoutModel",
      "state": {}
     },
     "bd79b211358c40b4a0a7e5c6556b6920": {
      "model_module": "@jupyter-widgets/base",
      "model_module_version": "2.0.0",
      "model_name": "LayoutModel",
      "state": {}
     },
     "bdada229d8ba44f7b73da6fc8e5931a2": {
      "model_module": "@jupyter-widgets/controls",
      "model_module_version": "2.0.0",
      "model_name": "HTMLStyleModel",
      "state": {
       "description_width": "",
       "font_size": null,
       "text_color": null
      }
     },
     "c42952b397a044ee9be73d919482ff27": {
      "model_module": "@jupyter-widgets/base",
      "model_module_version": "2.0.0",
      "model_name": "LayoutModel",
      "state": {}
     },
     "c9b7c81237574b20b9548f7919bcdba2": {
      "model_module": "@jupyter-widgets/controls",
      "model_module_version": "2.0.0",
      "model_name": "HTMLModel",
      "state": {
       "layout": "IPY_MODEL_93235dca12ec485c8334d6f6dfb91ec8",
       "style": "IPY_MODEL_e0e90151f2534488af3a826530de06c2",
       "value": " 466k/466k [00:00&lt;00:00, 7.58MB/s]"
      }
     },
     "cb2b4f1c1bcb407481dad50ce66301ca": {
      "model_module": "@jupyter-widgets/controls",
      "model_module_version": "2.0.0",
      "model_name": "HTMLModel",
      "state": {
       "layout": "IPY_MODEL_519246b49d654b2c8fe247ddbdd59c3f",
       "style": "IPY_MODEL_00f5b2f4ac274bc7b3f2713b5a37b428",
       "value": " 456k/456k [00:00&lt;00:00, 3.90MB/s]"
      }
     },
     "cc40dfb984b44913acf0b6889c110184": {
      "model_module": "@jupyter-widgets/controls",
      "model_module_version": "2.0.0",
      "model_name": "HTMLStyleModel",
      "state": {
       "description_width": "",
       "font_size": null,
       "text_color": null
      }
     },
     "cd076645638b4bbdb4872896138593ba": {
      "model_module": "@jupyter-widgets/base",
      "model_module_version": "2.0.0",
      "model_name": "LayoutModel",
      "state": {}
     },
     "cd2f92d1905d44a99bf7909ce6ea6a99": {
      "model_module": "@jupyter-widgets/controls",
      "model_module_version": "2.0.0",
      "model_name": "FloatProgressModel",
      "state": {
       "bar_style": "success",
       "layout": "IPY_MODEL_2e7e8adb2b0b47a09018718ccd814776",
       "max": 1355256,
       "style": "IPY_MODEL_1b7cf2002f464083953d8dbadba69449",
       "value": 1355256
      }
     },
     "cea2b82e68f34fb28126e4b0c25f4486": {
      "model_module": "@jupyter-widgets/controls",
      "model_module_version": "2.0.0",
      "model_name": "HTMLStyleModel",
      "state": {
       "description_width": "",
       "font_size": null,
       "text_color": null
      }
     },
     "cfbcbdc8794e4d6f843c1d05812b9f57": {
      "model_module": "@jupyter-widgets/controls",
      "model_module_version": "2.0.0",
      "model_name": "FloatProgressModel",
      "state": {
       "bar_style": "success",
       "layout": "IPY_MODEL_3e20cbff14734fd8980a9bd73bea98ce",
       "max": 1042301,
       "style": "IPY_MODEL_a7398db340394f2ca892f63526fdba4c",
       "value": 1042301
      }
     },
     "d1839057692e4325983c548495f1ea6a": {
      "model_module": "@jupyter-widgets/controls",
      "model_module_version": "2.0.0",
      "model_name": "HTMLModel",
      "state": {
       "layout": "IPY_MODEL_69b9011344f7493da9be0dd5589a28fc",
       "style": "IPY_MODEL_ecee37a6b33e4fc7a1b63c90d60d17da",
       "value": " 26.0/26.0 [00:00&lt;00:00, 2.95kB/s]"
      }
     },
     "d3303b81cc4c480e895a807ec28d6070": {
      "model_module": "@jupyter-widgets/base",
      "model_module_version": "2.0.0",
      "model_name": "LayoutModel",
      "state": {}
     },
     "d4bac1b6bef4463b99c7441194290121": {
      "model_module": "@jupyter-widgets/base",
      "model_module_version": "2.0.0",
      "model_name": "LayoutModel",
      "state": {}
     },
     "d5a33bd34ba445af8efba38ac9870f3d": {
      "model_module": "@jupyter-widgets/controls",
      "model_module_version": "2.0.0",
      "model_name": "HTMLStyleModel",
      "state": {
       "description_width": "",
       "font_size": null,
       "text_color": null
      }
     },
     "d5c1ffc5c62349a7b12e05d7556c328d": {
      "model_module": "@jupyter-widgets/controls",
      "model_module_version": "2.0.0",
      "model_name": "ProgressStyleModel",
      "state": {
       "description_width": ""
      }
     },
     "d9c6113e26354dd5a30a59e581f12df6": {
      "model_module": "@jupyter-widgets/controls",
      "model_module_version": "2.0.0",
      "model_name": "HBoxModel",
      "state": {
       "children": [
        "IPY_MODEL_1d4d50107abe419ebdcc33f06ff50335",
        "IPY_MODEL_29a83aec0610429ab232b25281c5bde7",
        "IPY_MODEL_a6478f7a0fb94524bc107c87bd9fcf8c"
       ],
       "layout": "IPY_MODEL_7a479a5c3edd44e588ee342beefa82d2"
      }
     },
     "da658ac4b3eb4ed6a1fb6cb41cd97fe0": {
      "model_module": "@jupyter-widgets/controls",
      "model_module_version": "2.0.0",
      "model_name": "HBoxModel",
      "state": {
       "children": [
        "IPY_MODEL_43e8f817cf8c4c2883c9815a5201749b",
        "IPY_MODEL_52be9739a3b6403db619d4b0a5e49c9b",
        "IPY_MODEL_72e7aeadb92641d3b44d9467c12a5c6b"
       ],
       "layout": "IPY_MODEL_d4bac1b6bef4463b99c7441194290121"
      }
     },
     "db8cdf69d4d54092ad9c9d110b9438b2": {
      "model_module": "@jupyter-widgets/base",
      "model_module_version": "2.0.0",
      "model_name": "LayoutModel",
      "state": {}
     },
     "dbe20747b2514ed3b083a1c00e248bf5": {
      "model_module": "@jupyter-widgets/base",
      "model_module_version": "2.0.0",
      "model_name": "LayoutModel",
      "state": {}
     },
     "dc0179711e564caca2287f379a29b0ab": {
      "model_module": "@jupyter-widgets/controls",
      "model_module_version": "2.0.0",
      "model_name": "HTMLStyleModel",
      "state": {
       "description_width": "",
       "font_size": null,
       "text_color": null
      }
     },
     "df9ff7a9fdbd4a18b0eec60135c69413": {
      "model_module": "@jupyter-widgets/controls",
      "model_module_version": "2.0.0",
      "model_name": "HTMLStyleModel",
      "state": {
       "description_width": "",
       "font_size": null,
       "text_color": null
      }
     },
     "e07c83d7d9094eb5861a7dcfc6722546": {
      "model_module": "@jupyter-widgets/controls",
      "model_module_version": "2.0.0",
      "model_name": "HTMLStyleModel",
      "state": {
       "description_width": "",
       "font_size": null,
       "text_color": null
      }
     },
     "e07f83236a2343e2a438ae61f9d8827a": {
      "model_module": "@jupyter-widgets/controls",
      "model_module_version": "2.0.0",
      "model_name": "FloatProgressModel",
      "state": {
       "bar_style": "success",
       "layout": "IPY_MODEL_0577115ba4124c3391555a487fa6ff54",
       "max": 231508,
       "style": "IPY_MODEL_5b53e46d78d8427d8b290737b98b0a5c",
       "value": 231508
      }
     },
     "e0e90151f2534488af3a826530de06c2": {
      "model_module": "@jupyter-widgets/controls",
      "model_module_version": "2.0.0",
      "model_name": "HTMLStyleModel",
      "state": {
       "description_width": "",
       "font_size": null,
       "text_color": null
      }
     },
     "e19628d2c7e24310bb328fe1719c67b1": {
      "model_module": "@jupyter-widgets/controls",
      "model_module_version": "2.0.0",
      "model_name": "HTMLStyleModel",
      "state": {
       "description_width": "",
       "font_size": null,
       "text_color": null
      }
     },
     "e5c2fd255c8f4b399abd6eb9aa981007": {
      "model_module": "@jupyter-widgets/controls",
      "model_module_version": "2.0.0",
      "model_name": "HTMLModel",
      "state": {
       "layout": "IPY_MODEL_ac666f71eb8c45cc9b3b4d2a12929dbc",
       "style": "IPY_MODEL_269847d19dfc4a09b6a330951ffb378d",
       "value": "tokenizer.json: 100%"
      }
     },
     "e625bf01d97f4630b3e24a2fdaa6d9cb": {
      "model_module": "@jupyter-widgets/base",
      "model_module_version": "2.0.0",
      "model_name": "LayoutModel",
      "state": {}
     },
     "e657c022444043379970bacab07e6fdd": {
      "model_module": "@jupyter-widgets/controls",
      "model_module_version": "2.0.0",
      "model_name": "FloatProgressModel",
      "state": {
       "bar_style": "success",
       "layout": "IPY_MODEL_83ac240e817942d394b5e3910de34dd5",
       "max": 26,
       "style": "IPY_MODEL_d5c1ffc5c62349a7b12e05d7556c328d",
       "value": 26
      }
     },
     "e82295c962b244c4acad75a00824e708": {
      "model_module": "@jupyter-widgets/controls",
      "model_module_version": "2.0.0",
      "model_name": "FloatProgressModel",
      "state": {
       "bar_style": "success",
       "layout": "IPY_MODEL_530743613c9d438c8fea5dad86b2fc88",
       "max": 629,
       "style": "IPY_MODEL_39168478ca3e4908ae38cb15ef9f67e9",
       "value": 629
      }
     },
     "ea0aaa459b854f5db7e6cad55f307751": {
      "model_module": "@jupyter-widgets/base",
      "model_module_version": "2.0.0",
      "model_name": "LayoutModel",
      "state": {}
     },
     "ecee37a6b33e4fc7a1b63c90d60d17da": {
      "model_module": "@jupyter-widgets/controls",
      "model_module_version": "2.0.0",
      "model_name": "HTMLStyleModel",
      "state": {
       "description_width": "",
       "font_size": null,
       "text_color": null
      }
     },
     "ed2cecaed11040e9a5120fc69f0ccf77": {
      "model_module": "@jupyter-widgets/base",
      "model_module_version": "2.0.0",
      "model_name": "LayoutModel",
      "state": {}
     },
     "eda368a2ff5b46d3a14f83f90074c9cf": {
      "model_module": "@jupyter-widgets/controls",
      "model_module_version": "2.0.0",
      "model_name": "HTMLStyleModel",
      "state": {
       "description_width": "",
       "font_size": null,
       "text_color": null
      }
     },
     "f2bd26dd2fcf48eb809180058303c761": {
      "model_module": "@jupyter-widgets/base",
      "model_module_version": "2.0.0",
      "model_name": "LayoutModel",
      "state": {}
     },
     "f49f66c612a44874ade0e3625314135a": {
      "model_module": "@jupyter-widgets/base",
      "model_module_version": "2.0.0",
      "model_name": "LayoutModel",
      "state": {}
     },
     "f5d38c18420b4bf382dfd21439acb5b6": {
      "model_module": "@jupyter-widgets/controls",
      "model_module_version": "2.0.0",
      "model_name": "FloatProgressModel",
      "state": {
       "bar_style": "success",
       "layout": "IPY_MODEL_a1885d36489f432b9dcefbb86b112197",
       "max": 1355863,
       "style": "IPY_MODEL_4b5b8a56edc94b0fb053b16a73ad381e",
       "value": 1355863
      }
     },
     "f9f552dccd224451a340eb6101271035": {
      "model_module": "@jupyter-widgets/base",
      "model_module_version": "2.0.0",
      "model_name": "LayoutModel",
      "state": {}
     },
     "fd6ffa6edcdd4462bec884a1a3457283": {
      "model_module": "@jupyter-widgets/base",
      "model_module_version": "2.0.0",
      "model_name": "LayoutModel",
      "state": {}
     },
     "fd8df8a193d0427aaf0b0f008812b6b1": {
      "model_module": "@jupyter-widgets/base",
      "model_module_version": "2.0.0",
      "model_name": "LayoutModel",
      "state": {}
     }
    },
    "version_major": 2,
    "version_minor": 0
   }
  }
 },
 "nbformat": 4,
 "nbformat_minor": 4
}
