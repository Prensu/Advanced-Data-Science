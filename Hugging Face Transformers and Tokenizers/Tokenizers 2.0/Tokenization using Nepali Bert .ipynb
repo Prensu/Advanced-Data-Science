{
 "cells": [
  {
   "cell_type": "markdown",
   "metadata": {
    "height": 30
   },
   "source": [
    "# Tokenizer tokens "
   ]
  },
  {
   "cell_type": "markdown",
   "metadata": {
    "height": 30
   },
   "source": [
    "-Complete code to get string back after series of tokenization\n"
   ]
  },
  {
   "cell_type": "code",
   "execution_count": 1,
   "metadata": {
    "height": 30
   },
   "outputs": [],
   "source": [
    "from transformers import pipeline"
   ]
  },
  {
   "cell_type": "code",
   "execution_count": 4,
   "metadata": {
    "height": 30
   },
   "outputs": [],
   "source": [
    "from transformers import AutoTokenizer"
   ]
  },
  {
   "cell_type": "code",
   "execution_count": 6,
   "metadata": {
    "height": 30
   },
   "outputs": [
    {
     "data": {
      "application/vnd.jupyter.widget-view+json": {
       "model_id": "afcfa569cd1d4529b63d1dc200bf83c4",
       "version_major": 2,
       "version_minor": 0
      },
      "text/plain": [
       "tokenizer_config.json:   0%|          | 0.00/48.0 [00:00<?, ?B/s]"
      ]
     },
     "metadata": {},
     "output_type": "display_data"
    },
    {
     "data": {
      "application/vnd.jupyter.widget-view+json": {
       "model_id": "20f37e75370e4f24b274e4a249f2dfe8",
       "version_major": 2,
       "version_minor": 0
      },
      "text/plain": [
       "config.json:   0%|          | 0.00/570 [00:00<?, ?B/s]"
      ]
     },
     "metadata": {},
     "output_type": "display_data"
    },
    {
     "data": {
      "application/vnd.jupyter.widget-view+json": {
       "model_id": "9839c8c130c24bdaa69c12fe391c7e80",
       "version_major": 2,
       "version_minor": 0
      },
      "text/plain": [
       "vocab.txt:   0%|          | 0.00/232k [00:00<?, ?B/s]"
      ]
     },
     "metadata": {},
     "output_type": "display_data"
    },
    {
     "data": {
      "application/vnd.jupyter.widget-view+json": {
       "model_id": "c3dde6a157c34ba298fff7e3a3f032c9",
       "version_major": 2,
       "version_minor": 0
      },
      "text/plain": [
       "tokenizer.json:   0%|          | 0.00/466k [00:00<?, ?B/s]"
      ]
     },
     "metadata": {},
     "output_type": "display_data"
    }
   ],
   "source": [
    "tokenizer = AutoTokenizer.from_pretrained(\"bert-base-uncased\")"
   ]
  },
  {
   "cell_type": "code",
   "execution_count": 2,
   "metadata": {
    "height": 30
   },
   "outputs": [],
   "source": [
    "sequence=\"Using a transformer language is simple\""
   ]
  },
  {
   "cell_type": "code",
   "execution_count": 7,
   "metadata": {
    "height": 30
   },
   "outputs": [],
   "source": [
    "res=tokenizer(sequence)"
   ]
  },
  {
   "cell_type": "code",
   "execution_count": 8,
   "metadata": {
    "height": 30
   },
   "outputs": [
    {
     "name": "stdout",
     "output_type": "stream",
     "text": [
      "{'input_ids': [101, 2478, 1037, 10938, 2121, 2653, 2003, 3722, 102], 'token_type_ids': [0, 0, 0, 0, 0, 0, 0, 0, 0], 'attention_mask': [1, 1, 1, 1, 1, 1, 1, 1, 1]}\n"
     ]
    }
   ],
   "source": [
    "print(res)"
   ]
  },
  {
   "cell_type": "code",
   "execution_count": 9,
   "metadata": {
    "height": 30
   },
   "outputs": [],
   "source": [
    "tokens=tokenizer.tokenize(sequence)"
   ]
  },
  {
   "cell_type": "code",
   "execution_count": 10,
   "metadata": {
    "height": 30
   },
   "outputs": [
    {
     "name": "stdout",
     "output_type": "stream",
     "text": [
      "['using', 'a', 'transform', '##er', 'language', 'is', 'simple']\n"
     ]
    }
   ],
   "source": [
    "print(tokens)"
   ]
  },
  {
   "cell_type": "code",
   "execution_count": 11,
   "metadata": {
    "height": 30
   },
   "outputs": [],
   "source": [
    "ids=tokenizer.convert_tokens_to_ids(tokens)"
   ]
  },
  {
   "cell_type": "code",
   "execution_count": 12,
   "metadata": {
    "height": 30
   },
   "outputs": [
    {
     "name": "stdout",
     "output_type": "stream",
     "text": [
      "[2478, 1037, 10938, 2121, 2653, 2003, 3722]\n"
     ]
    }
   ],
   "source": [
    "print(ids)"
   ]
  },
  {
   "cell_type": "code",
   "execution_count": 13,
   "metadata": {
    "height": 30
   },
   "outputs": [],
   "source": [
    "decoded_string=tokenizer.decode(ids)"
   ]
  },
  {
   "cell_type": "code",
   "execution_count": 14,
   "metadata": {
    "height": 30
   },
   "outputs": [
    {
     "name": "stdout",
     "output_type": "stream",
     "text": [
      "using a transformer language is simple\n"
     ]
    }
   ],
   "source": [
    "print(decoded_string)"
   ]
  },
  {
   "cell_type": "code",
   "execution_count": 16,
   "metadata": {
    "height": 115
   },
   "outputs": [
    {
     "data": {
      "application/vnd.jupyter.widget-view+json": {
       "model_id": "4ba7a08e9eec4615b6063bca54f1031d",
       "version_major": 2,
       "version_minor": 0
      },
      "text/plain": [
       "config.json:   0%|          | 0.00/589 [00:00<?, ?B/s]"
      ]
     },
     "metadata": {},
     "output_type": "display_data"
    },
    {
     "data": {
      "application/vnd.jupyter.widget-view+json": {
       "model_id": "e7c4e560264741ef99c39a3bae9739df",
       "version_major": 2,
       "version_minor": 0
      },
      "text/plain": [
       "vocab.txt:   0%|          | 0.00/529k [00:00<?, ?B/s]"
      ]
     },
     "metadata": {},
     "output_type": "display_data"
    },
    {
     "data": {
      "application/vnd.jupyter.widget-view+json": {
       "model_id": "55981c353e6a404680bd7787c5546603",
       "version_major": 2,
       "version_minor": 0
      },
      "text/plain": [
       "pytorch_model.bin:   0%|          | 0.00/438M [00:00<?, ?B/s]"
      ]
     },
     "metadata": {},
     "output_type": "display_data"
    }
   ],
   "source": [
    "from transformers import AutoTokenizer, AutoModelForMaskedLM\n",
    "tokenizer = AutoTokenizer.from_pretrained(\"Shushant/nepaliBERT\")\n",
    "model = AutoModelForMaskedLM.from_pretrained(\"Shushant/nepaliBERT\")\n",
    "\n",
    "\n"
   ]
  },
  {
   "cell_type": "code",
   "execution_count": 17,
   "metadata": {
    "height": 81
   },
   "outputs": [
    {
     "ename": "SyntaxError",
     "evalue": "invalid syntax (3677988009.py, line 4)",
     "output_type": "error",
     "traceback": [
      "\u001b[0;36m  Cell \u001b[0;32mIn[17], line 4\u001b[0;36m\u001b[0m\n\u001b[0;31m    from pprint import pprint pprint(fill_mask(f\"तिमीलाई कस्तो {tokenizer.mask_token}.\"))\u001b[0m\n\u001b[0m                              ^\u001b[0m\n\u001b[0;31mSyntaxError\u001b[0m\u001b[0;31m:\u001b[0m invalid syntax\n"
     ]
    }
   ],
   "source": [
    "from transformers import pipeline\n",
    "\n",
    "fill_mask = pipeline( \"fill-mask\", model=model, tokenizer=tokenizer, ) \n",
    "from pprint import pprint pprint(fill_mask(f\"तिमीलाई कस्तो {tokenizer.mask_token}.\"))"
   ]
  },
  {
   "cell_type": "code",
   "execution_count": 19,
   "metadata": {
    "height": 268
   },
   "outputs": [
    {
     "name": "stdout",
     "output_type": "stream",
     "text": [
      "Tokens: ['तिमीलाई', 'कस', '##तो', 'छ', '?']\n",
      "Token IDs: [9107, 2204, 3090, 373, 35]\n",
      "Decoded string: तिमीलाई कसतो छ?\n"
     ]
    }
   ],
   "source": [
    "\n",
    "# Sample Nepali text\n",
    "sequence = \"तिमीलाई कस्तो छ?\"  # \"How are you?\" in Nepali\n",
    "\n",
    "# Tokenize the text\n",
    "tokens = tokenizer.tokenize(sequence)\n",
    "print(\"Tokens:\", tokens)\n",
    "\n",
    "# Convert tokens to IDs\n",
    "ids = tokenizer.convert_tokens_to_ids(tokens)\n",
    "print(\"Token IDs:\", ids)\n",
    "\n",
    "# Decode back to text\n",
    "decoded_string = tokenizer.decode(ids)\n",
    "print(\"Decoded string:\", decoded_string)"
   ]
  },
  {
   "cell_type": "code",
   "execution_count": 22,
   "metadata": {
    "height": 1014
   },
   "outputs": [
    {
     "name": "stdout",
     "output_type": "stream",
     "text": [
      "Current stdout encoding: UTF-8\n",
      "Vocabulary size: 30522\n",
      "Tokens: ['नपा', '##लमा', 'शि', '##क', '##षा', 'सध', '##ार', 'गर', '##न', '##पर', '##छ', '।']\n",
      "Token IDs: [3989, 2197, 2037, 1034, 2592, 4052, 1681, 1692, 1030, 2681, 1054, 428]\n",
      "Decoded string: नपालमा शिकषा सधार गरनपरछ ।\n",
      "\n",
      "Second example:\n",
      "Tokens: ['हामी', '##ल', 'पर', '##कत', '##िको', 'सर', '##क', '##षण', 'गर', '##न', '##पर', '##छ', '।']\n",
      "Token IDs: [2166, 1024, 1996, 19223, 5692, 1807, 1034, 2345, 1692, 1030, 2681, 1054, 428]\n",
      "Decoded string: हामील परकतिको सरकषण गरनपरछ ।\n"
     ]
    }
   ],
   "source": [
    "import unicodedata\n",
    "import sys\n",
    "import os\n",
    "from transformers import AutoTokenizer\n",
    "\n",
    "# Check current stdout encoding\n",
    "print(\"Current stdout encoding:\", sys.stdout.encoding)\n",
    "\n",
    "# Set PYTHONIOENCODING environment variable (if needed)\n",
    "os.environ[\"PYTHONIOENCODING\"] = \"utf-8\"\n",
    "\n",
    "# Load the NepaliBERT tokenizer\n",
    "tokenizer = AutoTokenizer.from_pretrained(\"Shushant/nepaliBERT\")\n",
    "\n",
    "# Print vocabulary size to understand tokenizer coverage\n",
    "print(\"Vocabulary size:\", len(tokenizer.get_vocab()))\n",
    "\n",
    "# Sample Nepali text (normalized to NFC)\n",
    "sequence = unicodedata.normalize('NFC', \"नेपालमा शिक्षा सुधार गर्नुपर्छ।\")  # \"Education in Nepal must be improved.\"\n",
    "\n",
    "# Tokenize the text\n",
    "tokens = tokenizer.tokenize(sequence)\n",
    "print(\"Tokens:\", tokens)\n",
    "\n",
    "# Check for unknown tokens\n",
    "if '[UNK]' in tokens:\n",
    "    print(\"Warning: Unknown tokens detected:\", [t for t in tokens if t == '[UNK]'])\n",
    "\n",
    "# Convert tokens to IDs\n",
    "ids = tokenizer.convert_tokens_to_ids(tokens)\n",
    "print(\"Token IDs:\", ids)\n",
    "\n",
    "# Decode back to text\n",
    "decoded_string = tokenizer.decode(ids)\n",
    "print(\"Decoded string:\", decoded_string)\n",
    "\n",
    "# Save output to a file to verify encoding\n",
    "with open(\"output.txt\", \"w\", encoding=\"utf-8\") as f:\n",
    "    f.write(f\"Tokens: {tokens}\\n\")\n",
    "    f.write(f\"Token IDs: {ids}\\n\")\n",
    "    f.write(f\"Decoded string: {decoded_string}\\n\")\n",
    "\n",
    "# Test another sentence for robustness\n",
    "sequence2 = unicodedata.normalize('NFC', \"हामीले प्रकृतिको संरक्षण गर्नुपर्छ।\")  # \"We must protect nature.\"\n",
    "tokens2 = tokenizer.tokenize(sequence2)\n",
    "ids2 = tokenizer.convert_tokens_to_ids(tokens2)\n",
    "decoded_string2 = tokenizer.decode(ids2)\n",
    "print(\"\\nSecond example:\")\n",
    "print(\"Tokens:\", tokens2)\n",
    "print(\"Token IDs:\", ids2)\n",
    "print(\"Decoded string:\", decoded_string2)\n",
    "\n",
    "# Save second example to file\n",
    "with open(\"output.txt\", \"a\", encoding=\"utf-8\") as f:\n",
    "    f.write(f\"\\nSecond example:\\n\")\n",
    "    f.write(f\"Tokens: {tokens2}\\n\")\n",
    "    f.write(f\"Token IDs: {ids2}\\n\")\n",
    "    f.write(f\"Decoded string: {decoded_string2}\\n\")"
   ]
  },
  {
   "cell_type": "code",
   "execution_count": 23,
   "metadata": {
    "height": 353
   },
   "outputs": [
    {
     "data": {
      "application/vnd.jupyter.widget-view+json": {
       "model_id": "03405f82b2e24059b91d13b43f71d37f",
       "version_major": 2,
       "version_minor": 0
      },
      "text/plain": [
       "tokenizer_config.json:   0%|          | 0.00/49.0 [00:00<?, ?B/s]"
      ]
     },
     "metadata": {},
     "output_type": "display_data"
    },
    {
     "data": {
      "application/vnd.jupyter.widget-view+json": {
       "model_id": "a2a7d87334c24e3d8d63aea10a10be62",
       "version_major": 2,
       "version_minor": 0
      },
      "text/plain": [
       "config.json:   0%|          | 0.00/625 [00:00<?, ?B/s]"
      ]
     },
     "metadata": {},
     "output_type": "display_data"
    },
    {
     "data": {
      "application/vnd.jupyter.widget-view+json": {
       "model_id": "b5849e761e0f4450827a11076d9d969a",
       "version_major": 2,
       "version_minor": 0
      },
      "text/plain": [
       "vocab.txt:   0%|          | 0.00/996k [00:00<?, ?B/s]"
      ]
     },
     "metadata": {},
     "output_type": "display_data"
    },
    {
     "data": {
      "application/vnd.jupyter.widget-view+json": {
       "model_id": "36c6cce32247440d97c0d3aed0a0c5fb",
       "version_major": 2,
       "version_minor": 0
      },
      "text/plain": [
       "tokenizer.json:   0%|          | 0.00/1.96M [00:00<?, ?B/s]"
      ]
     },
     "metadata": {},
     "output_type": "display_data"
    },
    {
     "name": "stdout",
     "output_type": "stream",
     "text": [
      "Tokens: ['म', 'त', '##िम', '##ील', '##ाई', 'धेरै', 'मा', '##या', 'ग', '##र', '##्छ', '##ु']\n",
      "Token IDs: [889, 880, 50419, 28185, 30472, 82988, 32629, 15168, 867, 11549, 33345, 14070]\n",
      "Decoded string: म तिमीलाई धेरै माया गर्छु\n"
     ]
    }
   ],
   "source": [
    "from transformers import AutoTokenizer\n",
    "\n",
    "# Load the multilingual tokenizer\n",
    "tokenizer = AutoTokenizer.from_pretrained(\"bert-base-multilingual-cased\")\n",
    "\n",
    "# Your own Nepali sentence\n",
    "sequence = \"म तिमीलाई धेरै माया गर्छु\"  # \"I love you very much\" in Nepali\n",
    "\n",
    "# Tokenize the sentence\n",
    "tokens = tokenizer.tokenize(sequence)\n",
    "print(\"Tokens:\", tokens)\n",
    "\n",
    "# Convert tokens to IDs\n",
    "ids = tokenizer.convert_tokens_to_ids(tokens)\n",
    "print(\"Token IDs:\", ids)\n",
    "\n",
    "# Decode back to a string\n",
    "decoded = tokenizer.decode(ids)\n",
    "print(\"Decoded string:\", decoded)\n"
   ]
  }
 ],
 "metadata": {
  "colab": {
   "provenance": []
  },
  "kernelspec": {
   "display_name": "Python 3 (ipykernel)",
   "language": "python",
   "name": "python3"
  },
  "language_info": {
   "codemirror_mode": {
    "name": "ipython",
    "version": 3
   },
   "file_extension": ".py",
   "mimetype": "text/x-python",
   "name": "python",
   "nbconvert_exporter": "python",
   "pygments_lexer": "ipython3",
   "version": "3.9.19"
  },
  "widgets": {
   "application/vnd.jupyter.widget-state+json": {
    "state": {
     "00618b4b630249919fb70e671aba6f82": {
      "model_module": "@jupyter-widgets/base",
      "model_module_version": "2.0.0",
      "model_name": "LayoutModel",
      "state": {}
     },
     "0115d4bb4d754a06a5e02bba77388096": {
      "model_module": "@jupyter-widgets/base",
      "model_module_version": "2.0.0",
      "model_name": "LayoutModel",
      "state": {}
     },
     "02eaedb78abd42f5b51e178e19de9216": {
      "model_module": "@jupyter-widgets/controls",
      "model_module_version": "2.0.0",
      "model_name": "ProgressStyleModel",
      "state": {
       "description_width": ""
      }
     },
     "02f402c8db4a4c60a4494a5793ebe06b": {
      "model_module": "@jupyter-widgets/controls",
      "model_module_version": "2.0.0",
      "model_name": "FloatProgressModel",
      "state": {
       "bar_style": "success",
       "layout": "IPY_MODEL_d291aaf1cdfb436c804356404faaa45e",
       "max": 589,
       "style": "IPY_MODEL_3374b894ac5048f0b9eddab555c17e80",
       "value": 589
      }
     },
     "03405f82b2e24059b91d13b43f71d37f": {
      "model_module": "@jupyter-widgets/controls",
      "model_module_version": "2.0.0",
      "model_name": "HBoxModel",
      "state": {
       "children": [
        "IPY_MODEL_f33154e1074a4cb48126d3ad3b390e30",
        "IPY_MODEL_f579e6d2766a4cd69da7600b2ba21abf",
        "IPY_MODEL_7c025fe9665d4a93be33870ef7978919"
       ],
       "layout": "IPY_MODEL_81aae4d8694e4f26acc3fe5a3292dbaf"
      }
     },
     "059502dea8e04178bfea2be061d55fcb": {
      "model_module": "@jupyter-widgets/controls",
      "model_module_version": "2.0.0",
      "model_name": "ProgressStyleModel",
      "state": {
       "description_width": ""
      }
     },
     "05c0bea3e7d947cabdd4f1f615a49dd5": {
      "model_module": "@jupyter-widgets/base",
      "model_module_version": "2.0.0",
      "model_name": "LayoutModel",
      "state": {}
     },
     "09c33197c3f84b1eb0638f18ab4e40df": {
      "model_module": "@jupyter-widgets/base",
      "model_module_version": "2.0.0",
      "model_name": "LayoutModel",
      "state": {}
     },
     "0ae4eaa75d1041ac97dbf55390c610c5": {
      "model_module": "@jupyter-widgets/base",
      "model_module_version": "2.0.0",
      "model_name": "LayoutModel",
      "state": {}
     },
     "0ef13ec0b8154a29a2e39b66a6e925c1": {
      "model_module": "@jupyter-widgets/base",
      "model_module_version": "2.0.0",
      "model_name": "LayoutModel",
      "state": {}
     },
     "0f312d42261843ff8853b794442e21e7": {
      "model_module": "@jupyter-widgets/base",
      "model_module_version": "2.0.0",
      "model_name": "LayoutModel",
      "state": {}
     },
     "1068d792de894a50a79bcd932eec042c": {
      "model_module": "@jupyter-widgets/controls",
      "model_module_version": "2.0.0",
      "model_name": "HTMLStyleModel",
      "state": {
       "description_width": "",
       "font_size": null,
       "text_color": null
      }
     },
     "158154701499445e90662c0b8c7e9b55": {
      "model_module": "@jupyter-widgets/base",
      "model_module_version": "2.0.0",
      "model_name": "LayoutModel",
      "state": {}
     },
     "15c4c580a705478aadd68e3c6e421329": {
      "model_module": "@jupyter-widgets/controls",
      "model_module_version": "2.0.0",
      "model_name": "FloatProgressModel",
      "state": {
       "bar_style": "success",
       "layout": "IPY_MODEL_05c0bea3e7d947cabdd4f1f615a49dd5",
       "max": 995526,
       "style": "IPY_MODEL_2a0215a54a4a47c7a8aa275d97b1e14d",
       "value": 995526
      }
     },
     "1810316c7cfc4bb2804a1e05cf92c4bc": {
      "model_module": "@jupyter-widgets/controls",
      "model_module_version": "2.0.0",
      "model_name": "HTMLStyleModel",
      "state": {
       "description_width": "",
       "font_size": null,
       "text_color": null
      }
     },
     "1b311d626fec48549f95efbdb72c1cfd": {
      "model_module": "@jupyter-widgets/base",
      "model_module_version": "2.0.0",
      "model_name": "LayoutModel",
      "state": {}
     },
     "1b5c21b266e943eeb5456408e631b345": {
      "model_module": "@jupyter-widgets/controls",
      "model_module_version": "2.0.0",
      "model_name": "HTMLStyleModel",
      "state": {
       "description_width": "",
       "font_size": null,
       "text_color": null
      }
     },
     "1c0ada735e274e0893dfd6f654875161": {
      "model_module": "@jupyter-widgets/controls",
      "model_module_version": "2.0.0",
      "model_name": "HTMLStyleModel",
      "state": {
       "description_width": "",
       "font_size": null,
       "text_color": null
      }
     },
     "1d797ddb0f4040d288537999d79d24b0": {
      "model_module": "@jupyter-widgets/controls",
      "model_module_version": "2.0.0",
      "model_name": "ProgressStyleModel",
      "state": {
       "description_width": ""
      }
     },
     "20be1f87ea5d401e9648b9489d18ef45": {
      "model_module": "@jupyter-widgets/controls",
      "model_module_version": "2.0.0",
      "model_name": "HTMLModel",
      "state": {
       "layout": "IPY_MODEL_00618b4b630249919fb70e671aba6f82",
       "style": "IPY_MODEL_59dba1b0d047455e8f1a824008dd617b",
       "value": " 466k/466k [00:00&lt;00:00, 6.31MB/s]"
      }
     },
     "20c5b6f738454ebe8731a9101eb6b5b2": {
      "model_module": "@jupyter-widgets/base",
      "model_module_version": "2.0.0",
      "model_name": "LayoutModel",
      "state": {}
     },
     "20f37e75370e4f24b274e4a249f2dfe8": {
      "model_module": "@jupyter-widgets/controls",
      "model_module_version": "2.0.0",
      "model_name": "HBoxModel",
      "state": {
       "children": [
        "IPY_MODEL_242866c29e6f4099a0fc31db1f1fe0b6",
        "IPY_MODEL_9b6b60e6c3ce45eda9f2e08b486e20ea",
        "IPY_MODEL_33f61251c6294ce3aadecb1d7d03bb2e"
       ],
       "layout": "IPY_MODEL_299ace98d0de4eac96dc6220c6393041"
      }
     },
     "2305721ab0fe4bc694e234bee66955f7": {
      "model_module": "@jupyter-widgets/controls",
      "model_module_version": "2.0.0",
      "model_name": "HTMLStyleModel",
      "state": {
       "description_width": "",
       "font_size": null,
       "text_color": null
      }
     },
     "242866c29e6f4099a0fc31db1f1fe0b6": {
      "model_module": "@jupyter-widgets/controls",
      "model_module_version": "2.0.0",
      "model_name": "HTMLModel",
      "state": {
       "layout": "IPY_MODEL_879af11eb73640e88953c3d44a517f72",
       "style": "IPY_MODEL_fdf953edd1ba4fc88578ca6b467a44f6",
       "value": "config.json: 100%"
      }
     },
     "25b57b9ca97e49e382cd594f28c8d855": {
      "model_module": "@jupyter-widgets/base",
      "model_module_version": "2.0.0",
      "model_name": "LayoutModel",
      "state": {}
     },
     "2677f545d7ab460e98b5fb5108666cfd": {
      "model_module": "@jupyter-widgets/controls",
      "model_module_version": "2.0.0",
      "model_name": "HTMLStyleModel",
      "state": {
       "description_width": "",
       "font_size": null,
       "text_color": null
      }
     },
     "26b6cd32b80d4459954a64e7424b20ce": {
      "model_module": "@jupyter-widgets/controls",
      "model_module_version": "2.0.0",
      "model_name": "HTMLStyleModel",
      "state": {
       "description_width": "",
       "font_size": null,
       "text_color": null
      }
     },
     "299ace98d0de4eac96dc6220c6393041": {
      "model_module": "@jupyter-widgets/base",
      "model_module_version": "2.0.0",
      "model_name": "LayoutModel",
      "state": {}
     },
     "29bc930f35eb49058364ea70139058c4": {
      "model_module": "@jupyter-widgets/controls",
      "model_module_version": "2.0.0",
      "model_name": "HTMLModel",
      "state": {
       "layout": "IPY_MODEL_1b311d626fec48549f95efbdb72c1cfd",
       "style": "IPY_MODEL_6a7b68f96ef24e849e95cd9a466ec317",
       "value": " 996k/996k [00:00&lt;00:00, 17.9MB/s]"
      }
     },
     "2a0215a54a4a47c7a8aa275d97b1e14d": {
      "model_module": "@jupyter-widgets/controls",
      "model_module_version": "2.0.0",
      "model_name": "ProgressStyleModel",
      "state": {
       "description_width": ""
      }
     },
     "2bcde9f812dd4cffb5b346ab3c68c7fd": {
      "model_module": "@jupyter-widgets/controls",
      "model_module_version": "2.0.0",
      "model_name": "HTMLStyleModel",
      "state": {
       "description_width": "",
       "font_size": null,
       "text_color": null
      }
     },
     "2cd69129d32c43b985dab9eaa0a3074e": {
      "model_module": "@jupyter-widgets/controls",
      "model_module_version": "2.0.0",
      "model_name": "HTMLStyleModel",
      "state": {
       "description_width": "",
       "font_size": null,
       "text_color": null
      }
     },
     "2efdfb58641148b5aa4270dde7d87027": {
      "model_module": "@jupyter-widgets/controls",
      "model_module_version": "2.0.0",
      "model_name": "HTMLModel",
      "state": {
       "layout": "IPY_MODEL_4c98b395e8734874852078b998e8171a",
       "style": "IPY_MODEL_4e7e4b9a801f44f4bc387b9803581b3d",
       "value": "pytorch_model.bin: 100%"
      }
     },
     "2f876d2e9d7b4cf4824634bfc86708e3": {
      "model_module": "@jupyter-widgets/controls",
      "model_module_version": "2.0.0",
      "model_name": "HTMLModel",
      "state": {
       "layout": "IPY_MODEL_dd058d53ca7c444b9d6decf9ae76a8be",
       "style": "IPY_MODEL_1c0ada735e274e0893dfd6f654875161",
       "value": " 48.0/48.0 [00:00&lt;00:00, 4.22kB/s]"
      }
     },
     "3374b894ac5048f0b9eddab555c17e80": {
      "model_module": "@jupyter-widgets/controls",
      "model_module_version": "2.0.0",
      "model_name": "ProgressStyleModel",
      "state": {
       "description_width": ""
      }
     },
     "33f61251c6294ce3aadecb1d7d03bb2e": {
      "model_module": "@jupyter-widgets/controls",
      "model_module_version": "2.0.0",
      "model_name": "HTMLModel",
      "state": {
       "layout": "IPY_MODEL_631ee39cbdf846e0ad39305b90b90f2e",
       "style": "IPY_MODEL_bd9f189aef064e4bab56bac5c3148f3a",
       "value": " 570/570 [00:00&lt;00:00, 61.7kB/s]"
      }
     },
     "36c6cce32247440d97c0d3aed0a0c5fb": {
      "model_module": "@jupyter-widgets/controls",
      "model_module_version": "2.0.0",
      "model_name": "HBoxModel",
      "state": {
       "children": [
        "IPY_MODEL_c5cb24e6e73c4e25a9f15b4a1eb0eb6a",
        "IPY_MODEL_c83917f7a58a4459a04c264f7820a8a2",
        "IPY_MODEL_5d7bb2830ff344edac867443396cd070"
       ],
       "layout": "IPY_MODEL_868f486c313a4f389004e6d927167782"
      }
     },
     "3900ef3ef88f4e5e8c7db627a44b6d41": {
      "model_module": "@jupyter-widgets/controls",
      "model_module_version": "2.0.0",
      "model_name": "HTMLModel",
      "state": {
       "layout": "IPY_MODEL_3f4d31302525445f83c5e4027f336052",
       "style": "IPY_MODEL_1810316c7cfc4bb2804a1e05cf92c4bc",
       "value": "config.json: 100%"
      }
     },
     "3e6aaedf26084022bffce055953e5a57": {
      "model_module": "@jupyter-widgets/base",
      "model_module_version": "2.0.0",
      "model_name": "LayoutModel",
      "state": {}
     },
     "3e8f82f0e8b8446880882e4181fafee9": {
      "model_module": "@jupyter-widgets/base",
      "model_module_version": "2.0.0",
      "model_name": "LayoutModel",
      "state": {}
     },
     "3ea081897aa04f5b81054a75bc38b88e": {
      "model_module": "@jupyter-widgets/base",
      "model_module_version": "2.0.0",
      "model_name": "LayoutModel",
      "state": {}
     },
     "3f4d31302525445f83c5e4027f336052": {
      "model_module": "@jupyter-widgets/base",
      "model_module_version": "2.0.0",
      "model_name": "LayoutModel",
      "state": {}
     },
     "3f580ec537da4253b69ffb8c5c59c8a9": {
      "model_module": "@jupyter-widgets/base",
      "model_module_version": "2.0.0",
      "model_name": "LayoutModel",
      "state": {}
     },
     "413442d62db54a479ca2d9d72dbced63": {
      "model_module": "@jupyter-widgets/controls",
      "model_module_version": "2.0.0",
      "model_name": "HTMLModel",
      "state": {
       "layout": "IPY_MODEL_93405045ad1a4e39bc45dc3b2d864abf",
       "style": "IPY_MODEL_b8106632845545a28b14726875a64728",
       "value": "tokenizer.json: 100%"
      }
     },
     "44ba4d497e644ebb853c54b64ad83d26": {
      "model_module": "@jupyter-widgets/controls",
      "model_module_version": "2.0.0",
      "model_name": "HTMLStyleModel",
      "state": {
       "description_width": "",
       "font_size": null,
       "text_color": null
      }
     },
     "4b16dc66046c468186db0b9bb6fb607c": {
      "model_module": "@jupyter-widgets/controls",
      "model_module_version": "2.0.0",
      "model_name": "HTMLModel",
      "state": {
       "layout": "IPY_MODEL_ed08cd1f2af04ef4b07256d528e47c04",
       "style": "IPY_MODEL_b0008ee6cbda42afaa3a3de27c02b025",
       "value": "vocab.txt: 100%"
      }
     },
     "4ba7a08e9eec4615b6063bca54f1031d": {
      "model_module": "@jupyter-widgets/controls",
      "model_module_version": "2.0.0",
      "model_name": "HBoxModel",
      "state": {
       "children": [
        "IPY_MODEL_3900ef3ef88f4e5e8c7db627a44b6d41",
        "IPY_MODEL_02f402c8db4a4c60a4494a5793ebe06b",
        "IPY_MODEL_d05a6e4d3cb34860bd4887a468d765f0"
       ],
       "layout": "IPY_MODEL_0f312d42261843ff8853b794442e21e7"
      }
     },
     "4c98b395e8734874852078b998e8171a": {
      "model_module": "@jupyter-widgets/base",
      "model_module_version": "2.0.0",
      "model_name": "LayoutModel",
      "state": {}
     },
     "4e7e4b9a801f44f4bc387b9803581b3d": {
      "model_module": "@jupyter-widgets/controls",
      "model_module_version": "2.0.0",
      "model_name": "HTMLStyleModel",
      "state": {
       "description_width": "",
       "font_size": null,
       "text_color": null
      }
     },
     "55981c353e6a404680bd7787c5546603": {
      "model_module": "@jupyter-widgets/controls",
      "model_module_version": "2.0.0",
      "model_name": "HBoxModel",
      "state": {
       "children": [
        "IPY_MODEL_2efdfb58641148b5aa4270dde7d87027",
        "IPY_MODEL_ccf8bb71adbc4f6ea8705fade5ab4887",
        "IPY_MODEL_6479b46cac024987a007a23619c04fe5"
       ],
       "layout": "IPY_MODEL_3e8f82f0e8b8446880882e4181fafee9"
      }
     },
     "56113d55e4ae4dd592d59a6188f742fe": {
      "model_module": "@jupyter-widgets/controls",
      "model_module_version": "2.0.0",
      "model_name": "ProgressStyleModel",
      "state": {
       "description_width": ""
      }
     },
     "56c80584162043aab5c71c3d81d747be": {
      "model_module": "@jupyter-widgets/controls",
      "model_module_version": "2.0.0",
      "model_name": "HTMLModel",
      "state": {
       "layout": "IPY_MODEL_158154701499445e90662c0b8c7e9b55",
       "style": "IPY_MODEL_1068d792de894a50a79bcd932eec042c",
       "value": " 232k/232k [00:00&lt;00:00, 3.83MB/s]"
      }
     },
     "59dba1b0d047455e8f1a824008dd617b": {
      "model_module": "@jupyter-widgets/controls",
      "model_module_version": "2.0.0",
      "model_name": "HTMLStyleModel",
      "state": {
       "description_width": "",
       "font_size": null,
       "text_color": null
      }
     },
     "5d7bb2830ff344edac867443396cd070": {
      "model_module": "@jupyter-widgets/controls",
      "model_module_version": "2.0.0",
      "model_name": "HTMLModel",
      "state": {
       "layout": "IPY_MODEL_a8608f039b154fa08b127c85655c9d96",
       "style": "IPY_MODEL_8733a9a8d7fd45adb782606f50bdd4a9",
       "value": " 1.96M/1.96M [00:00&lt;00:00, 34.8MB/s]"
      }
     },
     "6083f826e786443aace3034f36343f87": {
      "model_module": "@jupyter-widgets/controls",
      "model_module_version": "2.0.0",
      "model_name": "HTMLStyleModel",
      "state": {
       "description_width": "",
       "font_size": null,
       "text_color": null
      }
     },
     "6225ef8d72b047deaeaad4561babd450": {
      "model_module": "@jupyter-widgets/base",
      "model_module_version": "2.0.0",
      "model_name": "LayoutModel",
      "state": {}
     },
     "631ee39cbdf846e0ad39305b90b90f2e": {
      "model_module": "@jupyter-widgets/base",
      "model_module_version": "2.0.0",
      "model_name": "LayoutModel",
      "state": {}
     },
     "6479b46cac024987a007a23619c04fe5": {
      "model_module": "@jupyter-widgets/controls",
      "model_module_version": "2.0.0",
      "model_name": "HTMLModel",
      "state": {
       "layout": "IPY_MODEL_0115d4bb4d754a06a5e02bba77388096",
       "style": "IPY_MODEL_6083f826e786443aace3034f36343f87",
       "value": " 438M/438M [00:04&lt;00:00, 90.0MB/s]"
      }
     },
     "6848b5f302a44e07ba44e18cc4ead302": {
      "model_module": "@jupyter-widgets/controls",
      "model_module_version": "2.0.0",
      "model_name": "FloatProgressModel",
      "state": {
       "bar_style": "success",
       "layout": "IPY_MODEL_b5cadf7b3b3e4bd48f58903049361f37",
       "max": 625,
       "style": "IPY_MODEL_f13972d5925e47e0b7266eef7803ee72",
       "value": 625
      }
     },
     "6a7b68f96ef24e849e95cd9a466ec317": {
      "model_module": "@jupyter-widgets/controls",
      "model_module_version": "2.0.0",
      "model_name": "HTMLStyleModel",
      "state": {
       "description_width": "",
       "font_size": null,
       "text_color": null
      }
     },
     "7211aec2d635499894c497c1c1b1da04": {
      "model_module": "@jupyter-widgets/controls",
      "model_module_version": "2.0.0",
      "model_name": "HTMLModel",
      "state": {
       "layout": "IPY_MODEL_b2c91b64de384704ae996b4aa64dd002",
       "style": "IPY_MODEL_26b6cd32b80d4459954a64e7424b20ce",
       "value": " 625/625 [00:00&lt;00:00, 114kB/s]"
      }
     },
     "7342ca22d2e74e81b669bee9006f851d": {
      "model_module": "@jupyter-widgets/base",
      "model_module_version": "2.0.0",
      "model_name": "LayoutModel",
      "state": {}
     },
     "792a992e92414c9aa7351bdb6383ba70": {
      "model_module": "@jupyter-widgets/base",
      "model_module_version": "2.0.0",
      "model_name": "LayoutModel",
      "state": {}
     },
     "7c025fe9665d4a93be33870ef7978919": {
      "model_module": "@jupyter-widgets/controls",
      "model_module_version": "2.0.0",
      "model_name": "HTMLModel",
      "state": {
       "layout": "IPY_MODEL_09c33197c3f84b1eb0638f18ab4e40df",
       "style": "IPY_MODEL_44ba4d497e644ebb853c54b64ad83d26",
       "value": " 49.0/49.0 [00:00&lt;00:00, 5.76kB/s]"
      }
     },
     "7fe80264d3f24a58a9385b1983e8ec9f": {
      "model_module": "@jupyter-widgets/controls",
      "model_module_version": "2.0.0",
      "model_name": "ProgressStyleModel",
      "state": {
       "description_width": ""
      }
     },
     "81aae4d8694e4f26acc3fe5a3292dbaf": {
      "model_module": "@jupyter-widgets/base",
      "model_module_version": "2.0.0",
      "model_name": "LayoutModel",
      "state": {}
     },
     "868f486c313a4f389004e6d927167782": {
      "model_module": "@jupyter-widgets/base",
      "model_module_version": "2.0.0",
      "model_name": "LayoutModel",
      "state": {}
     },
     "8733a9a8d7fd45adb782606f50bdd4a9": {
      "model_module": "@jupyter-widgets/controls",
      "model_module_version": "2.0.0",
      "model_name": "HTMLStyleModel",
      "state": {
       "description_width": "",
       "font_size": null,
       "text_color": null
      }
     },
     "879af11eb73640e88953c3d44a517f72": {
      "model_module": "@jupyter-widgets/base",
      "model_module_version": "2.0.0",
      "model_name": "LayoutModel",
      "state": {}
     },
     "8a8561776d424cb2b23781909ed83ec5": {
      "model_module": "@jupyter-widgets/base",
      "model_module_version": "2.0.0",
      "model_name": "LayoutModel",
      "state": {}
     },
     "90a1345a63594163896130c9109ce06a": {
      "model_module": "@jupyter-widgets/controls",
      "model_module_version": "2.0.0",
      "model_name": "HTMLModel",
      "state": {
       "layout": "IPY_MODEL_b9ae0d1a221e42c8b1b863133176383a",
       "style": "IPY_MODEL_2cd69129d32c43b985dab9eaa0a3074e",
       "value": "vocab.txt: 100%"
      }
     },
     "929b06b271cf44388e7e82dd923f22d4": {
      "model_module": "@jupyter-widgets/controls",
      "model_module_version": "2.0.0",
      "model_name": "HTMLStyleModel",
      "state": {
       "description_width": "",
       "font_size": null,
       "text_color": null
      }
     },
     "93405045ad1a4e39bc45dc3b2d864abf": {
      "model_module": "@jupyter-widgets/base",
      "model_module_version": "2.0.0",
      "model_name": "LayoutModel",
      "state": {}
     },
     "9839c8c130c24bdaa69c12fe391c7e80": {
      "model_module": "@jupyter-widgets/controls",
      "model_module_version": "2.0.0",
      "model_name": "HBoxModel",
      "state": {
       "children": [
        "IPY_MODEL_ea9cfe06603543ec97c8315bfc0055f5",
        "IPY_MODEL_a236e277039941e8867eb6a7acc8f371",
        "IPY_MODEL_56c80584162043aab5c71c3d81d747be"
       ],
       "layout": "IPY_MODEL_c8a8a47eda4c4cbd972cc652b643b80e"
      }
     },
     "9b6b60e6c3ce45eda9f2e08b486e20ea": {
      "model_module": "@jupyter-widgets/controls",
      "model_module_version": "2.0.0",
      "model_name": "FloatProgressModel",
      "state": {
       "bar_style": "success",
       "layout": "IPY_MODEL_3e6aaedf26084022bffce055953e5a57",
       "max": 570,
       "style": "IPY_MODEL_56113d55e4ae4dd592d59a6188f742fe",
       "value": 570
      }
     },
     "a078fbd4d8c3432aaa116a93308a3800": {
      "model_module": "@jupyter-widgets/base",
      "model_module_version": "2.0.0",
      "model_name": "LayoutModel",
      "state": {}
     },
     "a13e1de8d3d645d394c8e850927decc8": {
      "model_module": "@jupyter-widgets/controls",
      "model_module_version": "2.0.0",
      "model_name": "HTMLStyleModel",
      "state": {
       "description_width": "",
       "font_size": null,
       "text_color": null
      }
     },
     "a236e277039941e8867eb6a7acc8f371": {
      "model_module": "@jupyter-widgets/controls",
      "model_module_version": "2.0.0",
      "model_name": "FloatProgressModel",
      "state": {
       "bar_style": "success",
       "layout": "IPY_MODEL_8a8561776d424cb2b23781909ed83ec5",
       "max": 231508,
       "style": "IPY_MODEL_bdaf1642a85649af80fef0ef254ed7b7",
       "value": 231508
      }
     },
     "a2a7d87334c24e3d8d63aea10a10be62": {
      "model_module": "@jupyter-widgets/controls",
      "model_module_version": "2.0.0",
      "model_name": "HBoxModel",
      "state": {
       "children": [
        "IPY_MODEL_a4dd8ead4b9f4db2a2478491fc12302a",
        "IPY_MODEL_6848b5f302a44e07ba44e18cc4ead302",
        "IPY_MODEL_7211aec2d635499894c497c1c1b1da04"
       ],
       "layout": "IPY_MODEL_cca4b492799f4fe688244ff4a4af1ecd"
      }
     },
     "a3830ca3b5fa498ab1246fb241f7b4e9": {
      "model_module": "@jupyter-widgets/controls",
      "model_module_version": "2.0.0",
      "model_name": "ProgressStyleModel",
      "state": {
       "description_width": ""
      }
     },
     "a4dd8ead4b9f4db2a2478491fc12302a": {
      "model_module": "@jupyter-widgets/controls",
      "model_module_version": "2.0.0",
      "model_name": "HTMLModel",
      "state": {
       "layout": "IPY_MODEL_dc867cb70a29492095f311a5e8f5d989",
       "style": "IPY_MODEL_ee15615971ef4a14bc007460f7e811d8",
       "value": "config.json: 100%"
      }
     },
     "a77cdcfa680e4f5882237a8366559056": {
      "model_module": "@jupyter-widgets/controls",
      "model_module_version": "2.0.0",
      "model_name": "FloatProgressModel",
      "state": {
       "bar_style": "success",
       "layout": "IPY_MODEL_7342ca22d2e74e81b669bee9006f851d",
       "max": 466062,
       "style": "IPY_MODEL_1d797ddb0f4040d288537999d79d24b0",
       "value": 466062
      }
     },
     "a8608f039b154fa08b127c85655c9d96": {
      "model_module": "@jupyter-widgets/base",
      "model_module_version": "2.0.0",
      "model_name": "LayoutModel",
      "state": {}
     },
     "afcfa569cd1d4529b63d1dc200bf83c4": {
      "model_module": "@jupyter-widgets/controls",
      "model_module_version": "2.0.0",
      "model_name": "HBoxModel",
      "state": {
       "children": [
        "IPY_MODEL_d60adc2bda0847648fb88ee0eefb2ebe",
        "IPY_MODEL_e614927437c34cb2b41a6efe58e1b4ea",
        "IPY_MODEL_2f876d2e9d7b4cf4824634bfc86708e3"
       ],
       "layout": "IPY_MODEL_ccbc66aa777a4fe189b095a786627f13"
      }
     },
     "afea39456f93425d8c76ff560d68aed8": {
      "model_module": "@jupyter-widgets/base",
      "model_module_version": "2.0.0",
      "model_name": "LayoutModel",
      "state": {}
     },
     "b0008ee6cbda42afaa3a3de27c02b025": {
      "model_module": "@jupyter-widgets/controls",
      "model_module_version": "2.0.0",
      "model_name": "HTMLStyleModel",
      "state": {
       "description_width": "",
       "font_size": null,
       "text_color": null
      }
     },
     "b2c91b64de384704ae996b4aa64dd002": {
      "model_module": "@jupyter-widgets/base",
      "model_module_version": "2.0.0",
      "model_name": "LayoutModel",
      "state": {}
     },
     "b5849e761e0f4450827a11076d9d969a": {
      "model_module": "@jupyter-widgets/controls",
      "model_module_version": "2.0.0",
      "model_name": "HBoxModel",
      "state": {
       "children": [
        "IPY_MODEL_90a1345a63594163896130c9109ce06a",
        "IPY_MODEL_15c4c580a705478aadd68e3c6e421329",
        "IPY_MODEL_29bc930f35eb49058364ea70139058c4"
       ],
       "layout": "IPY_MODEL_d8cb88646d554793b2d7de8c37a9ce81"
      }
     },
     "b5cadf7b3b3e4bd48f58903049361f37": {
      "model_module": "@jupyter-widgets/base",
      "model_module_version": "2.0.0",
      "model_name": "LayoutModel",
      "state": {}
     },
     "b8106632845545a28b14726875a64728": {
      "model_module": "@jupyter-widgets/controls",
      "model_module_version": "2.0.0",
      "model_name": "HTMLStyleModel",
      "state": {
       "description_width": "",
       "font_size": null,
       "text_color": null
      }
     },
     "b9ae0d1a221e42c8b1b863133176383a": {
      "model_module": "@jupyter-widgets/base",
      "model_module_version": "2.0.0",
      "model_name": "LayoutModel",
      "state": {}
     },
     "bab7df45bf654556ae71aa7697629425": {
      "model_module": "@jupyter-widgets/controls",
      "model_module_version": "2.0.0",
      "model_name": "ProgressStyleModel",
      "state": {
       "description_width": ""
      }
     },
     "bd9f189aef064e4bab56bac5c3148f3a": {
      "model_module": "@jupyter-widgets/controls",
      "model_module_version": "2.0.0",
      "model_name": "HTMLStyleModel",
      "state": {
       "description_width": "",
       "font_size": null,
       "text_color": null
      }
     },
     "bdaf1642a85649af80fef0ef254ed7b7": {
      "model_module": "@jupyter-widgets/controls",
      "model_module_version": "2.0.0",
      "model_name": "ProgressStyleModel",
      "state": {
       "description_width": ""
      }
     },
     "c0bb187ef0634b32a7b5e2d2dece7de4": {
      "model_module": "@jupyter-widgets/controls",
      "model_module_version": "2.0.0",
      "model_name": "FloatProgressModel",
      "state": {
       "bar_style": "success",
       "layout": "IPY_MODEL_0ef13ec0b8154a29a2e39b66a6e925c1",
       "max": 528678,
       "style": "IPY_MODEL_bab7df45bf654556ae71aa7697629425",
       "value": 528678
      }
     },
     "c38884f34cbe441bb4a997cbe38c057a": {
      "model_module": "@jupyter-widgets/controls",
      "model_module_version": "2.0.0",
      "model_name": "HTMLModel",
      "state": {
       "layout": "IPY_MODEL_20c5b6f738454ebe8731a9101eb6b5b2",
       "style": "IPY_MODEL_2bcde9f812dd4cffb5b346ab3c68c7fd",
       "value": " 529k/529k [00:00&lt;00:00, 8.62MB/s]"
      }
     },
     "c3dde6a157c34ba298fff7e3a3f032c9": {
      "model_module": "@jupyter-widgets/controls",
      "model_module_version": "2.0.0",
      "model_name": "HBoxModel",
      "state": {
       "children": [
        "IPY_MODEL_413442d62db54a479ca2d9d72dbced63",
        "IPY_MODEL_a77cdcfa680e4f5882237a8366559056",
        "IPY_MODEL_20be1f87ea5d401e9648b9489d18ef45"
       ],
       "layout": "IPY_MODEL_3f580ec537da4253b69ffb8c5c59c8a9"
      }
     },
     "c5cb24e6e73c4e25a9f15b4a1eb0eb6a": {
      "model_module": "@jupyter-widgets/controls",
      "model_module_version": "2.0.0",
      "model_name": "HTMLModel",
      "state": {
       "layout": "IPY_MODEL_25b57b9ca97e49e382cd594f28c8d855",
       "style": "IPY_MODEL_2305721ab0fe4bc694e234bee66955f7",
       "value": "tokenizer.json: 100%"
      }
     },
     "c83917f7a58a4459a04c264f7820a8a2": {
      "model_module": "@jupyter-widgets/controls",
      "model_module_version": "2.0.0",
      "model_name": "FloatProgressModel",
      "state": {
       "bar_style": "success",
       "layout": "IPY_MODEL_cd8726dd9570421896457f3368e03002",
       "max": 1961828,
       "style": "IPY_MODEL_059502dea8e04178bfea2be061d55fcb",
       "value": 1961828
      }
     },
     "c8a8a47eda4c4cbd972cc652b643b80e": {
      "model_module": "@jupyter-widgets/base",
      "model_module_version": "2.0.0",
      "model_name": "LayoutModel",
      "state": {}
     },
     "cca4b492799f4fe688244ff4a4af1ecd": {
      "model_module": "@jupyter-widgets/base",
      "model_module_version": "2.0.0",
      "model_name": "LayoutModel",
      "state": {}
     },
     "ccbc66aa777a4fe189b095a786627f13": {
      "model_module": "@jupyter-widgets/base",
      "model_module_version": "2.0.0",
      "model_name": "LayoutModel",
      "state": {}
     },
     "ccf8bb71adbc4f6ea8705fade5ab4887": {
      "model_module": "@jupyter-widgets/controls",
      "model_module_version": "2.0.0",
      "model_name": "FloatProgressModel",
      "state": {
       "bar_style": "success",
       "layout": "IPY_MODEL_792a992e92414c9aa7351bdb6383ba70",
       "max": 438141995,
       "style": "IPY_MODEL_a3830ca3b5fa498ab1246fb241f7b4e9",
       "value": 438141995
      }
     },
     "cd8726dd9570421896457f3368e03002": {
      "model_module": "@jupyter-widgets/base",
      "model_module_version": "2.0.0",
      "model_name": "LayoutModel",
      "state": {}
     },
     "d05a6e4d3cb34860bd4887a468d765f0": {
      "model_module": "@jupyter-widgets/controls",
      "model_module_version": "2.0.0",
      "model_name": "HTMLModel",
      "state": {
       "layout": "IPY_MODEL_a078fbd4d8c3432aaa116a93308a3800",
       "style": "IPY_MODEL_2677f545d7ab460e98b5fb5108666cfd",
       "value": " 589/589 [00:00&lt;00:00, 59.4kB/s]"
      }
     },
     "d291aaf1cdfb436c804356404faaa45e": {
      "model_module": "@jupyter-widgets/base",
      "model_module_version": "2.0.0",
      "model_name": "LayoutModel",
      "state": {}
     },
     "d60adc2bda0847648fb88ee0eefb2ebe": {
      "model_module": "@jupyter-widgets/controls",
      "model_module_version": "2.0.0",
      "model_name": "HTMLModel",
      "state": {
       "layout": "IPY_MODEL_6225ef8d72b047deaeaad4561babd450",
       "style": "IPY_MODEL_1b5c21b266e943eeb5456408e631b345",
       "value": "tokenizer_config.json: 100%"
      }
     },
     "d8969904c799434ca5b0074c133c1f76": {
      "model_module": "@jupyter-widgets/base",
      "model_module_version": "2.0.0",
      "model_name": "LayoutModel",
      "state": {}
     },
     "d8cb88646d554793b2d7de8c37a9ce81": {
      "model_module": "@jupyter-widgets/base",
      "model_module_version": "2.0.0",
      "model_name": "LayoutModel",
      "state": {}
     },
     "dc867cb70a29492095f311a5e8f5d989": {
      "model_module": "@jupyter-widgets/base",
      "model_module_version": "2.0.0",
      "model_name": "LayoutModel",
      "state": {}
     },
     "dd058d53ca7c444b9d6decf9ae76a8be": {
      "model_module": "@jupyter-widgets/base",
      "model_module_version": "2.0.0",
      "model_name": "LayoutModel",
      "state": {}
     },
     "e614927437c34cb2b41a6efe58e1b4ea": {
      "model_module": "@jupyter-widgets/controls",
      "model_module_version": "2.0.0",
      "model_name": "FloatProgressModel",
      "state": {
       "bar_style": "success",
       "layout": "IPY_MODEL_d8969904c799434ca5b0074c133c1f76",
       "max": 48,
       "style": "IPY_MODEL_7fe80264d3f24a58a9385b1983e8ec9f",
       "value": 48
      }
     },
     "e7c4e560264741ef99c39a3bae9739df": {
      "model_module": "@jupyter-widgets/controls",
      "model_module_version": "2.0.0",
      "model_name": "HBoxModel",
      "state": {
       "children": [
        "IPY_MODEL_4b16dc66046c468186db0b9bb6fb607c",
        "IPY_MODEL_c0bb187ef0634b32a7b5e2d2dece7de4",
        "IPY_MODEL_c38884f34cbe441bb4a997cbe38c057a"
       ],
       "layout": "IPY_MODEL_3ea081897aa04f5b81054a75bc38b88e"
      }
     },
     "ea9cfe06603543ec97c8315bfc0055f5": {
      "model_module": "@jupyter-widgets/controls",
      "model_module_version": "2.0.0",
      "model_name": "HTMLModel",
      "state": {
       "layout": "IPY_MODEL_afea39456f93425d8c76ff560d68aed8",
       "style": "IPY_MODEL_a13e1de8d3d645d394c8e850927decc8",
       "value": "vocab.txt: 100%"
      }
     },
     "ed08cd1f2af04ef4b07256d528e47c04": {
      "model_module": "@jupyter-widgets/base",
      "model_module_version": "2.0.0",
      "model_name": "LayoutModel",
      "state": {}
     },
     "ee15615971ef4a14bc007460f7e811d8": {
      "model_module": "@jupyter-widgets/controls",
      "model_module_version": "2.0.0",
      "model_name": "HTMLStyleModel",
      "state": {
       "description_width": "",
       "font_size": null,
       "text_color": null
      }
     },
     "f0053698231540d088afb32d562a9833": {
      "model_module": "@jupyter-widgets/base",
      "model_module_version": "2.0.0",
      "model_name": "LayoutModel",
      "state": {}
     },
     "f13972d5925e47e0b7266eef7803ee72": {
      "model_module": "@jupyter-widgets/controls",
      "model_module_version": "2.0.0",
      "model_name": "ProgressStyleModel",
      "state": {
       "description_width": ""
      }
     },
     "f33154e1074a4cb48126d3ad3b390e30": {
      "model_module": "@jupyter-widgets/controls",
      "model_module_version": "2.0.0",
      "model_name": "HTMLModel",
      "state": {
       "layout": "IPY_MODEL_0ae4eaa75d1041ac97dbf55390c610c5",
       "style": "IPY_MODEL_929b06b271cf44388e7e82dd923f22d4",
       "value": "tokenizer_config.json: 100%"
      }
     },
     "f579e6d2766a4cd69da7600b2ba21abf": {
      "model_module": "@jupyter-widgets/controls",
      "model_module_version": "2.0.0",
      "model_name": "FloatProgressModel",
      "state": {
       "bar_style": "success",
       "layout": "IPY_MODEL_f0053698231540d088afb32d562a9833",
       "max": 49,
       "style": "IPY_MODEL_02eaedb78abd42f5b51e178e19de9216",
       "value": 49
      }
     },
     "fdf953edd1ba4fc88578ca6b467a44f6": {
      "model_module": "@jupyter-widgets/controls",
      "model_module_version": "2.0.0",
      "model_name": "HTMLStyleModel",
      "state": {
       "description_width": "",
       "font_size": null,
       "text_color": null
      }
     }
    },
    "version_major": 2,
    "version_minor": 0
   }
  }
 },
 "nbformat": 4,
 "nbformat_minor": 4
}
