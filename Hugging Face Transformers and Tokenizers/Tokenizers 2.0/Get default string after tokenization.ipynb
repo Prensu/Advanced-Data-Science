{
 "cells": [
  {
   "cell_type": "markdown",
   "metadata": {
    "height": 30
   },
   "source": [
    "# Tokenizer tokens "
   ]
  },
  {
   "cell_type": "markdown",
   "metadata": {
    "height": 30
   },
   "source": [
    "-Complete code to get string back after series of tokenization\n"
   ]
  },
  {
   "cell_type": "code",
   "execution_count": 1,
   "metadata": {
    "height": 29
   },
   "outputs": [],
   "source": [
    "from transformers import pipeline"
   ]
  },
  {
   "cell_type": "code",
   "execution_count": 4,
   "metadata": {
    "height": 30
   },
   "outputs": [],
   "source": [
    "from transformers import AutoTokenizer"
   ]
  },
  {
   "cell_type": "code",
   "execution_count": 6,
   "metadata": {
    "height": 30
   },
   "outputs": [
    {
     "data": {
      "application/vnd.jupyter.widget-view+json": {
       "model_id": "afcfa569cd1d4529b63d1dc200bf83c4",
       "version_major": 2,
       "version_minor": 0
      },
      "text/plain": [
       "tokenizer_config.json:   0%|          | 0.00/48.0 [00:00<?, ?B/s]"
      ]
     },
     "metadata": {},
     "output_type": "display_data"
    },
    {
     "data": {
      "application/vnd.jupyter.widget-view+json": {
       "model_id": "20f37e75370e4f24b274e4a249f2dfe8",
       "version_major": 2,
       "version_minor": 0
      },
      "text/plain": [
       "config.json:   0%|          | 0.00/570 [00:00<?, ?B/s]"
      ]
     },
     "metadata": {},
     "output_type": "display_data"
    },
    {
     "data": {
      "application/vnd.jupyter.widget-view+json": {
       "model_id": "9839c8c130c24bdaa69c12fe391c7e80",
       "version_major": 2,
       "version_minor": 0
      },
      "text/plain": [
       "vocab.txt:   0%|          | 0.00/232k [00:00<?, ?B/s]"
      ]
     },
     "metadata": {},
     "output_type": "display_data"
    },
    {
     "data": {
      "application/vnd.jupyter.widget-view+json": {
       "model_id": "c3dde6a157c34ba298fff7e3a3f032c9",
       "version_major": 2,
       "version_minor": 0
      },
      "text/plain": [
       "tokenizer.json:   0%|          | 0.00/466k [00:00<?, ?B/s]"
      ]
     },
     "metadata": {},
     "output_type": "display_data"
    }
   ],
   "source": [
    "tokenizer = AutoTokenizer.from_pretrained(\"bert-base-uncased\")"
   ]
  },
  {
   "cell_type": "code",
   "execution_count": 2,
   "metadata": {
    "height": 29
   },
   "outputs": [],
   "source": [
    "sequence=\"Using a transformer language is simple\""
   ]
  },
  {
   "cell_type": "code",
   "execution_count": 7,
   "metadata": {
    "height": 29
   },
   "outputs": [],
   "source": [
    "res=tokenizer(sequence)"
   ]
  },
  {
   "cell_type": "code",
   "execution_count": 8,
   "metadata": {
    "height": 29
   },
   "outputs": [
    {
     "name": "stdout",
     "output_type": "stream",
     "text": [
      "{'input_ids': [101, 2478, 1037, 10938, 2121, 2653, 2003, 3722, 102], 'token_type_ids': [0, 0, 0, 0, 0, 0, 0, 0, 0], 'attention_mask': [1, 1, 1, 1, 1, 1, 1, 1, 1]}\n"
     ]
    }
   ],
   "source": [
    "print(res)"
   ]
  },
  {
   "cell_type": "code",
   "execution_count": 9,
   "metadata": {
    "height": 29
   },
   "outputs": [],
   "source": [
    "tokens=tokenizer.tokenize(sequence)"
   ]
  },
  {
   "cell_type": "code",
   "execution_count": 10,
   "metadata": {
    "height": 29
   },
   "outputs": [
    {
     "name": "stdout",
     "output_type": "stream",
     "text": [
      "['using', 'a', 'transform', '##er', 'language', 'is', 'simple']\n"
     ]
    }
   ],
   "source": [
    "print(tokens)"
   ]
  },
  {
   "cell_type": "code",
   "execution_count": 11,
   "metadata": {
    "height": 29
   },
   "outputs": [],
   "source": [
    "ids=tokenizer.convert_tokens_to_ids(tokens)"
   ]
  },
  {
   "cell_type": "code",
   "execution_count": 12,
   "metadata": {
    "height": 30
   },
   "outputs": [
    {
     "name": "stdout",
     "output_type": "stream",
     "text": [
      "[2478, 1037, 10938, 2121, 2653, 2003, 3722]\n"
     ]
    }
   ],
   "source": [
    "print(ids)"
   ]
  },
  {
   "cell_type": "code",
   "execution_count": 13,
   "metadata": {
    "height": 30
   },
   "outputs": [],
   "source": [
    "decoded_string=tokenizer.decode(ids)"
   ]
  },
  {
   "cell_type": "code",
   "execution_count": 14,
   "metadata": {
    "height": 30
   },
   "outputs": [
    {
     "name": "stdout",
     "output_type": "stream",
     "text": [
      "using a transformer language is simple\n"
     ]
    }
   ],
   "source": [
    "print(decoded_string)"
   ]
  }
 ],
 "metadata": {
  "colab": {
   "provenance": []
  },
  "kernelspec": {
   "display_name": "Python 3 (ipykernel)",
   "language": "python",
   "name": "python3"
  },
  "language_info": {
   "codemirror_mode": {
    "name": "ipython",
    "version": 3
   },
   "file_extension": ".py",
   "mimetype": "text/x-python",
   "name": "python",
   "nbconvert_exporter": "python",
   "pygments_lexer": "ipython3",
   "version": "3.9.19"
  },
  "widgets": {
   "application/vnd.jupyter.widget-state+json": {
    "state": {
     "00618b4b630249919fb70e671aba6f82": {
      "model_module": "@jupyter-widgets/base",
      "model_module_version": "2.0.0",
      "model_name": "LayoutModel",
      "state": {}
     },
     "1068d792de894a50a79bcd932eec042c": {
      "model_module": "@jupyter-widgets/controls",
      "model_module_version": "2.0.0",
      "model_name": "HTMLStyleModel",
      "state": {
       "description_width": "",
       "font_size": null,
       "text_color": null
      }
     },
     "158154701499445e90662c0b8c7e9b55": {
      "model_module": "@jupyter-widgets/base",
      "model_module_version": "2.0.0",
      "model_name": "LayoutModel",
      "state": {}
     },
     "1b5c21b266e943eeb5456408e631b345": {
      "model_module": "@jupyter-widgets/controls",
      "model_module_version": "2.0.0",
      "model_name": "HTMLStyleModel",
      "state": {
       "description_width": "",
       "font_size": null,
       "text_color": null
      }
     },
     "1c0ada735e274e0893dfd6f654875161": {
      "model_module": "@jupyter-widgets/controls",
      "model_module_version": "2.0.0",
      "model_name": "HTMLStyleModel",
      "state": {
       "description_width": "",
       "font_size": null,
       "text_color": null
      }
     },
     "1d797ddb0f4040d288537999d79d24b0": {
      "model_module": "@jupyter-widgets/controls",
      "model_module_version": "2.0.0",
      "model_name": "ProgressStyleModel",
      "state": {
       "description_width": ""
      }
     },
     "20be1f87ea5d401e9648b9489d18ef45": {
      "model_module": "@jupyter-widgets/controls",
      "model_module_version": "2.0.0",
      "model_name": "HTMLModel",
      "state": {
       "layout": "IPY_MODEL_00618b4b630249919fb70e671aba6f82",
       "style": "IPY_MODEL_59dba1b0d047455e8f1a824008dd617b",
       "value": " 466k/466k [00:00&lt;00:00, 6.31MB/s]"
      }
     },
     "20f37e75370e4f24b274e4a249f2dfe8": {
      "model_module": "@jupyter-widgets/controls",
      "model_module_version": "2.0.0",
      "model_name": "HBoxModel",
      "state": {
       "children": [
        "IPY_MODEL_242866c29e6f4099a0fc31db1f1fe0b6",
        "IPY_MODEL_9b6b60e6c3ce45eda9f2e08b486e20ea",
        "IPY_MODEL_33f61251c6294ce3aadecb1d7d03bb2e"
       ],
       "layout": "IPY_MODEL_299ace98d0de4eac96dc6220c6393041"
      }
     },
     "242866c29e6f4099a0fc31db1f1fe0b6": {
      "model_module": "@jupyter-widgets/controls",
      "model_module_version": "2.0.0",
      "model_name": "HTMLModel",
      "state": {
       "layout": "IPY_MODEL_879af11eb73640e88953c3d44a517f72",
       "style": "IPY_MODEL_fdf953edd1ba4fc88578ca6b467a44f6",
       "value": "config.json: 100%"
      }
     },
     "299ace98d0de4eac96dc6220c6393041": {
      "model_module": "@jupyter-widgets/base",
      "model_module_version": "2.0.0",
      "model_name": "LayoutModel",
      "state": {}
     },
     "2f876d2e9d7b4cf4824634bfc86708e3": {
      "model_module": "@jupyter-widgets/controls",
      "model_module_version": "2.0.0",
      "model_name": "HTMLModel",
      "state": {
       "layout": "IPY_MODEL_dd058d53ca7c444b9d6decf9ae76a8be",
       "style": "IPY_MODEL_1c0ada735e274e0893dfd6f654875161",
       "value": " 48.0/48.0 [00:00&lt;00:00, 4.22kB/s]"
      }
     },
     "33f61251c6294ce3aadecb1d7d03bb2e": {
      "model_module": "@jupyter-widgets/controls",
      "model_module_version": "2.0.0",
      "model_name": "HTMLModel",
      "state": {
       "layout": "IPY_MODEL_631ee39cbdf846e0ad39305b90b90f2e",
       "style": "IPY_MODEL_bd9f189aef064e4bab56bac5c3148f3a",
       "value": " 570/570 [00:00&lt;00:00, 61.7kB/s]"
      }
     },
     "3e6aaedf26084022bffce055953e5a57": {
      "model_module": "@jupyter-widgets/base",
      "model_module_version": "2.0.0",
      "model_name": "LayoutModel",
      "state": {}
     },
     "3f580ec537da4253b69ffb8c5c59c8a9": {
      "model_module": "@jupyter-widgets/base",
      "model_module_version": "2.0.0",
      "model_name": "LayoutModel",
      "state": {}
     },
     "413442d62db54a479ca2d9d72dbced63": {
      "model_module": "@jupyter-widgets/controls",
      "model_module_version": "2.0.0",
      "model_name": "HTMLModel",
      "state": {
       "layout": "IPY_MODEL_93405045ad1a4e39bc45dc3b2d864abf",
       "style": "IPY_MODEL_b8106632845545a28b14726875a64728",
       "value": "tokenizer.json: 100%"
      }
     },
     "56113d55e4ae4dd592d59a6188f742fe": {
      "model_module": "@jupyter-widgets/controls",
      "model_module_version": "2.0.0",
      "model_name": "ProgressStyleModel",
      "state": {
       "description_width": ""
      }
     },
     "56c80584162043aab5c71c3d81d747be": {
      "model_module": "@jupyter-widgets/controls",
      "model_module_version": "2.0.0",
      "model_name": "HTMLModel",
      "state": {
       "layout": "IPY_MODEL_158154701499445e90662c0b8c7e9b55",
       "style": "IPY_MODEL_1068d792de894a50a79bcd932eec042c",
       "value": " 232k/232k [00:00&lt;00:00, 3.83MB/s]"
      }
     },
     "59dba1b0d047455e8f1a824008dd617b": {
      "model_module": "@jupyter-widgets/controls",
      "model_module_version": "2.0.0",
      "model_name": "HTMLStyleModel",
      "state": {
       "description_width": "",
       "font_size": null,
       "text_color": null
      }
     },
     "6225ef8d72b047deaeaad4561babd450": {
      "model_module": "@jupyter-widgets/base",
      "model_module_version": "2.0.0",
      "model_name": "LayoutModel",
      "state": {}
     },
     "631ee39cbdf846e0ad39305b90b90f2e": {
      "model_module": "@jupyter-widgets/base",
      "model_module_version": "2.0.0",
      "model_name": "LayoutModel",
      "state": {}
     },
     "7342ca22d2e74e81b669bee9006f851d": {
      "model_module": "@jupyter-widgets/base",
      "model_module_version": "2.0.0",
      "model_name": "LayoutModel",
      "state": {}
     },
     "7fe80264d3f24a58a9385b1983e8ec9f": {
      "model_module": "@jupyter-widgets/controls",
      "model_module_version": "2.0.0",
      "model_name": "ProgressStyleModel",
      "state": {
       "description_width": ""
      }
     },
     "879af11eb73640e88953c3d44a517f72": {
      "model_module": "@jupyter-widgets/base",
      "model_module_version": "2.0.0",
      "model_name": "LayoutModel",
      "state": {}
     },
     "8a8561776d424cb2b23781909ed83ec5": {
      "model_module": "@jupyter-widgets/base",
      "model_module_version": "2.0.0",
      "model_name": "LayoutModel",
      "state": {}
     },
     "93405045ad1a4e39bc45dc3b2d864abf": {
      "model_module": "@jupyter-widgets/base",
      "model_module_version": "2.0.0",
      "model_name": "LayoutModel",
      "state": {}
     },
     "9839c8c130c24bdaa69c12fe391c7e80": {
      "model_module": "@jupyter-widgets/controls",
      "model_module_version": "2.0.0",
      "model_name": "HBoxModel",
      "state": {
       "children": [
        "IPY_MODEL_ea9cfe06603543ec97c8315bfc0055f5",
        "IPY_MODEL_a236e277039941e8867eb6a7acc8f371",
        "IPY_MODEL_56c80584162043aab5c71c3d81d747be"
       ],
       "layout": "IPY_MODEL_c8a8a47eda4c4cbd972cc652b643b80e"
      }
     },
     "9b6b60e6c3ce45eda9f2e08b486e20ea": {
      "model_module": "@jupyter-widgets/controls",
      "model_module_version": "2.0.0",
      "model_name": "FloatProgressModel",
      "state": {
       "bar_style": "success",
       "layout": "IPY_MODEL_3e6aaedf26084022bffce055953e5a57",
       "max": 570,
       "style": "IPY_MODEL_56113d55e4ae4dd592d59a6188f742fe",
       "value": 570
      }
     },
     "a13e1de8d3d645d394c8e850927decc8": {
      "model_module": "@jupyter-widgets/controls",
      "model_module_version": "2.0.0",
      "model_name": "HTMLStyleModel",
      "state": {
       "description_width": "",
       "font_size": null,
       "text_color": null
      }
     },
     "a236e277039941e8867eb6a7acc8f371": {
      "model_module": "@jupyter-widgets/controls",
      "model_module_version": "2.0.0",
      "model_name": "FloatProgressModel",
      "state": {
       "bar_style": "success",
       "layout": "IPY_MODEL_8a8561776d424cb2b23781909ed83ec5",
       "max": 231508,
       "style": "IPY_MODEL_bdaf1642a85649af80fef0ef254ed7b7",
       "value": 231508
      }
     },
     "a77cdcfa680e4f5882237a8366559056": {
      "model_module": "@jupyter-widgets/controls",
      "model_module_version": "2.0.0",
      "model_name": "FloatProgressModel",
      "state": {
       "bar_style": "success",
       "layout": "IPY_MODEL_7342ca22d2e74e81b669bee9006f851d",
       "max": 466062,
       "style": "IPY_MODEL_1d797ddb0f4040d288537999d79d24b0",
       "value": 466062
      }
     },
     "afcfa569cd1d4529b63d1dc200bf83c4": {
      "model_module": "@jupyter-widgets/controls",
      "model_module_version": "2.0.0",
      "model_name": "HBoxModel",
      "state": {
       "children": [
        "IPY_MODEL_d60adc2bda0847648fb88ee0eefb2ebe",
        "IPY_MODEL_e614927437c34cb2b41a6efe58e1b4ea",
        "IPY_MODEL_2f876d2e9d7b4cf4824634bfc86708e3"
       ],
       "layout": "IPY_MODEL_ccbc66aa777a4fe189b095a786627f13"
      }
     },
     "afea39456f93425d8c76ff560d68aed8": {
      "model_module": "@jupyter-widgets/base",
      "model_module_version": "2.0.0",
      "model_name": "LayoutModel",
      "state": {}
     },
     "b8106632845545a28b14726875a64728": {
      "model_module": "@jupyter-widgets/controls",
      "model_module_version": "2.0.0",
      "model_name": "HTMLStyleModel",
      "state": {
       "description_width": "",
       "font_size": null,
       "text_color": null
      }
     },
     "bd9f189aef064e4bab56bac5c3148f3a": {
      "model_module": "@jupyter-widgets/controls",
      "model_module_version": "2.0.0",
      "model_name": "HTMLStyleModel",
      "state": {
       "description_width": "",
       "font_size": null,
       "text_color": null
      }
     },
     "bdaf1642a85649af80fef0ef254ed7b7": {
      "model_module": "@jupyter-widgets/controls",
      "model_module_version": "2.0.0",
      "model_name": "ProgressStyleModel",
      "state": {
       "description_width": ""
      }
     },
     "c3dde6a157c34ba298fff7e3a3f032c9": {
      "model_module": "@jupyter-widgets/controls",
      "model_module_version": "2.0.0",
      "model_name": "HBoxModel",
      "state": {
       "children": [
        "IPY_MODEL_413442d62db54a479ca2d9d72dbced63",
        "IPY_MODEL_a77cdcfa680e4f5882237a8366559056",
        "IPY_MODEL_20be1f87ea5d401e9648b9489d18ef45"
       ],
       "layout": "IPY_MODEL_3f580ec537da4253b69ffb8c5c59c8a9"
      }
     },
     "c8a8a47eda4c4cbd972cc652b643b80e": {
      "model_module": "@jupyter-widgets/base",
      "model_module_version": "2.0.0",
      "model_name": "LayoutModel",
      "state": {}
     },
     "ccbc66aa777a4fe189b095a786627f13": {
      "model_module": "@jupyter-widgets/base",
      "model_module_version": "2.0.0",
      "model_name": "LayoutModel",
      "state": {}
     },
     "d60adc2bda0847648fb88ee0eefb2ebe": {
      "model_module": "@jupyter-widgets/controls",
      "model_module_version": "2.0.0",
      "model_name": "HTMLModel",
      "state": {
       "layout": "IPY_MODEL_6225ef8d72b047deaeaad4561babd450",
       "style": "IPY_MODEL_1b5c21b266e943eeb5456408e631b345",
       "value": "tokenizer_config.json: 100%"
      }
     },
     "d8969904c799434ca5b0074c133c1f76": {
      "model_module": "@jupyter-widgets/base",
      "model_module_version": "2.0.0",
      "model_name": "LayoutModel",
      "state": {}
     },
     "dd058d53ca7c444b9d6decf9ae76a8be": {
      "model_module": "@jupyter-widgets/base",
      "model_module_version": "2.0.0",
      "model_name": "LayoutModel",
      "state": {}
     },
     "e614927437c34cb2b41a6efe58e1b4ea": {
      "model_module": "@jupyter-widgets/controls",
      "model_module_version": "2.0.0",
      "model_name": "FloatProgressModel",
      "state": {
       "bar_style": "success",
       "layout": "IPY_MODEL_d8969904c799434ca5b0074c133c1f76",
       "max": 48,
       "style": "IPY_MODEL_7fe80264d3f24a58a9385b1983e8ec9f",
       "value": 48
      }
     },
     "ea9cfe06603543ec97c8315bfc0055f5": {
      "model_module": "@jupyter-widgets/controls",
      "model_module_version": "2.0.0",
      "model_name": "HTMLModel",
      "state": {
       "layout": "IPY_MODEL_afea39456f93425d8c76ff560d68aed8",
       "style": "IPY_MODEL_a13e1de8d3d645d394c8e850927decc8",
       "value": "vocab.txt: 100%"
      }
     },
     "fdf953edd1ba4fc88578ca6b467a44f6": {
      "model_module": "@jupyter-widgets/controls",
      "model_module_version": "2.0.0",
      "model_name": "HTMLStyleModel",
      "state": {
       "description_width": "",
       "font_size": null,
       "text_color": null
      }
     }
    },
    "version_major": 2,
    "version_minor": 0
   }
  }
 },
 "nbformat": 4,
 "nbformat_minor": 4
}
