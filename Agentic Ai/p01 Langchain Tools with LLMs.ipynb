{
 "cells": [
  {
   "cell_type": "markdown",
   "metadata": {},
   "source": [
    "First Program with Langchain tools \n",
    "\n",
    "1) Building a simple agent with Langchain\n",
    "2) Create a mathematical Toolkit that allows an AI agent to perform basic arithmetic operations through natural language interaction\n",
    "3) How agent can understand and solve mathematical queries  breaking down the complex operations into simpler steps\n",
    "\n",
    "\n"
   ]
  },
  {
   "cell_type": "markdown",
   "metadata": {},
   "source": [
    "# Table of Contents\n",
    "\n",
    "1. [Objectives](#Objectives)\n",
    "2. [Setup](#Setup)\n",
    "3. [Installing required libraries](#Installing-required-libraries)\n",
    "4. [Loading the LLM: Choosing the right language model](#Loading-the-LLM:-Choosing-the-right-language-model)\n",
    "5. [Function](#Function)\n",
    "   - 5.1 [Tool](#Tool)\n",
    "   - 5.2 [initialize_agent](#initialize_agent)\n",
    "6. [Relationship between agent and LLM](#Relationship-between-agent-and-LLM)\n",
    "7. [Key parameters of initialize_agent](#Key-parameters-of-initialize_agent)\n",
    "8. [Orchestrating multiple tools with an agent: Mathematical toolkit](#Orchestrating-multiple-tools-with-an-agent:-Mathematical-toolkit)\n",
    "   - 8.1 [Subtraction tool](#Subtraction-tool)\n",
    "9. [Building the agent](#Building-the-agent)\n",
    "   - 9.1 [Exploring LangChain's built-in tools](#Exploring-LangChain's-built-in-tools)\n",
    "   - 9.2 [Popular built-in tools](#Popular-built-in-tools)\n",
    "   - 9.3 [Example: Using the Wikipedia tool](#Example:-Using-the-Wikipedia-tool)\n",
    "10. [Exercise: Create a power tool to calculate exponents](#Exercise:-Create-a-power-tool-to-calculate-exponents)\n",
    "    - 10.1 [Objective](#Objective)\n",
    "    - 10.2 [Step 1: Create the power tool](#Step-1:-Create-the-power-tool)\n",
    "    - 10.3 [Step 2: Create an agent with the power tool](#Step-2:-Create-an-agent-with-the-power-tool)\n",
    "    - 10.4 [Step 3: Test the agent](#Step-3:-Test-the-agent)\n",
    "11. [Authors](#authors)\n"
   ]
  },
  {
   "cell_type": "markdown",
   "metadata": {},
   "source": [
    "## Objectives\n",
    "\n",
    "After completing this lab, you will be able to:\n",
    "\n",
    "- Explain the concept of tools in LangChain\n",
    "- Create custom tools for specific tasks\n",
    "- Build an AI agent that can use multiple tools\n",
    "- Debug and improve tool functionality\n",
    "- Test tool implementations with various inputs\n"
   ]
  },
  {
   "cell_type": "markdown",
   "metadata": {},
   "source": [
    "----\n"
   ]
  },
  {
   "cell_type": "markdown",
   "metadata": {},
   "source": [
    "## Setup\n"
   ]
  },
  {
   "cell_type": "markdown",
   "metadata": {},
   "source": [
    "\n",
    "For this lab, you will use the following libraries:\n",
    "\n",
    "- **`langchain`**: For creating AI agents and tools\n",
    "- **`langchain.chat_models`**: For accessing language models\n",
    "- **`langchain.agents`**: For creating and managing AI agents\n",
    "\n",
    "---\n",
    "\n",
    "## Installing required libraries\n",
    "\n",
    "The following required libraries are __not__ pre-installed in the Skills Network Labs environment. __You will need to run the following cell__ to install them:\n"
   ]
  },
  {
   "cell_type": "code",
   "execution_count": 1,
   "metadata": {},
   "outputs": [
    {
     "name": "stdout",
     "output_type": "stream",
     "text": [
      "Successfully installed langchain-0.3.23 langchain-core-0.3.65 langchain-text-splitters-0.3.8 langsmith-0.3.45 orjson-3.10.18 requests-toolbelt-1.0.0\n",
      "Note: you may need to restart the kernel to use updated packages.\n",
      "Successfully installed ibm-cos-sdk-2.14.2 ibm-cos-sdk-core-2.14.2 ibm-cos-sdk-s3transfer-2.14.2 ibm-watsonx-ai-1.3.26 jmespath-1.0.1 langchain-ibm-0.3.10 lomond-0.3.3 numpy-2.3.0 pandas-2.2.3 requests-2.32.4 tabulate-0.9.0 tzdata-2025.2\n",
      "Note: you may need to restart the kernel to use updated packages.\n",
      "Successfully installed dataclasses-json-0.6.7 httpx-sse-0.4.0 langchain-community-0.3.16 marshmallow-3.26.1 mypy-extensions-1.1.0 pydantic-settings-2.9.1 python-dotenv-1.1.0 typing-inspect-0.9.0 typing-inspection-0.4.1\n",
      "Note: you may need to restart the kernel to use updated packages.\n",
      "Successfully installed wikipedia-1.4.0\n",
      "Note: you may need to restart the kernel to use updated packages.\n",
      "Successfully installed jiter-0.10.0 openai-1.77.0\n",
      "Note: you may need to restart the kernel to use updated packages.\n",
      "Successfully installed langchain-openai-0.3.16 regex-2024.11.6 tiktoken-0.9.0\n",
      "Note: you may need to restart the kernel to use updated packages.\n"
     ]
    }
   ],
   "source": [
    "%pip install langchain==0.3.23 | tail -n 1 \n",
    "%pip install langchain-ibm==0.3.10 | tail -n 1 \n",
    "%pip install langchain-community==0.3.16 | tail -n 1 \n",
    "%pip install wikipedia==1.4.0 | tail -n 1\n",
    "%pip install openai==1.77.0 | tail -n 1\n",
    "%pip install langchain-openai==0.3.16 | tail -n 1"
   ]
  },
  {
   "cell_type": "markdown",
   "metadata": {},
   "source": [
    "## Import the required libraries\n"
   ]
  },
  {
   "cell_type": "code",
   "execution_count": 2,
   "metadata": {},
   "outputs": [],
   "source": [
    "from langchain_ibm import ChatWatsonx\n",
    "from langchain.agents import AgentType\n",
    "import re"
   ]
  },
  {
   "cell_type": "markdown",
   "metadata": {},
   "source": [
    "## Loading the LLM: Choosing the right language model\n",
    "\n",
    "In this example, IBM’s `ChatWatsonx`will be used to load a language model (LLM) for interacting with tools. IBM’s models, like Granite 3.2 and Granite 3.3, are highly versatile and excel at advanced reasoning tasks.\n",
    "\n",
    "That said, other providers offer LLMs with different strengths:\n",
    "\n",
    "- **OpenAI (GPT-4/GPT-3.5)**: Best for versatility and advanced reasoning.\n",
    "- **Facebook (Meta, LLaMA)**: Open-access, highly customizable for specialized use cases.\n",
    "- **IBM WatsonX Granite**: Ideal for enterprise applications with seamless integration.\n",
    "- **Anthropic (Claude)**: Focused on safety, reliability, and ethical AI.\n",
    "- **Cohere**: Affordable and efficient for lightweight, task-specific models.\n",
    "\n",
    "---\n",
    "\n",
    "For this project, you'll use `ChatWatsonx` because:\n",
    "- It offers a simple API for quick setup.\n",
    "- It supports advanced configurations like:\n",
    "  - **`temperature`**: Adjusting randomness of responses.\n",
    "  - **`max_tokens`**: Limiting the length of responses.\n",
    "- IBM’s models are widely regarded as state-of-the-art for general-purpose reasoning and conversation.\n"
   ]
  },
  {
   "cell_type": "code",
   "execution_count": 3,
   "metadata": {},
   "outputs": [],
   "source": [
    "\n",
    "\n",
    "llm = ChatWatsonx(\n",
    "    model_id=\"ibm/granite-3-2-8b-instruct\",\n",
    "    url=\"https://us-south.ml.cloud.ibm.com\",\n",
    "    project_id=\"skills-network\",\n",
    ")"
   ]
  },
  {
   "cell_type": "markdown",
   "metadata": {},
   "source": [
    "Let's generate a simple response:\n"
   ]
  },
  {
   "cell_type": "code",
   "execution_count": 7,
   "metadata": {},
   "outputs": [
    {
     "name": "stdout",
     "output_type": "stream",
     "text": [
      "\n",
      "Response Content:  In the context of Langchain, a project focused on developing language models and tools for AI research, \"tool calling\" generally refers to the mechanism by which external tools or services are invoked or integrated within the framework of their language models or applications.\n",
      "\n",
      "Here's a more detailed explanation:\n",
      "\n",
      "1. **Integration of External Tools**: Langchain's models are not static; they are designed to interface with a wide array of external software tools, databases, or APIs. This allows the models to perform tasks that go beyond basic language processing, such as data analysis, web scraping, or manipulating files.\n",
      "\n",
      "2. **Dynamic Functionality**: Tool calling enables the dynamic extension of the model's capabilities. For instance, a language model in Langchain might be programmed to call a specific API for real-time weather information, a database for factual data, or a translation service for multi-lingual support.\n",
      "\n",
      "3. **Automated Workflows**: Tool calling is a critical component of automated workflows in Langchain. It allows for the creation of end-to-end processes where the language model generates a task or request, which is then automatically handed off to an appropriate tool for completion, and the result is fed back into the model for further processing or response generation.\n",
      "\n",
      "4. **Example**: Consider a Langchain application designed to assist in trip planning. The language model might first ask the user about their travel preferences (destination, date, mode of transport, etc.). Based on these inputs, it could call various tools: a weather API to check the average temperature, a flight booking service to get prices, an accommodation database for hotel reviews, and so on. All the gathered data would then be synthesized into a personalized travel suggestion.\n",
      "\n",
      "In summary, tool calling in Langchain is the method by which their AI models engage with and extend their capabilities through interaction with external tools or services, thereby enabling them to perform complex, multi-step tasks and deliver more sophisticated, accurate, and contextually relevant responses.\n"
     ]
    }
   ],
   "source": [
    "response = llm.invoke(\"What is tool calling in langchain ?\")\n",
    "#print(\"Response 1:\", response)\n",
    "print(\"\\nResponse Content: \", response.content)\n",
    "\n"
   ]
  },
  {
   "cell_type": "markdown",
   "metadata": {},
   "source": [
    "## This verifies that LLM is working fine"
   ]
  },
  {
   "cell_type": "markdown",
   "metadata": {},
   "source": [
    "\n"
   ]
  },
  {
   "cell_type": "markdown",
   "metadata": {},
   "source": [
    "\n",
    "\n",
    "## Function\n",
    "\n",
    "In AI, a **tool** will call a basic **function** or capability that can be called on to perform a specific task. Think of it like a single item in a toolbox: just like a hammer, screwdriver, or wrench, an AI toolbox is full of specific functions designed to solve problems or get things done.\n",
    "\n",
    "When building tools for tool calling, there are a few key principles to keep in mind:\n",
    "\n",
    "1. **Clear purpose**: Make sure the tool has a well-defined job.\n",
    "2. **Standardized input**: The tool should accept input in a predictable, structured format so it’s easy to use.\n",
    "3. **Consistent output**: Always return results in a format that’s easy to process or integrate with other systems.\n",
    "4. **Comprehensive documentation**: Your tool should include clear, simple documentation that explains what it does, how to use it, and any quirks or limitations.\n",
    "\n",
    "Remember, documentation isn’t just for other developers—it’s also for the language model (LLM) to understand the tool’s purpose and how to use it effectively.\n",
    "\n",
    "For this example, you’ll start with a simple tool to add numbers. It’ll check off most of the basic requirements, but one key limitation is that it doesn’t handle **basic error cases**, like ignoring non-numeric input. Improving error handling will make the tool much more robust and ready for real-world use.\n"
   ]
  },
  {
   "cell_type": "code",
   "execution_count": 5,
   "metadata": {},
   "outputs": [],
   "source": [
    "def add_numbers(inputs:str) -> dict:\n",
    "    \"\"\"\n",
    "    Adds a list of numbers provided in the input dictionary or extracts numbers from a string.\n",
    "\n",
    "    Parameters:\n",
    "    - inputs (str): \n",
    "    string, it should contain numbers that can be extracted and summed.\n",
    "\n",
    "    Returns:\n",
    "    - dict: A dictionary with a single key \"result\" containing the sum of the numbers.\n",
    "\n",
    "    Example Input (Dictionary):\n",
    "    {\"numbers\": [10, 20, 30]}\n",
    "\n",
    "    Example Input (String):\n",
    "    \"Add the numbers 10, 20, and 30.\"\n",
    "\n",
    "    Example Output:\n",
    "    {\"result\": 60}\n",
    "    \"\"\"\n",
    "    numbers = [int(x) for x in inputs.replace(\",\", \"\").split() if x.isdigit()]\n",
    "\n",
    "    \n",
    "    result = sum(numbers)\n",
    "    return {\"result\": result}"
   ]
  },
  {
   "cell_type": "markdown",
   "metadata": {},
   "source": [
    "## Defines a function to add numbers extracted from a string input "
   ]
  },
  {
   "cell_type": "code",
   "execution_count": 8,
   "metadata": {},
   "outputs": [
    {
     "data": {
      "text/plain": [
       "{'result': 3}"
      ]
     },
     "execution_count": 8,
     "metadata": {},
     "output_type": "execute_result"
    }
   ],
   "source": [
    "add_numbers(\"1 2\") "
   ]
  },
  {
   "cell_type": "markdown",
   "metadata": {},
   "source": [
    "\n",
    "## Tool\n",
    "The `Tool` class in LangChain serves as a structured wrapper that converts regular Python functions into agent-compatible tools. Each tool needs three key components:\n",
    "1. A name that identifies the tool\n",
    "2. The function that performs the actual operation\n",
    "3. A description that helps the agent understand when to use the tool\n",
    "\n",
    "Testing section improvement:\n",
    "\n",
    "\n"
   ]
  },
  {
   "cell_type": "code",
   "execution_count": 9,
   "metadata": {},
   "outputs": [
    {
     "name": "stdout",
     "output_type": "stream",
     "text": [
      "tool object name='AddTool' description='Adds a list of numbers and returns the result.' func=<function add_numbers at 0x7842ea1c85e0>\n"
     ]
    }
   ],
   "source": [
    "from langchain.agents import  Tool\n",
    "add_tool=Tool(\n",
    "        name=\"AddTool\",\n",
    "        func=add_numbers,\n",
    "        description=\"Adds a list of numbers and returns the result.\")\n",
    "\n",
    "print(\"tool object\",add_tool)"
   ]
  },
  {
   "cell_type": "markdown",
   "metadata": {},
   "source": [
    "# Purpose wraps the add_number function into a langchain Tool object"
   ]
  },
  {
   "cell_type": "markdown",
   "metadata": {},
   "source": [
    "# The Tool class provides a structured interface for the agent to call the function, with metadata to guide its usage."
   ]
  },
  {
   "cell_type": "markdown",
   "metadata": {},
   "source": [
    "Let's see the parameters of the object:\n",
    "\n",
    "- **`name`** (*str*):\n",
    "  - A unique identifier for the tool.\n",
    "\n",
    "  - **Example**: `\"AddTool\"`\n",
    "\n",
    "- **`.invoke`** (*Callable*):\n",
    "  - The function that the tool wraps.\n",
    "  - **Example**: `add_numbers`\n",
    "\n",
    "- **`description`** (*str*):\n",
    "  - A concise explanation of what the tool does.\n",
    "  - **Example**: `\"Adds a list of numbers and returns the result.\"`\n",
    "\n"
   ]
  },
  {
   "cell_type": "markdown",
   "metadata": {},
   "source": [
    "\n",
    "These attributes allow you to inspect the tool object\n"
   ]
  },
  {
   "cell_type": "code",
   "execution_count": 11,
   "metadata": {},
   "outputs": [
    {
     "name": "stdout",
     "output_type": "stream",
     "text": [
      "Tool Name:\n",
      "AddTool\n",
      "Tool Description:\n",
      "Adds a list of numbers and returns the result.\n",
      "Tool Function:\n",
      "<bound method BaseTool.invoke of Tool(name='AddTool', description='Adds a list of numbers and returns the result.', func=<function add_numbers at 0x7842ea1c85e0>)>\n"
     ]
    }
   ],
   "source": [
    "# Tool name\n",
    "print(\"Tool Name:\")\n",
    "print(add_tool.name)\n",
    "\n",
    "# Tool description\n",
    "print(\"Tool Description:\")\n",
    "print(add_tool.description)\n",
    "\n",
    "# Tool function\n",
    "print(\"Tool Function:\")\n",
    "print(add_tool.invoke)\n"
   ]
  },
  {
   "cell_type": "markdown",
   "metadata": {},
   "source": [
    "You can call the tool's function via the ```add_tool``` object:\n"
   ]
  },
  {
   "cell_type": "code",
   "execution_count": 12,
   "metadata": {},
   "outputs": [
    {
     "name": "stdout",
     "output_type": "stream",
     "text": [
      "Calling Tool Function:\n",
      "{'result': 60}\n"
     ]
    }
   ],
   "source": [
    "print(\"Calling Tool Function:\")\n",
    "test_input = \"10 20 30 a b\" \n",
    "print(add_tool.invoke(test_input))  # Example"
   ]
  },
  {
   "cell_type": "markdown",
   "metadata": {},
   "source": [
    "Testing the tool object ensures:\n",
    "\n",
    "1. **The tool is correctly set up**:\n",
    "   - Metadata (`name`, `description`, etc.) is properly defined and aligns with its purpose.\n",
    "   - The function and schema (if applicable) are correctly configured.\n",
    "\n",
    "2. **The wrapped function behaves as expected**:\n",
    "   - The function performs the intended task correctly.\n",
    "   - It handles edge cases and invalid inputs gracefully.\n",
    "\n",
    "3. **The tool integrates smoothly with agents**:\n",
    "   - The tool's output aligns with what the agent expects.\n",
    "   - There are no compatibility issues when the agent calls the tool.\n"
   ]
  },
  {
   "cell_type": "markdown",
   "metadata": {},
   "source": [
    "# the @tool operator is a Python decorator used to define custom tools that an agent can call during execution."
   ]
  },
  {
   "cell_type": "code",
   "execution_count": null,
   "metadata": {},
   "outputs": [],
   "source": []
  },
  {
   "cell_type": "markdown",
   "metadata": {},
   "source": [
    "### `@tool` operator\n",
    "\n",
    "Now you know how to create a tool with a `Tool` class (using Tool Interface), there's actually another way that you can create a tool using `@tool` decorator. The recommended way to create tools is using the `@tool` decorator. This decorator is designed to simplify the process of tool creation and should be used in most cases. After defining a function, you can decorate it with `@tool` to create a tool that implements the Tool Interface.\n",
    "\n",
    "`@tool` opertor makes tools out of functions. See below:\n"
   ]
  },
  {
   "cell_type": "code",
   "execution_count": 13,
   "metadata": {},
   "outputs": [],
   "source": [
    "from langchain_core.tools import tool\n",
    "import re\n",
    "\n",
    "@tool\n",
    "def add_numbers(inputs:str) -> dict:\n",
    "    \"\"\"\n",
    "    Adds a list of numbers provided in the input string.\n",
    "    Parameters:\n",
    "    - inputs (str): \n",
    "    string, it should contain numbers that can be extracted and summed.\n",
    "    Returns:\n",
    "    - dict: A dictionary with a single key \"result\" containing the sum of the numbers.\n",
    "    Example Input:\n",
    "    \"Add the numbers 10, 20, and 30.\"\n",
    "    Example Output:\n",
    "    {\"result\": 60}\n",
    "    \"\"\"\n",
    "    # Use regular expressions to extract all numbers from the input\n",
    "    numbers = [int(num) for num in re.findall(r'\\d+', inputs)]\n",
    "    # numbers = [int(x) for x in inputs.replace(\",\", \"\").split() if x.isdigit()]\n",
    "    \n",
    "    result = sum(numbers)\n",
    "    return {\"result\": result}"
   ]
  },
  {
   "cell_type": "markdown",
   "metadata": {},
   "source": [
    "The @tool decorator automatically creates a StructuredTool with schema information derived from the function’s signature and docstring."
   ]
  },
  {
   "cell_type": "code",
   "execution_count": 14,
   "metadata": {},
   "outputs": [
    {
     "name": "stdout",
     "output_type": "stream",
     "text": [
      "Name: \n",
      " add_numbers\n",
      "Description: \n",
      " Adds a list of numbers provided in the input string.\n",
      "Parameters:\n",
      "- inputs (str): \n",
      "string, it should contain numbers that can be extracted and summed.\n",
      "Returns:\n",
      "- dict: A dictionary with a single key \"result\" containing the sum of the numbers.\n",
      "Example Input:\n",
      "\"Add the numbers 10, 20, and 30.\"\n",
      "Example Output:\n",
      "{\"result\": 60}\n",
      "Args: \n",
      " {'inputs': {'title': 'Inputs', 'type': 'string'}}\n"
     ]
    }
   ],
   "source": [
    "print(\"Name: \\n\", add_numbers.name)\n",
    "print(\"Description: \\n\", add_numbers.description) \n",
    "print(\"Args: \\n\", add_numbers.args) \n"
   ]
  },
  {
   "cell_type": "markdown",
   "metadata": {},
   "source": [
    "You can call the tool using the ```invoke``` method.\n"
   ]
  },
  {
   "cell_type": "code",
   "execution_count": 15,
   "metadata": {},
   "outputs": [
    {
     "name": "stdout",
     "output_type": "stream",
     "text": [
      "{'result': 60}\n"
     ]
    }
   ],
   "source": [
    "test_input = \"what is the sum between 10, 20 and 30 \" \n",
    "print(add_numbers.invoke(test_input)) "
   ]
  },
  {
   "cell_type": "markdown",
   "metadata": {},
   "source": [
    "\n",
    "### Use @tool-StructuredTool\n",
    "\n",
    "The @tool decorator creates a StructuredTool with schema information extracted from function signatures and docstrings as show here. This helps LLMs better understand what inputs the tool expects and how to use it properly. While both approaches work, @tool is generally preferred for modern LangChain applications, especially with LangGraph and function-calling models.\n"
   ]
  },
  {
   "cell_type": "code",
   "execution_count": 16,
   "metadata": {},
   "outputs": [
    {
     "name": "stdout",
     "output_type": "stream",
     "text": [
      "Tool Constructor Approach:\n",
      "Has Schema: True\n",
      "\n",
      "\n",
      "@tool Decorator Approach:\n",
      "Has Schema: True\n",
      "Args Schema Info: {'inputs': {'title': 'Inputs', 'type': 'string'}}\n"
     ]
    }
   ],
   "source": [
    "# Comparing the two approaches\n",
    "print(\"Tool Constructor Approach:\")\n",
    "\n",
    "print(f\"Has Schema: {hasattr(add_tool, 'args_schema')}\")\n",
    "print(\"\\n\")\n",
    "\n",
    "print(\"@tool Decorator Approach:\")\n",
    "\n",
    "\n",
    "print(f\"Has Schema: {hasattr(add_numbers, 'args_schema')}\")\n",
    "print(f\"Args Schema Info: {add_numbers.args}\")"
   ]
  },
  {
   "cell_type": "markdown",
   "metadata": {},
   "source": [
    "In this example, the tool has two inputs: a string containing the numbers to add, and a second boolean input that determines whether to sum the absolute values of those numbers.\n"
   ]
  },
  {
   "cell_type": "code",
   "execution_count": null,
   "metadata": {},
   "outputs": [],
   "source": []
  }
 ],
 "metadata": {
  "kernelspec": {
   "display_name": "Python 3 (ipykernel)",
   "language": "python",
   "name": "python3"
  },
  "language_info": {
   "codemirror_mode": {
    "name": "ipython",
    "version": 3
   },
   "file_extension": ".py",
   "mimetype": "text/x-python",
   "name": "python",
   "nbconvert_exporter": "python",
   "pygments_lexer": "ipython3",
   "version": "3.12.8"
  },
  "prev_pub_hash": "bdaf5a97d253fb3eb925855184c62dea5718e2533d86da0d6acfb52b01059a54"
 },
 "nbformat": 4,
 "nbformat_minor": 4
}
